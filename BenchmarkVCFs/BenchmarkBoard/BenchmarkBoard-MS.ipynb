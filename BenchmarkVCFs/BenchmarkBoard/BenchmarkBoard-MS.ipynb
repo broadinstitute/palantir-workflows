{
 "cells": [
  {
   "cell_type": "code",
   "execution_count": null,
   "id": "e94dadd5-aeb7-4be0-a1c7-15093f206c07",
   "metadata": {},
   "outputs": [],
   "source": [
    "import pandas as pd\n",
    "import numpy as np\n",
    "import plotly.express as px\n",
    "\n",
    "import quickboard.base as qbb\n",
    "import quickboard.plugins as plg\n",
    "from quickboard.app import start_app"
   ]
  },
  {
   "cell_type": "code",
   "execution_count": null,
   "id": "bb21bf04-431f-47c9-b81c-dd9c839318dc",
   "metadata": {},
   "outputs": [],
   "source": []
  },
  {
   "cell_type": "code",
   "execution_count": null,
   "id": "9ca0ff2b-ad4e-49df-8fed-cea58be90845",
   "metadata": {},
   "outputs": [],
   "source": []
  },
  {
   "cell_type": "markdown",
   "id": "da870f32-9825-4627-81d8-5186411f5a90",
   "metadata": {},
   "source": [
    "## User Inputs"
   ]
  },
  {
   "cell_type": "code",
   "execution_count": null,
   "id": "4988e683-1ff0-4e3d-b8bf-471f2d6b6389",
   "metadata": {},
   "outputs": [],
   "source": [
    "# Users must specify column names for quantities to use in making some plots below. See the docs for details.\n",
    "# Toggle optional values here to affect behavior of generated Dashboard.\n",
    "\n",
    "# Fill with column name (or list of column names) to plot x-axis vs benchmark stats, e.g. 'Mean_Coverage' \n",
    "# Users must edit data files to provide the data\n",
    "stat_correlator = None\n",
    "\n",
    "# Display only usual 6 variant types as options in variant type selection; Toggle to False to include other categories like MNP, MA, etc.\n",
    "simple_variants_only = True"
   ]
  },
  {
   "cell_type": "code",
   "execution_count": null,
   "id": "35f1c553-5324-4838-9f14-1da97e6616e8",
   "metadata": {},
   "outputs": [],
   "source": []
  },
  {
   "cell_type": "code",
   "execution_count": null,
   "id": "734389b3-2b20-4539-ab80-5a23e83ca67c",
   "metadata": {},
   "outputs": [],
   "source": []
  },
  {
   "cell_type": "markdown",
   "id": "10006794-0851-4be3-931f-0d56b4dc7f26",
   "metadata": {},
   "source": [
    "## Load Data"
   ]
  },
  {
   "cell_type": "code",
   "execution_count": null,
   "id": "944ff6b4-e154-484c-9a0b-7487a43559ee",
   "metadata": {},
   "outputs": [],
   "source": [
    "# These file paths must point to the corresponding output files from the WDL, either saved locally or bucket links\n",
    "# In this multi-sample version, users should edit the files below prior to add columns based on desired functionality. See the docs for details.\n",
    "\n",
    "idd_df = pd.read_csv('Full_IDD.tsv', sep='\\t')\n",
    "roc_df = pd.read_csv('Full_ROC.tsv', sep='\\t')\n",
    "st_df = pd.read_csv('Full_ST.tsv', sep='\\t')\n",
    "summary_df = pd.read_csv('SimpleSummary.tsv', sep='\\t')"
   ]
  },
  {
   "cell_type": "code",
   "execution_count": null,
   "id": "ec5428d5-7e67-48ad-9a0b-aa339a59ae25",
   "metadata": {},
   "outputs": [],
   "source": []
  },
  {
   "cell_type": "markdown",
   "id": "5276c52c-c4dd-46ea-8c97-a1a94a0d8ed6",
   "metadata": {},
   "source": [
    "### Fill Null Stratifier Entries"
   ]
  },
  {
   "cell_type": "code",
   "execution_count": null,
   "id": "edfffd21-70aa-4edd-8e98-07f8dd998bdd",
   "metadata": {},
   "outputs": [],
   "source": [
    "for df in [idd_df, roc_df, st_df, summary_df]:\n",
    "    strat_values = df['Stratifier'].unique()\n",
    "    if 'Whole Genome' not in strat_values:\n",
    "        df['Stratifier'] = df['Stratifier'].fillna('Whole Genome')\n",
    "    elif 'Whole Genome (default)' in strat_values:\n",
    "        raise ValueError(\"Error: Rename your stratifier labels to not include either 'Whole Genome' or 'Whole Genome (default)'\")\n",
    "    else:\n",
    "        df['Stratifier'] = df['Stratifier'].fillna('Whole Genome (default)')"
   ]
  },
  {
   "cell_type": "code",
   "execution_count": null,
   "id": "1da12418-39a8-491b-bafc-4f5785a7f508",
   "metadata": {},
   "outputs": [],
   "source": []
  },
  {
   "cell_type": "markdown",
   "id": "16d6f224-3586-4701-989e-56542f618754",
   "metadata": {},
   "source": [
    "### Fill Experiment Column if not Provided"
   ]
  },
  {
   "cell_type": "code",
   "execution_count": null,
   "id": "ccaf72e9-10fe-473d-a5c8-76fa872e6126",
   "metadata": {},
   "outputs": [],
   "source": [
    "for df in [idd_df, roc_df, st_df, summary_df]:\n",
    "    if 'Experiment' not in df.columns:\n",
    "        df['Experiment'] = 'No_ExpGroups_Provided'"
   ]
  },
  {
   "cell_type": "code",
   "execution_count": null,
   "id": "9c4d3157-51c3-460e-a9a9-795adcded627",
   "metadata": {},
   "outputs": [],
   "source": []
  },
  {
   "cell_type": "markdown",
   "id": "6d2c2fbd-8260-4709-ae7f-bd4addc6f071",
   "metadata": {},
   "source": [
    "## Plugin Utilities"
   ]
  },
  {
   "cell_type": "code",
   "execution_count": null,
   "id": "5740e865-227a-4fb0-b009-df2a630d94e8",
   "metadata": {},
   "outputs": [],
   "source": [
    "# Constants\n",
    "simple_variants = ['SNP', 'HetSNP', 'HomVarSNP', 'INDEL', 'HetINDEL', 'HomVarINDEL']\n",
    "\n",
    "def make_strat_selector(df):\n",
    "    return plg.DataFilterRadioButtons(\n",
    "        header=\"Interval List\",\n",
    "        data_col='Stratifier',\n",
    "        data_values=list(df['Stratifier'].unique())\n",
    "    )\n",
    "\n",
    "def make_type_selector(df):\n",
    "    if simple_variants_only:\n",
    "        variant_values = [x for x in simple_variants if x in df['Type'].unique()]\n",
    "    else:\n",
    "        variant_values = list(df['Type'].unique())\n",
    "    return plg.DataFilterRadioButtons(\n",
    "        header=\"Variant Type\",\n",
    "        data_col='Type',\n",
    "        data_values=variant_values\n",
    "    )\n",
    "\n",
    "def make_sample_selector(df):\n",
    "    return plg.DataFilterChecklist(\n",
    "        header=\"Callset Sample\",\n",
    "        data_col='Call_Name',\n",
    "        data_values=list(df['Call_Name'].unique())\n",
    "    )\n",
    "\n",
    "def make_experiment_selector(df):\n",
    "    return plg.DataFilterChecklist(\n",
    "        header=\"Experimental Groups\",\n",
    "        data_col='Experiment',\n",
    "        data_values=list(df['Experiment'].unique()),\n",
    "    )"
   ]
  },
  {
   "cell_type": "code",
   "execution_count": null,
   "id": "30f97b66-88a2-4809-81e9-ec9ec39ea4cd",
   "metadata": {},
   "outputs": [],
   "source": []
  },
  {
   "cell_type": "markdown",
   "id": "426286da-b587-41c9-a003-d1e9e354c9cf",
   "metadata": {},
   "source": [
    "## Summary Tab"
   ]
  },
  {
   "cell_type": "code",
   "execution_count": null,
   "id": "a767c924-199c-44f4-b8b2-84ac10b7c4ef",
   "metadata": {},
   "outputs": [],
   "source": [
    "def make_prec_recall_plot(df, marginal):\n",
    "    strat = df['Stratifier'].iloc[0]\n",
    "    type_ = df['Type'].iloc[0]\n",
    "    color = None if df['Experiment'].iloc[0] == 'No_ExpGroups_Provided' else 'Experiment'\n",
    "    marginal = marginal.lower() if marginal != 'None' else None\n",
    "    return px.scatter(df, x='Recall', y='Precision', color=color, marginal_x=marginal, marginal_y=marginal,\n",
    "                      hover_data=['Call_Name'], title=f'Precision vs Recall Plot over {strat} for {type_}')\n",
    "\n",
    "\n",
    "def make_stat_corr_plot(df, stat_corr, stat):\n",
    "    strat = df['Stratifier'].iloc[0]\n",
    "    type_ = df['Type'].iloc[0]\n",
    "    color = None if df['Experiment'].iloc[0] == 'No_ExpGroups_Provided' else 'Experiment'\n",
    "    # color = 'Call_Name'\n",
    "    return px.scatter(df, x=stat_corr, y=stat, color=color, hover_data=['Call_Name', 'TP_Base', 'TP_Call', 'FP', 'FN'],\n",
    "                      title=f'Plot of {stat} by {stat_corr} over {strat} for {type_}')"
   ]
  },
  {
   "cell_type": "code",
   "execution_count": null,
   "id": "9519b819-bf4a-4e98-963f-18d09987cb5b",
   "metadata": {},
   "outputs": [],
   "source": [
    "summary_sidebar_plugins = [\n",
    "    make_strat_selector(summary_df),\n",
    "    make_type_selector(summary_df),\n",
    "    make_experiment_selector(summary_df)\n",
    "]\n",
    "\n",
    "\n",
    "# Prec vs Recall plot \n",
    "\n",
    "prec_recall_plot = qbb.PlotPanel(\n",
    "    header=\"Precision vs Recall Plot\",\n",
    "    plotter=make_prec_recall_plot,\n",
    "    plot_inputs={\n",
    "        'marginal': 'Box'\n",
    "    },\n",
    "    data_source=summary_df,\n",
    "    plugins=[\n",
    "        plg.PlotInputRadioButtons(\n",
    "            header='Marginal Plot Type',\n",
    "            plot_input='marginal',\n",
    "            data_values=['None', 'Box', 'Violin', 'Histogram', 'Rug']\n",
    "        )\n",
    "    ]\n",
    ")\n",
    "\n",
    "\n",
    "# Stat correlator plot\n",
    "\n",
    "stat_corr_plugins = [\n",
    "    plg.PlotInputRadioButtons(\n",
    "        header='Statistic to Plot',\n",
    "        plot_input='stat',\n",
    "        data_values=['F1_Score', 'Precision', 'Recall']\n",
    "    ),\n",
    "]\n",
    "\n",
    "if stat_correlator is not None:\n",
    "    if isinstance(stat_correlator, str):\n",
    "        correlators = [stat_correlator]\n",
    "    else:\n",
    "        try: \n",
    "            assert isinstance(stat_correlator, list)\n",
    "            correlators = stat_correlator\n",
    "            stat_corr_plugins += [\n",
    "                plg.PlotInputRadioButtons(\n",
    "                    header='Stat Correlator to Plot',\n",
    "                    plot_input='stat_corr',\n",
    "                    data_values=correlators\n",
    "                )\n",
    "            ]\n",
    "        except AssertionError:\n",
    "            print('stat_correlator must be a string or list of strings!')\n",
    "\n",
    "    stat_corr_plot = qbb.PlotPanel(\n",
    "        header=\"Stat Correlation Plot\",\n",
    "        plotter=make_stat_corr_plot,\n",
    "        plot_inputs={\n",
    "            'stat_corr': correlators[0],\n",
    "            'stat': 'F1_Score'\n",
    "        },\n",
    "        data_source=summary_df,\n",
    "        plugins=stat_corr_plugins\n",
    "    )\n",
    "\n",
    "bench_stat_cg = qbb.ContentGrid(\n",
    "    header='Benchmarking Stat Scatter Plots',\n",
    "    content_list=[prec_recall_plot] + ([stat_corr_plot] if stat_correlator is not None else [])\n",
    ")\n",
    "\n",
    "\n",
    "summary_tab = qbb.BaseTab(\n",
    "    tab_label=\"Simple Summary\",\n",
    "    tab_header=\"Plot for Simple Summary Stats\",\n",
    "    content_list=[\n",
    "        bench_stat_cg\n",
    "    ],\n",
    "    sidebar_plugins=summary_sidebar_plugins\n",
    ")"
   ]
  },
  {
   "cell_type": "code",
   "execution_count": null,
   "id": "6a394956-ff05-46d5-b911-b45050571dbb",
   "metadata": {},
   "outputs": [],
   "source": []
  },
  {
   "cell_type": "markdown",
   "id": "8eba0625-3c2a-4a06-a387-350f3c5a47ab",
   "metadata": {},
   "source": [
    "## SNP Tab"
   ]
  },
  {
   "cell_type": "code",
   "execution_count": null,
   "id": "54ec0cf5-c2f1-480a-af50-d514bc5893a8",
   "metadata": {},
   "outputs": [],
   "source": [
    "st_df['Ref_Nucleotide'] = st_df['Substitution'].apply(lambda x: x.split('>')[0])\n",
    "st_df['Var_Nucleotide'] = st_df['Substitution'].apply(lambda x: x.split('>')[1])"
   ]
  },
  {
   "cell_type": "code",
   "execution_count": null,
   "id": "274b6218-1df8-46af-a9ea-6d63ddd0e47f",
   "metadata": {},
   "outputs": [],
   "source": [
    "def make_snp_substitution_plot(df, stat):\n",
    "    color = None if df['Experiment'].iloc[0] == 'No_ExpGroups_Provided' else 'Experiment'\n",
    "    strat = df['Stratifier'].iloc[0]\n",
    "    type_ = df['Type'].iloc[0]\n",
    "    df_means = df.groupby(['Experiment', 'Type', 'Substitution_Type', 'Ref_Nucleotide', 'Var_Nucleotide'])[['TP_Base', 'TP_Call', \n",
    "                                                                               'FP', 'FN', 'F1_Score', 'Precision', 'Recall']].mean().reset_index()\n",
    "    df_conf = df.groupby(['Experiment', 'Type', 'Substitution_Type', 'Ref_Nucleotide', 'Var_Nucleotide'])[[\n",
    "        'TP_Base', 'TP_Call', 'FP', 'FN', 'F1_Score', 'Precision', 'Recall']].sem().apply(lambda x: 1.96*x).reset_index()\n",
    "    \n",
    "    plot_df = df_means.merge(df_conf, on=['Experiment', 'Ref_Nucleotide', 'Var_Nucleotide'], suffixes=('_mean', '_conf'))\n",
    "    counts = ['TP_Base_mean', 'TP_Call_mean', 'FP_mean', 'FN_mean']\n",
    "    plot_df[counts] = plot_df[counts].round(2)\n",
    "    \n",
    "    category_orders = {\n",
    "        'Ref_Nucleotide': ['A', 'G', 'C', 'T'],\n",
    "        'Var_Nucleotide': ['A', 'G', 'C', 'T']\n",
    "    }\n",
    "    fig = px.scatter_3d(plot_df, x='Ref_Nucleotide', y='Var_Nucleotide', z=f'{stat}_mean', error_z=f'{stat}_conf', color=color, \n",
    "                        hover_data=['TP_Base_mean', 'TP_Call_mean', 'FP_mean', 'FN_mean'],\n",
    "                        title=f'Plot of {stat} per Substitution Type on {strat} for {type_}', \n",
    "                        category_orders=category_orders, symbol='Substitution_Type_mean',\n",
    "                        height=700, width=1000,\n",
    "                       )\n",
    "    fig.update_layout(scene_camera=dict(eye=dict(x=1.5, y=1.5, z=0.4)))\n",
    "    return fig\n",
    "\n",
    "def make_titv_plot(df, stat, titv):\n",
    "    color = None if df['Experiment'].iloc[0] == 'No_ExpGroups_Provided' else 'Experiment'\n",
    "    strat = df['Stratifier'].iloc[0]\n",
    "    type_ = df['Type'].iloc[0]\n",
    "\n",
    "    df_counts = df.groupby(['Call_Name', 'Substitution_Type', 'Experiment'])[['TP_Base', 'TP_Call', 'FP', 'FN']].sum().reset_index()\n",
    "    df_counts['Precision'] = df_counts['TP_Call'] / (df_counts['TP_Call'] + df_counts['FP'])\n",
    "    df_counts['Recall'] = df_counts['TP_Base'] / (df_counts['TP_Base'] + df_counts['FN'])\n",
    "    df_counts['F1_Score'] = 2 * df_counts['Precision'] * df_counts['Recall'] / (df_counts['Precision'] + df_counts['Recall'])\n",
    "    \n",
    "    fig = px.histogram(df_counts, x=stat, color=color, barmode='overlay', title=f'Plot of {stat} for {titv} over {strat} for {type_}')\n",
    "    return fig\n",
    "    "
   ]
  },
  {
   "cell_type": "code",
   "execution_count": null,
   "id": "bd675ea8-4299-40a7-8506-d92b6e2b2383",
   "metadata": {},
   "outputs": [],
   "source": [
    "snp_sidebar_plugins = [\n",
    "    make_strat_selector(st_df),\n",
    "    make_type_selector(st_df),\n",
    "    make_experiment_selector(st_df)\n",
    "]\n",
    "\n",
    "snp_substitution_plot = qbb.PlotPanel(\n",
    "    header='SNP Substitution Plot',\n",
    "    plotter=make_snp_substitution_plot,\n",
    "    plot_inputs={\n",
    "        'stat': 'F1_Score',\n",
    "    },\n",
    "    data_source=st_df,\n",
    "    plugins=[\n",
    "        plg.PlotInputRadioButtons(\n",
    "            header='Stat to Plot',\n",
    "            plot_input='stat',\n",
    "            data_values=['F1_Score', 'Precision', 'Recall', 'TP_Base', 'TP_Call', 'FP', 'FN']\n",
    "        )\n",
    "    ]\n",
    ")\n",
    "\n",
    "snp_titv_plot = qbb.PlotPanel(\n",
    "    header='Distribution of Stats for Ti or Tv',\n",
    "    plotter=make_titv_plot,\n",
    "    plot_inputs={\n",
    "        'stat': 'F1_Score',\n",
    "        'titv': 'Ti',\n",
    "    },\n",
    "    data_source=st_df,\n",
    "    plugins=[\n",
    "        plg.PlotInputRadioButtons(\n",
    "            header='Stat to Plot',\n",
    "            plot_input='stat',\n",
    "            data_values=['F1_Score', 'Precision', 'Recall', 'TP_Base', 'TP_Call', 'FP', 'FN']\n",
    "        ),\n",
    "        plg.PlotInputRadioButtons(\n",
    "            header='Substitution Type',\n",
    "            plot_input='titv',\n",
    "            data_values=['Ti', 'Tv']\n",
    "        )\n",
    "    ]\n",
    ")\n",
    "\n",
    "snp_cg = qbb.ContentGrid(\n",
    "    content_list=[\n",
    "        snp_substitution_plot,\n",
    "        snp_titv_plot\n",
    "    ],\n",
    "    col_wrap=1\n",
    ")\n",
    "\n",
    "snp_tab = qbb.BaseTab(\n",
    "    tab_label='SNP Plots',\n",
    "    tab_header='SNP Plots',\n",
    "    content_list=[\n",
    "        snp_cg\n",
    "    ],\n",
    "    sidebar_plugins=snp_sidebar_plugins\n",
    ")"
   ]
  },
  {
   "cell_type": "code",
   "execution_count": null,
   "id": "abbb0f9f-aad6-4890-9e8d-36787937ded7",
   "metadata": {},
   "outputs": [],
   "source": []
  },
  {
   "cell_type": "code",
   "execution_count": null,
   "id": "f85dbd9b-fde3-49ba-8825-e4fb3af010f8",
   "metadata": {},
   "outputs": [],
   "source": []
  },
  {
   "cell_type": "markdown",
   "id": "fd1675cf-f6aa-444b-bc5c-e678824700af",
   "metadata": {},
   "source": [
    "## INDEL Tab"
   ]
  },
  {
   "cell_type": "code",
   "execution_count": null,
   "id": "470ac4a6-1685-4dfe-a7b5-dd19184b345b",
   "metadata": {},
   "outputs": [],
   "source": [
    "def make_idd_plot(df, stat):\n",
    "    color = None if df['Experiment'].iloc[0] == 'No_ExpGroups_Provided' else 'Experiment'\n",
    "    strat = df['Stratifier'].iloc[0]\n",
    "    type_ = df['Type'].iloc[0]\n",
    "    \n",
    "    df_means = df.groupby(['Experiment', 'INDEL_Length'])[['TP_Base', 'TP_Call', 'FP', 'FN', 'F1_Score', 'Precision', 'Recall']].mean().reset_index()\n",
    "    # Use naive noise model for error bars\n",
    "    df_conf = df.groupby(['Experiment', 'INDEL_Length'])[['TP_Base', 'TP_Call', 'FP', 'FN', \n",
    "                                                          'F1_Score', 'Precision', 'Recall']].sem().apply(lambda x: 1.96*x).reset_index()\n",
    "    \n",
    "    df_means = df_means.round(2)\n",
    "    df_conf = df_conf.round(4)\n",
    "    \n",
    "    plot_df = df_means.merge(df_conf, on=['Experiment', 'INDEL_Length'], suffixes=('_mean', '_conf'))\n",
    "    fig = px.bar(\n",
    "        plot_df, x='INDEL_Length', y=f'{stat}_mean', error_y=f'{stat}_conf', title=f'Plot of {stat} mean by INDEL Length on {strat} for {type_}',\n",
    "        hover_data=['TP_Base_mean', 'TP_Call_mean', 'FP_mean', 'FN_mean'], color=color, barmode='group'\n",
    "    )\n",
    "    return fig"
   ]
  },
  {
   "cell_type": "code",
   "execution_count": null,
   "id": "ac00bd23-09eb-42b7-b978-b0a152bc0a2a",
   "metadata": {},
   "outputs": [],
   "source": [
    "indel_sidebar_plugins = [\n",
    "    make_strat_selector(idd_df),\n",
    "    make_type_selector(idd_df),\n",
    "    make_experiment_selector(idd_df)\n",
    "]\n",
    "\n",
    "min_indel_len = min(idd_df['INDEL_Length'])\n",
    "max_indel_len = max(idd_df['INDEL_Length'])\n",
    "indel_len_slider_marks = {\n",
    "    i: str(i) for i in range(min_indel_len, max_indel_len+1, 5)\n",
    "}\n",
    "\n",
    "idd_plot = qbb.PlotPanel(\n",
    "    header='InDel Distribution Plot',\n",
    "    plotter=make_idd_plot,\n",
    "    plot_inputs={\n",
    "        'stat': 'F1_Score'\n",
    "    },\n",
    "    data_source=idd_df,\n",
    "    plugins=[\n",
    "        plg.PlotInputRadioButtons(\n",
    "            header='Stat to Plot',\n",
    "            plot_input='stat',\n",
    "            data_values=['F1_Score', 'Precision', 'Recall']\n",
    "        ),\n",
    "        plg.DataFilterRangeSlider(\n",
    "            header='Range for INDEL Length',\n",
    "            data_col='INDEL_Length',\n",
    "            slider_min=min_indel_len,\n",
    "            slider_max=max_indel_len,\n",
    "            slider_default_values=[max(-20, min_indel_len), min(20, max_indel_len)],\n",
    "            slider_step=1,\n",
    "            slider_marks=indel_len_slider_marks\n",
    "        )\n",
    "    ]\n",
    ")\n",
    "\n",
    "indel_tab = qbb.BaseTab(\n",
    "    tab_label='INDEL Plots',\n",
    "    tab_header='INDEL Plots',\n",
    "    content_list=[\n",
    "        idd_plot\n",
    "    ],\n",
    "    sidebar_plugins=indel_sidebar_plugins\n",
    ")"
   ]
  },
  {
   "cell_type": "code",
   "execution_count": null,
   "id": "6b767e20-39ac-4df3-a816-6811a9500d9a",
   "metadata": {},
   "outputs": [],
   "source": []
  },
  {
   "cell_type": "markdown",
   "id": "13b1edb8-2f2e-4ff6-84b2-1627be88f126",
   "metadata": {},
   "source": [
    "## Main Board"
   ]
  },
  {
   "cell_type": "code",
   "execution_count": null,
   "id": "b786295d-9d47-43c2-bf93-58f67eeecc71",
   "metadata": {},
   "outputs": [],
   "source": [
    "board = qbb.Quickboard(\n",
    "    tab_list=[\n",
    "        summary_tab,\n",
    "        snp_tab,\n",
    "        indel_tab\n",
    "    ]\n",
    ")"
   ]
  },
  {
   "cell_type": "code",
   "execution_count": null,
   "id": "4d27934b-dd22-4dfa-989b-81ea76c8b443",
   "metadata": {},
   "outputs": [],
   "source": [
    "start_app(board, app_title='BenchmarkBoard', mode='external', port=8050)"
   ]
  },
  {
   "cell_type": "code",
   "execution_count": null,
   "id": "30c93e04-2983-481a-8ce0-549312a6fa3c",
   "metadata": {},
   "outputs": [],
   "source": []
  },
  {
   "cell_type": "code",
   "execution_count": null,
   "id": "3328a1f9-abb5-4318-8c91-3e1c9a708d90",
   "metadata": {},
   "outputs": [],
   "source": []
  },
  {
   "cell_type": "code",
   "execution_count": null,
   "id": "e902b609-29c1-4a1f-9421-225566ffdaab",
   "metadata": {},
   "outputs": [],
   "source": []
  },
  {
   "cell_type": "code",
   "execution_count": null,
   "id": "e12b86d7-7c23-4f54-8d52-9c7d46e438d5",
   "metadata": {},
   "outputs": [],
   "source": []
  }
 ],
 "metadata": {
  "kernelspec": {
   "display_name": "quickboard_venv",
   "language": "python",
   "name": "quickboard_venv"
  },
  "language_info": {
   "codemirror_mode": {
    "name": "ipython",
    "version": 3
   },
   "file_extension": ".py",
   "mimetype": "text/x-python",
   "name": "python",
   "nbconvert_exporter": "python",
   "pygments_lexer": "ipython3",
   "version": "3.9.6"
  }
 },
 "nbformat": 4,
 "nbformat_minor": 5
}
