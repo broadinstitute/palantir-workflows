{
 "cells": [
  {
   "cell_type": "code",
   "execution_count": null,
   "id": "58a7e4e8-717a-4b1a-86ad-410d220a305f",
   "metadata": {
    "tags": []
   },
   "outputs": [],
   "source": [
    "import os\n",
    "import pandas as pd\n",
    "import numpy as np\n",
    "import plotly.express as px\n",
    "import plotly.figure_factory as ff\n",
    "import plotly.graph_objects as go\n",
    "\n",
    "import quickboard.base as qbb\n",
    "import quickboard.plugins as plg\n",
    "from quickboard.app import start_app, deploy_app, app\n",
    "\n",
    "from upset_plot_utils import create_upset, make_disqualified_df"
   ]
  },
  {
   "cell_type": "code",
   "execution_count": null,
   "id": "bc46d46c-5b7e-4371-8920-dac9834aa1ce",
   "metadata": {},
   "outputs": [],
   "source": []
  },
  {
   "cell_type": "markdown",
   "id": "fba1bbd0-ee7f-409e-9c7d-84d7d6fb4a62",
   "metadata": {},
   "source": [
    "# User Config\n",
    "\n",
    "Use this section to set variables that change the output and settings of the dashboard. Anything after this header's section should be untouched, and modifying the following code is advanced usage."
   ]
  },
  {
   "cell_type": "code",
   "execution_count": null,
   "id": "368bda13-76b9-4f69-9415-c7e50741c951",
   "metadata": {},
   "outputs": [],
   "source": [
    "# (Optional) Covariate column names for benchmarking plots\n",
    "# Should be numeric to plot along x-axis, e.g. average coverage\n",
    "COVARIATE_X = 'Experiment'\n",
    "\n",
    "# Option to skip second HWE plot for variant in Comp VCFs\n",
    "# Useful to skip for single sample vs panel (Base) comparisons\n",
    "SKIP_COMP_HWE = True\n",
    "\n",
    "# Coerice missing FILTER to PASS\n",
    "# Ensure '.' is interpreted as PASS FILTER in case base/comp have different conventions\n",
    "# (Though this should be done before running through Wittyer...)\n",
    "MAKE_MISSING_PASS_FILTER = True\n",
    "\n",
    "# Use to fix explicit order for experiment groups\n",
    "EXPERIMENT_ORDER = None\n",
    "\n",
    "# Use if running Truvari w/ dup-to-ins on\n",
    "TRUVARI_DUP_TO_INS = True\n",
    "\n",
    "# Toggle which categories of data to plot in Dashboard\n",
    "INCLUDE_QC = True\n",
    "INCLUDE_WITTYER = True\n",
    "INCLUDE_TRUVARI = True"
   ]
  },
  {
   "cell_type": "code",
   "execution_count": null,
   "id": "7508398b-879d-4cc1-abf3-6d35ecb822ea",
   "metadata": {},
   "outputs": [],
   "source": []
  },
  {
   "cell_type": "markdown",
   "id": "f56c6cc5-7d22-49e0-a801-a83aaaec5196",
   "metadata": {
    "jp-MarkdownHeadingCollapsed": true,
    "tags": []
   },
   "source": [
    "# Import Data"
   ]
  },
  {
   "cell_type": "markdown",
   "id": "ae852989-a15d-489f-9232-238a3ad876fb",
   "metadata": {
    "tags": []
   },
   "source": [
    "## File Paths"
   ]
  },
  {
   "cell_type": "code",
   "execution_count": null,
   "id": "94477bed-c002-4ef9-8506-70efd5aa0f22",
   "metadata": {},
   "outputs": [],
   "source": [
    "QC_DATA_PATH = 'wdl_outputs/combined_qc_stats.tsv'\n",
    "\n",
    "TRUVARI_BENCH_PATH = 'wdl_outputs/truvari_bench_summary.tsv'\n",
    "TRUVARI_FN_CLOSEST_PATH = 'wdl_outputs/truvari_fn_closest.tsv'\n",
    "TRUVARI_FP_CLOSEST_PATH = 'wdl_outputs/truvari_fp_closest.tsv'\n",
    "TRUVARI_FN_INTERVALS_PATH = 'wdl_outputs/truvari_fn_intervals.tsv'\n",
    "TRUVARI_FP_INTERVALS_PATH = 'wdl_outputs/truvari_fp_intervals.tsv'\n",
    "TRUVARI_TP_BASE_INTERVALS_PATH = 'wdl_outputs/truvari_tp-base_intervals.tsv'\n",
    "TRUVARI_TP_COMP_INTERVALS_PATH = 'wdl_outputs/truvari_tp-comp_intervals.tsv'\n",
    "\n",
    "WITTYER_STATS_PATH = 'wdl_outputs/wittyer_stats-cleaned.tsv'\n",
    "WITTYER_TRUTH_PATH = 'wdl_outputs/wittyer_truth_intervals.tsv'\n",
    "WITTYER_QUERY_PATH = 'wdl_outputs/wittyer_query_intervals.tsv'\n",
    "WITTYER_NOGT_PATH = 'wdl_outputs/wittyer_nogt_intervals.tsv'\n",
    "\n",
    "# Useful to have full list for ad hoc scripting\n",
    "# PATHS = [\n",
    "#     QC_DATA_PATH, TRUVARI_BENCH_PATH, TRUVARI_FN_CLOSEST_PATH, TRUVARI_FP_CLOSEST_PATH, TRUVARI_FN_INTERVALS_PATH, TRUVARI_FP_INTERVALS_PATH,\n",
    "#     TRUVARI_TP_BASE_INTERVALS_PATH, TRUVARI_TP_COMP_INTERVALS_PATH, WITTYER_STATS_PATH, WITTYER_TRUTH_PATH, WITTYER_QUERY_PATH, WITTYER_NOGT_PATH\n",
    "# ]"
   ]
  },
  {
   "cell_type": "code",
   "execution_count": null,
   "id": "f443049c-8980-46bc-804e-2b8bd0e1287e",
   "metadata": {},
   "outputs": [],
   "source": [
    "def read_and_postprocess(path, toggle, postprocessor):\n",
    "    # Check file path exists (was computed in WDL) and if not toggled off read and postprocess\n",
    "    if toggle and os.path.isfile(path):\n",
    "        df = pd.read_csv(path, sep='\\t')\n",
    "        df = postprocessor(df)\n",
    "        return df\n",
    "    else:\n",
    "        return pd.DataFrame()"
   ]
  },
  {
   "cell_type": "code",
   "execution_count": null,
   "id": "fe973af7-6496-46a6-850b-bb4154119250",
   "metadata": {},
   "outputs": [],
   "source": []
  },
  {
   "cell_type": "markdown",
   "id": "4e0e387c-2849-490c-93fa-66a4a049ac90",
   "metadata": {},
   "source": [
    "## General Postprocessing Functions"
   ]
  },
  {
   "cell_type": "code",
   "execution_count": null,
   "id": "3eebf909-5f3c-41bb-a0bf-5f296097d1d1",
   "metadata": {},
   "outputs": [],
   "source": [
    "# Add BBEND stats\n",
    "def add_bbend_stats(df):\n",
    "    interval_names = sorted(list(set([c.split('-')[0] for c in df.columns if '-count' in c])))\n",
    "    for i in interval_names:\n",
    "        df[f'{i}-BBEND-overlap'] = (df[f'{i}-LBEND-overlap'] + df[f'{i}-RBEND-overlap'])/2\n",
    "        df[f'{i}-BBEND-count'] = df[f'{i}-LBEND-count'] + df[f'{i}-RBEND-count']"
   ]
  },
  {
   "cell_type": "code",
   "execution_count": null,
   "id": "f5d99d2e-79db-40da-92b2-eac699b1945c",
   "metadata": {},
   "outputs": [],
   "source": [
    "# Convert '.' FILTER to 'PASS'\n",
    "def convert_missing_to_pass_filter(df, MAKE_MISSING_PASS_FILTER):\n",
    "    if 'FILTER' in df.columns:\n",
    "        df['FILTER'] = df['FILTER'].replace('.', 'PASS')"
   ]
  },
  {
   "cell_type": "code",
   "execution_count": null,
   "id": "22ceab1d-cfa9-4219-ba7a-1ffa501df9d5",
   "metadata": {},
   "outputs": [],
   "source": []
  },
  {
   "cell_type": "markdown",
   "id": "f9b4a875-e80b-4909-a44f-c8ae7b68fb4c",
   "metadata": {
    "jp-MarkdownHeadingCollapsed": true,
    "tags": []
   },
   "source": [
    "## QC Data"
   ]
  },
  {
   "cell_type": "markdown",
   "id": "a17ba38f-84e3-48da-ad78-416174f9ab33",
   "metadata": {},
   "source": [
    "### Postprocessing"
   ]
  },
  {
   "cell_type": "code",
   "execution_count": null,
   "id": "b15e80ac-5bfb-455a-ad98-9d2353a953e6",
   "metadata": {},
   "outputs": [],
   "source": [
    "# Bin lengths\n",
    "qc_length_bins = [\n",
    "    '<100bp',\n",
    "    '100 - 500bp',\n",
    "    '500bp - 2.5kb',\n",
    "    '2.5 - 10kb',\n",
    "    '10 - 50kb',\n",
    "    '> 50kb'\n",
    "]\n",
    "\n",
    "def bin_length(length):\n",
    "    if length < 100:\n",
    "        return '<100bp'\n",
    "    elif length <= 500:\n",
    "        return '100 - 500bp'\n",
    "    elif length < 2500:\n",
    "        return '500bp - 2.5kb'\n",
    "    elif length < 10_000:\n",
    "        return '2.5 - 10kb'\n",
    "    elif length < 50_000:\n",
    "        return '10 - 50kb'\n",
    "    else:\n",
    "        return '> 50kb'\n",
    "\n",
    "qc_af_bins = [\n",
    "    'AC=1',\n",
    "    '< 1%',\n",
    "    '1-10%',\n",
    "    '10-50%',\n",
    "    '> 50%'\n",
    "]\n",
    "\n",
    "def bin_af(af):\n",
    "    if af == 0:\n",
    "        return '0%'\n",
    "    elif af < .01:\n",
    "        return '< 1%'\n",
    "    elif af < .1:\n",
    "        return '1-10%'\n",
    "    elif af < .5:\n",
    "        return '10-50%'\n",
    "    else:\n",
    "        return '> 50%'\n",
    "\n",
    "def postprocess_qc_df(qc_df):\n",
    "    # Separate base vs comp experiment groups\n",
    "    qc_df['Experiment_Suffix'] = qc_df['Experiment'].apply(lambda x: x.split('-')[-1])\n",
    "    qc_num_exp_groups = len(qc_df['Experiment'].unique())\n",
    "\n",
    "    # Add AC_Ref counts\n",
    "    qc_df['AC_Ref'] = qc_df['NS'] - qc_df['AC_Het'] - qc_df['AC_Hom'] / 2\n",
    "\n",
    "    # Bin by length\n",
    "    qc_df['SVLEN'] = qc_df['SVLEN'].replace('.', 0).astype(int)\n",
    "    qc_df['SVLEN_Bin'] = qc_df['SVLEN'].apply(bin_length)\n",
    "\n",
    "    # Bin AFs\n",
    "    qc_df['AF'] = qc_df['AF'].replace('.', 0).astype(float)\n",
    "    qc_df['AF_Bin'] = qc_df['AF'].replace('.', 0).astype(float)\n",
    "\n",
    "    # Idea: First write AF_Bin column using AF, then overwrite using AC column if AC == 1\n",
    "    qc_df['AF_Bin'] = qc_df['AF'].apply(bin_af)\n",
    "    qc_df['AF_Bin'] = qc_df.apply(lambda x: 'AC=1' if x['AC'] == 1 else x['AF_Bin'], axis=1)\n",
    "\n",
    "    # Make categorical columns in proper order\n",
    "    qc_df['SVLEN_Bin'] = pd.Categorical(qc_df['SVLEN_Bin'], ordered=True, categories=qc_length_bins)\n",
    "    qc_df['AF_Bin'] = pd.Categorical(qc_df['AF_Bin'], ordered=True, categories=qc_af_bins)\n",
    "\n",
    "    add_bbend_stats(qc_df)\n",
    "    convert_missing_to_pass_filter(qc_df, MAKE_MISSING_PASS_FILTER)\n",
    "\n",
    "    return qc_df"
   ]
  },
  {
   "cell_type": "markdown",
   "id": "2fadc93f-47c7-4601-b976-f536b2b35e3c",
   "metadata": {},
   "source": [
    "### Read Data"
   ]
  },
  {
   "cell_type": "code",
   "execution_count": null,
   "id": "67f9b809-62ee-461e-988a-031989ea6a0c",
   "metadata": {},
   "outputs": [],
   "source": [
    "qc_df = read_and_postprocess(path=QC_DATA_PATH, toggle=INCLUDE_QC, postprocessor=postprocess_qc_df)"
   ]
  },
  {
   "cell_type": "code",
   "execution_count": null,
   "id": "7b61cb32-27c2-4acf-ba1b-8ba1fb12805d",
   "metadata": {},
   "outputs": [],
   "source": []
  },
  {
   "cell_type": "markdown",
   "id": "187f0fb5-ea2b-4f76-b520-10f475dcf171",
   "metadata": {
    "jp-MarkdownHeadingCollapsed": true,
    "tags": []
   },
   "source": [
    "## Truvari Data"
   ]
  },
  {
   "cell_type": "markdown",
   "id": "75d91e2b-c729-4f63-9471-6f546cd394d9",
   "metadata": {},
   "source": [
    "### Postprocess"
   ]
  },
  {
   "cell_type": "code",
   "execution_count": null,
   "id": "7a1c92c8-8668-4134-ab15-9e5a9cbc35dc",
   "metadata": {},
   "outputs": [],
   "source": []
  },
  {
   "cell_type": "code",
   "execution_count": null,
   "id": "9f3a3dca-0922-4177-b5e2-e0893b45b529",
   "metadata": {},
   "outputs": [],
   "source": [
    "def postprocess_truvari_bench(df):\n",
    "    df = df.rename(columns={'SV_Type': 'SVTYPE'})\n",
    "    df['Experiment'] = df['Experiment'].astype(str)\n",
    "    convert_missing_to_pass_filter(df, MAKE_MISSING_PASS_FILTER)\n",
    "    return df\n",
    "\n",
    "def postprocess_truvari_closest(df):\n",
    "    df['LLEN'] = df['LLEN'].replace('.', 0).astype(int)\n",
    "    df['RLEN'] = df['RLEN'].replace('.', 0).astype(int)\n",
    "    df['SIZE_RATIO'] = df[['LLEN', 'RLEN']].min(axis=1) / df[['LLEN', 'RLEN']].max(axis=1)\n",
    "    \n",
    "    convert_missing_to_pass_filter(df, MAKE_MISSING_PASS_FILTER)\n",
    "\n",
    "    k = 3  # Toggle this to compare other k-closest; should match WDL input\n",
    "    df['kth_closest'] = df.index % k + 1\n",
    "    return df"
   ]
  },
  {
   "cell_type": "markdown",
   "id": "7b8017cb-9fa7-4434-91b8-e321679ea338",
   "metadata": {},
   "source": [
    "### Read Data"
   ]
  },
  {
   "cell_type": "code",
   "execution_count": null,
   "id": "94b0a1a2-f463-4671-b673-2b35ad84cdc5",
   "metadata": {},
   "outputs": [],
   "source": [
    "truvari_bench_df = read_and_postprocess(path=TRUVARI_BENCH_PATH, toggle=INCLUDE_TRUVARI, postprocessor=postprocess_truvari_bench)\n",
    "\n",
    "truvari_fn_closest_df = read_and_postprocess(path=TRUVARI_FN_CLOSEST_PATH, toggle=INCLUDE_TRUVARI, postprocessor=postprocess_truvari_closest)\n",
    "truvari_fp_closest_df = read_and_postprocess(path=TRUVARI_FP_CLOSEST_PATH, toggle=INCLUDE_TRUVARI, postprocessor=postprocess_truvari_closest)\n",
    "\n",
    "truvari_fn_intervals_df = read_and_postprocess(path=TRUVARI_FN_INTERVALS_PATH, toggle=INCLUDE_TRUVARI, postprocessor=lambda df: df)\n",
    "truvari_fp_intervals_df = read_and_postprocess(path=TRUVARI_FP_INTERVALS_PATH, toggle=INCLUDE_TRUVARI, postprocessor=lambda df: df)\n",
    "truvari_tpbase_intervals_df = read_and_postprocess(path=TRUVARI_TP_BASE_INTERVALS_PATH, toggle=INCLUDE_TRUVARI, postprocessor=lambda df: df)\n",
    "truvari_tpcomp_intervals_df = read_and_postprocess(path=TRUVARI_TP_COMP_INTERVALS_PATH, toggle=INCLUDE_TRUVARI, postprocessor=lambda df: df)"
   ]
  },
  {
   "cell_type": "code",
   "execution_count": null,
   "id": "157201a0-7cd6-41b8-915a-b0cf908abe14",
   "metadata": {},
   "outputs": [],
   "source": [
    "if TRUVARI_DUP_TO_INS:\n",
    "    truvari_fp_closest_df['LTYPE'] = truvari_fp_closest_df['LTYPE'].apply(lambda x: 'INS' if x == 'DUP' else x)\n",
    "    truvari_fn_closest_df['RTYPE'] = truvari_fn_closest_df['RTYPE'].apply(lambda x: 'INS' if x == 'DUP' else x)"
   ]
  },
  {
   "cell_type": "code",
   "execution_count": null,
   "id": "187c9063-cd9e-43ef-b232-e478768c4bf3",
   "metadata": {},
   "outputs": [],
   "source": []
  },
  {
   "cell_type": "code",
   "execution_count": null,
   "id": "714694e2-f7ef-440c-94ce-796126c76bee",
   "metadata": {},
   "outputs": [],
   "source": []
  },
  {
   "cell_type": "markdown",
   "id": "a0d73cf0-3979-409c-b345-ec145739d230",
   "metadata": {
    "jp-MarkdownHeadingCollapsed": true,
    "tags": []
   },
   "source": [
    "## Wittyer Data"
   ]
  },
  {
   "cell_type": "markdown",
   "id": "b24c2a22-5137-433a-8269-9198f22e8ae2",
   "metadata": {},
   "source": [
    "### Postprocessing"
   ]
  },
  {
   "cell_type": "code",
   "execution_count": null,
   "id": "e556d664-df63-4ded-b167-ff39c97a5a9d",
   "metadata": {},
   "outputs": [],
   "source": [
    "def postprocess_adv_wittyer(df):\n",
    "    add_bbend_stats(df)\n",
    "    return df"
   ]
  },
  {
   "cell_type": "code",
   "execution_count": null,
   "id": "2926c751-ba67-4ffa-ab97-3e31eab55fd8",
   "metadata": {},
   "outputs": [],
   "source": []
  },
  {
   "cell_type": "markdown",
   "id": "a166a596-90bb-4ff0-8ad7-da64c4a30a7d",
   "metadata": {},
   "source": [
    "### Read Data"
   ]
  },
  {
   "cell_type": "code",
   "execution_count": null,
   "id": "9b24465c-09e4-4184-a719-cdc4ed28b967",
   "metadata": {},
   "outputs": [],
   "source": [
    "wittyer_stats_df = read_and_postprocess(path=WITTYER_STATS_PATH, toggle=INCLUDE_WITTYER, postprocessor=lambda df: df)\n",
    "wittyer_truth_df = read_and_postprocess(path=WITTYER_TRUTH_PATH, toggle=INCLUDE_WITTYER, postprocessor=lambda df: df)\n",
    "wittyer_query_df = read_and_postprocess(path=WITTYER_QUERY_PATH, toggle=INCLUDE_WITTYER, postprocessor=lambda df: df)\n",
    "wittyer_nogt_df = read_and_postprocess(path=WITTYER_NOGT_PATH, toggle=INCLUDE_WITTYER, postprocessor=lambda df: df)\n",
    "\n",
    "adv_wittyer_df = pd.concat([wittyer_query_df, wittyer_truth_df])\n",
    "if INCLUDE_WITTYER:\n",
    "    adv_wittyer_df = postprocess_adv_wittyer(adv_wittyer_df)\n",
    "    wittyer_bins = ['All'] + sorted([str(x) for x in wittyer_stats_df['Bin'].unique() if (x != 'All') & (str(x) != 'nan')]) + ['nan']"
   ]
  },
  {
   "cell_type": "code",
   "execution_count": null,
   "id": "8a784ad6-d8af-4b46-81d1-244b4d2e7a0c",
   "metadata": {},
   "outputs": [],
   "source": []
  },
  {
   "cell_type": "code",
   "execution_count": null,
   "id": "ace6f8b9-5d43-4a98-ab3d-564e090f3c2b",
   "metadata": {},
   "outputs": [],
   "source": []
  },
  {
   "cell_type": "markdown",
   "id": "d4948a92-770a-42ad-96b7-bc4c143fe895",
   "metadata": {},
   "source": [
    "# Quickboard"
   ]
  },
  {
   "cell_type": "markdown",
   "id": "25a92618-eda8-4a74-b47b-7b2b1a927c15",
   "metadata": {
    "jp-MarkdownHeadingCollapsed": true,
    "tags": []
   },
   "source": [
    "## Plugin Methods"
   ]
  },
  {
   "cell_type": "code",
   "execution_count": null,
   "id": "ade0e0d0-9889-4448-ae4b-81777f0c9c02",
   "metadata": {
    "tags": []
   },
   "outputs": [],
   "source": [
    "# Interval Plugins\n",
    "def make_interval_selector(df):\n",
    "    return plg.DataFilterRadioButtons(\n",
    "        header=\"Interval List\",\n",
    "        data_col='Interval',\n",
    "        data_values=list(df['Interval'].unique())\n",
    "    )\n",
    "\n",
    "def make_interval_name_selector(df):\n",
    "    names = sorted(list(set([c.split('-')[0] for c in df.columns if '-count' in c])))\n",
    "    return plg.PlotInputRadioButtons(\n",
    "        header=\"Interval List\",\n",
    "        plot_input='interval_name',\n",
    "        data_values=names\n",
    "    )\n",
    "\n",
    "def make_breakpoint_selector():\n",
    "    return plg.PlotInputRadioButtons(\n",
    "        header=\"Breakpoint Restriction\",\n",
    "        plot_input='breakpoint',\n",
    "        data_values=['Full', 'Left', 'Right', 'Both']\n",
    "    )\n",
    "\n",
    "def make_pct_overlap_slider():\n",
    "    return plg.PlotInputRangeSlider(\n",
    "        header='Pct Overlap w/ Chosen Region',\n",
    "        plot_input='pct_overlap',\n",
    "        slider_min=0,\n",
    "        slider_max=100,\n",
    "        slider_default_values=[0, 100],\n",
    "        slider_step=10,\n",
    "        slider_marks={\n",
    "            str(i): {'label': str(i), 'style': {\"transform\": \"rotate(-45deg)\"}} for i in range(0, 101, 10)\n",
    "        },\n",
    "        updatemode='mouseup'\n",
    "    )\n",
    "\n",
    "def make_interval_plugin_bundle(df):\n",
    "    return [\n",
    "        make_interval_name_selector(df),\n",
    "        make_breakpoint_selector(),\n",
    "        make_pct_overlap_slider()\n",
    "    ]\n",
    "\n",
    "# SV Plugins\n",
    "def make_type_selector(df):\n",
    "    return plg.DataFilterRadioButtons(\n",
    "        header=\"Variant Type\",\n",
    "        data_col='SVTYPE',\n",
    "        data_values=list(df['SVTYPE'].unique())\n",
    "    )\n",
    "\n",
    "def make_length_selector(df):\n",
    "    return plg.DataFilterChecklist(\n",
    "        header=\"SV Lengths\",\n",
    "        data_col='SVLEN_Bin',\n",
    "        data_values=qc_length_bins\n",
    "    )\n",
    "\n",
    "# Filter Plugins\n",
    "def make_filter_selector(df):\n",
    "    filters = df['FILTER'].unique()\n",
    "    data_values = []\n",
    "    if 'PASS' in filters:\n",
    "        data_values += ['PASS']\n",
    "    if '.' in filters:\n",
    "        data_values += ['.']\n",
    "    data_values += sorted([f for f in filters if (f != 'PASS') and (f != '.')])\n",
    "    \n",
    "    return plg.DataFilterRadioButtons(\n",
    "        header='Value for FILTER',\n",
    "        data_col='FILTER',\n",
    "        data_values=data_values\n",
    "    )\n",
    "\n",
    "# Experiment Plugins\n",
    "def make_experiment_selector(df):\n",
    "    return plg.DataFilterChecklist(\n",
    "        header=\"Experimental Groups\",\n",
    "        data_col='Experiment',\n",
    "        data_values=list(df['Experiment'].unique()),\n",
    "    )\n",
    "\n",
    "# Plot Format Plugins\n",
    "def make_axes_mode_selector():\n",
    "    return plg.PlotInputRadioButtons(\n",
    "        header=\"Axis Scaling\",\n",
    "        plot_input='axes_mode',\n",
    "        data_values=['Dynamic', 'Fixed']\n",
    "    )\n",
    "\n",
    "def make_stat_selector(data_values):\n",
    "    return plg.PlotInputRadioButtons(\n",
    "        header='Stat to Plot',\n",
    "        plot_input='stat',\n",
    "        data_values=data_values\n",
    "    )"
   ]
  },
  {
   "cell_type": "code",
   "execution_count": null,
   "id": "87a48be6-f0e7-447b-88b8-57008cbddc30",
   "metadata": {},
   "outputs": [],
   "source": []
  },
  {
   "cell_type": "markdown",
   "id": "aaf0f380-a34b-44f2-bdf0-bf3568e9c292",
   "metadata": {
    "jp-MarkdownHeadingCollapsed": true,
    "tags": []
   },
   "source": [
    "## Decorators"
   ]
  },
  {
   "cell_type": "code",
   "execution_count": null,
   "id": "5bc57024-7889-431a-a92d-8776d4ae16e4",
   "metadata": {},
   "outputs": [],
   "source": [
    "def interval_filter(plotter):\n",
    "    # Decorator to wrap plotter function to filter df based on interval plugin inputs\n",
    "    def interval_plotter(df, *args, **kwargs):\n",
    "        interval_name = kwargs['interval_name'] if 'interval_name' in kwargs else None\n",
    "        breakpoint = kwargs['breakpoint'] if 'breakpoint' in kwargs else None\n",
    "        pct_overlap = kwargs['pct_overlap'] if 'pct_overlap' in kwargs else None\n",
    "        \n",
    "        # Resolve logic on breakpoint stats\n",
    "        breakpoint_label = ''\n",
    "        if breakpoint == 'Left':\n",
    "            breakpoint_label = '-LBEND'\n",
    "        elif breakpoint == 'Right':\n",
    "            breakpoint_label == '-RBEND'\n",
    "        elif breakpoint == 'Both':\n",
    "            breakpoint_label = '-BBEND'\n",
    "        \n",
    "        # Perform filtering on df using interval name and breakpoint preference\n",
    "        overlap_label = f'{interval_name}{breakpoint_label}-overlap'\n",
    "        query = (df[overlap_label] >= pct_overlap[0]/100) & (df[overlap_label] <= pct_overlap[1]/100)\n",
    "        sub_df = df[query]\n",
    "        return plotter(sub_df, *args, **kwargs)\n",
    "    return interval_plotter"
   ]
  },
  {
   "cell_type": "code",
   "execution_count": null,
   "id": "3574dbf4-5685-4449-88d3-2a4b4eb51f66",
   "metadata": {
    "tags": []
   },
   "outputs": [],
   "source": [
    "def axes_mode(plotter):\n",
    "    # Decorator to wrap plotter to use fixed or dynamic axes\n",
    "    def axes_plotter(*args, **kwargs):\n",
    "        fig = plotter(*args, **kwargs)\n",
    "        axes_mode = kwargs['axes_mode'] if 'axes_mode' in kwargs else None\n",
    "        if axes_mode == 'Fixed':\n",
    "            fig.update_layout(yaxis_range=[0, 1])\n",
    "            if COVARIATE_X is None:\n",
    "                fig.update_layout(xaxis_range=[0, 1])\n",
    "        return fig\n",
    "    return axes_plotter"
   ]
  },
  {
   "cell_type": "code",
   "execution_count": null,
   "id": "25eed877-782f-4c15-8bfc-6fa60ed7981a",
   "metadata": {
    "tags": []
   },
   "outputs": [],
   "source": [
    "def filter_or_all_factory(col_name):\n",
    "    # A decorator factory (i.e. decorator w/ args) for filtering by col_name\n",
    "    def filter_or_all(plotter):\n",
    "        # A decorator that filters by col_name unless value is 'ALL'\n",
    "        def filter_or_all_plotter(df, *args, **kwargs):\n",
    "            if kwargs[col_name] != 'ALL':\n",
    "                sub_df = df[df[col_name] == kwargs[col_name]]\n",
    "            else:\n",
    "                sub_df = df\n",
    "            return plotter(sub_df, *args, **kwargs)\n",
    "        return filter_or_all_plotter\n",
    "    return filter_or_all"
   ]
  },
  {
   "cell_type": "code",
   "execution_count": null,
   "id": "889e4750-0c9a-4558-9f96-4ce40bab3112",
   "metadata": {},
   "outputs": [],
   "source": [
    "def gt_match(plotter):\n",
    "    # A decorator to wrap plotter to force gt_match or not\n",
    "    # Note: assumes that plotter will only see DataFrames from Wittyer w/ WHY column\n",
    "    def gt_match_plotter(df, *args, **kwargs):\n",
    "        if kwargs['gt_match'] == 'True':\n",
    "            sub_df = df[df['WHY'] != 'GtMismatch']\n",
    "        else:\n",
    "            sub_df = df\n",
    "        return plotter(sub_df, *args, **kwargs)\n",
    "    return gt_match_plotter"
   ]
  },
  {
   "cell_type": "code",
   "execution_count": null,
   "id": "e960c120-7474-4517-8b24-f8f8fd21cb7b",
   "metadata": {},
   "outputs": [],
   "source": []
  },
  {
   "cell_type": "code",
   "execution_count": null,
   "id": "9d854774-f8c0-467b-a0fe-0b3f408e0f47",
   "metadata": {},
   "outputs": [],
   "source": []
  },
  {
   "cell_type": "markdown",
   "id": "ab25fe50-1352-4a29-9a58-b01e010f44ab",
   "metadata": {
    "tags": []
   },
   "source": [
    "## Tabs"
   ]
  },
  {
   "cell_type": "markdown",
   "id": "91390d09-539c-4488-973a-3fad147c9ded",
   "metadata": {
    "jp-MarkdownHeadingCollapsed": true
   },
   "source": [
    "### QC Tabs"
   ]
  },
  {
   "cell_type": "markdown",
   "id": "7afeab0d-4e8e-4dde-929e-f27a593f4238",
   "metadata": {
    "tags": []
   },
   "source": [
    "#### Counts Tab"
   ]
  },
  {
   "cell_type": "code",
   "execution_count": null,
   "id": "6951a4f0-f3bc-41e1-85e9-b71dcefea322",
   "metadata": {},
   "outputs": [],
   "source": [
    "@interval_filter\n",
    "def make_bar_counts(df, x, interval_name, breakpoint, pct_overlap):\n",
    "    category_orders = {'Experiment': [f'{x}-{y}' for x in EXPERIMENT_ORDER for y in ['Base', 'Comp']]} if EXPERIMENT_ORDER is not None else None\n",
    "    title = f'Mean Count of {x}'\n",
    "    if pct_overlap[0] > 0 or pct_overlap[1] < 100:\n",
    "        title += f' for events with {pct_overlap[0]:.0f}%-{pct_overlap[1]:.0f}% overlap with {interval_name}'\n",
    "    \n",
    "    plot_args = {\n",
    "        'x': x,\n",
    "        'y': 'Mean_Count',\n",
    "        'title': title,\n",
    "        'error_y': 'std',\n",
    "        'color': 'Experiment',\n",
    "        'barmode': 'group',\n",
    "        'category_orders': category_orders\n",
    "    }\n",
    "\n",
    "    counts_df = df.groupby(['Experiment_Suffix', 'Experiment', 'Sample']).apply(lambda df: df[x].value_counts().reset_index()).reset_index() \\\n",
    "        .groupby(['Experiment', x]).apply(lambda df: df['count'].describe()).reset_index().rename(columns={'mean': 'Mean_Count'})\n",
    "    \n",
    "    fig = px.bar(counts_df, **plot_args) # text_auto='.2s'\n",
    "    fig.update_traces(textfont_size=12, textangle=0, textposition=\"outside\", cliponaxis=False)\n",
    "    return fig"
   ]
  },
  {
   "cell_type": "code",
   "execution_count": null,
   "id": "07ef2aac-ebf8-482a-94f1-7d4aec81c112",
   "metadata": {},
   "outputs": [],
   "source": [
    "if INCLUDE_QC:\n",
    "    count_plot = qbb.PlotPanel(\n",
    "        header='Counts Bar Chart',\n",
    "        plotter=make_bar_counts,\n",
    "        plot_inputs={\n",
    "            # 'x': 'SVTYPE'\n",
    "        },\n",
    "        data_source=qc_df,\n",
    "        plugins=[\n",
    "            plg.PlotInputRadioButtons(\n",
    "                header='Value for x',\n",
    "                plot_input='x',\n",
    "                data_values=['SVTYPE', 'SVLEN_Bin', 'AF_Bin']\n",
    "            ),\n",
    "        ]\n",
    "    )\n",
    "    \n",
    "    counts_tab = qbb.BaseTab(\n",
    "        tab_label='SV Counts',\n",
    "        tab_header='Count Plots',\n",
    "        content_list=[\n",
    "            count_plot\n",
    "        ],\n",
    "        sidebar_plugins=make_interval_plugin_bundle(qc_df) + [\n",
    "            make_length_selector(qc_df),\n",
    "            make_filter_selector(qc_df)\n",
    "        ]\n",
    "    )"
   ]
  },
  {
   "cell_type": "code",
   "execution_count": null,
   "id": "421952e8-06b8-4d1f-8113-e96a4fc1591a",
   "metadata": {},
   "outputs": [],
   "source": []
  },
  {
   "cell_type": "markdown",
   "id": "59e6c590-8711-43bf-8531-dc59ec5fd54e",
   "metadata": {
    "tags": []
   },
   "source": [
    "#### Counts Distributions"
   ]
  },
  {
   "cell_type": "code",
   "execution_count": null,
   "id": "19059cce-65ee-4e7c-aa25-3dea8ad60db6",
   "metadata": {},
   "outputs": [],
   "source": [
    "@interval_filter\n",
    "def make_qc_histogram(df, x, barmode, interval_name, breakpoint, pct_overlap):\n",
    "    category_orders = {'Experiment': [f'{x}-{y}' for x in EXPERIMENT_ORDER for y in ['Base', 'Comp']]} if EXPERIMENT_ORDER is not None else None\n",
    "    title = f'Histogram of {x}'\n",
    "    if pct_overlap[0] > 0 or pct_overlap[1] < 100:\n",
    "        title += f' for events with {pct_overlap[0]:.0f}%-{pct_overlap[1]:.0f}% overlap with {interval_name}'\n",
    "    fig = px.histogram(df, x=x, barmode=barmode, color='Experiment', category_orders=category_orders, title=title)\n",
    "    return fig"
   ]
  },
  {
   "cell_type": "code",
   "execution_count": null,
   "id": "ae6297a2-ac9b-41ac-9059-b7285d0a0983",
   "metadata": {},
   "outputs": [],
   "source": [
    "if INCLUDE_QC:\n",
    "    histogram_plot = qbb.PlotPanel(\n",
    "        header='Histogram of Values',\n",
    "        plotter=make_qc_histogram,\n",
    "        plot_inputs={},\n",
    "        data_source=qc_df,\n",
    "        plugins=[\n",
    "            plg.PlotInputRadioButtons(\n",
    "                header='Value for x',\n",
    "                plot_input='x',\n",
    "                data_values=['SVLEN', 'QUAL', 'AF']\n",
    "            ),\n",
    "            plg.PlotInputRadioButtons(\n",
    "                header='Bar Mode',\n",
    "                plot_input='barmode',\n",
    "                data_values=['group', 'overlay', 'relative']\n",
    "            )\n",
    "        ]\n",
    "    )\n",
    "    \n",
    "    histogram_tab = qbb.BaseTab(\n",
    "        tab_label='QC Histogram',\n",
    "        tab_header='QC Histogram',\n",
    "        content_list=[\n",
    "            histogram_plot\n",
    "        ],\n",
    "        sidebar_plugins=make_interval_plugin_bundle(qc_df) + [\n",
    "            make_length_selector(qc_df),\n",
    "            make_filter_selector(qc_df)\n",
    "        ]\n",
    "    )"
   ]
  },
  {
   "cell_type": "code",
   "execution_count": null,
   "id": "9e8467b6-634b-400e-ab73-5f98825f73e0",
   "metadata": {},
   "outputs": [],
   "source": []
  },
  {
   "cell_type": "code",
   "execution_count": null,
   "id": "25e5e720-b396-48e7-a941-2de9c2987fe5",
   "metadata": {},
   "outputs": [],
   "source": []
  },
  {
   "cell_type": "markdown",
   "id": "8a11a506-fc55-4133-bb7e-5185e31e4142",
   "metadata": {
    "jp-MarkdownHeadingCollapsed": true,
    "tags": []
   },
   "source": [
    "#### HWE Tab"
   ]
  },
  {
   "cell_type": "code",
   "execution_count": null,
   "id": "dbe82ec5-d1c2-4fd2-bace-98c2bb2f10d6",
   "metadata": {},
   "outputs": [],
   "source": [
    "def check_single_sample_hwe(df):\n",
    "    # Check to see if HWE related stats are likely from single sample, i.e should not waste time creating plot\n",
    "    pass"
   ]
  },
  {
   "cell_type": "code",
   "execution_count": null,
   "id": "634d4ad8-f086-4d18-a5f9-e8b29ea4a653",
   "metadata": {},
   "outputs": [],
   "source": [
    "@interval_filter\n",
    "def make_hwe_plot(df, interval_name, breakpoint, pct_overlap):\n",
    "    # Get type info\n",
    "    type_ = df['SVTYPE'].iloc[0] if len(df['SVTYPE']) > 0 else \"Empty df\"\n",
    "    title = f'HWE Plot for SVs of type {type_}'\n",
    "    \n",
    "    # Get interval info\n",
    "    title = title + f' over {interval_name} (w/ {pct_overlap[0]}-{pct_overlap[1]}% overlap)<br></br>'\n",
    "    \n",
    "    # Apply filters\n",
    "    filter_value = df['FILTER'].iloc[0] if len(df['FILTER']) > 0 else \"Empty df\"\n",
    "    title = title + f' (FILTER is {filter_value} only)'\n",
    "    \n",
    "    if df['HWE'].sum() == len(df) and len(df) > 0:\n",
    "        fig = go.Figure()\n",
    "        fig.add_annotation(\n",
    "            text=\"All HWE values are 1; <br></br>data likely generated from single sample so skipping HWE plot (All points at corners).\",\n",
    "            xref=\"paper\", yref=\"paper\", x=0,y=1, showarrow=False\n",
    "        )\n",
    "        return fig\n",
    "    \n",
    "    # Create plot\n",
    "    fig = px.scatter_ternary(df, \n",
    "                   a='AC_Het', b='AC_Ref', c='AC_Hom', color='HWE', color_continuous_scale=\"haline\",\n",
    "                   width=700, height=700, title=title)\n",
    "\n",
    "    fig.update_layout(coloraxis_colorbar_x=1.15)\n",
    "    \n",
    "    # Choose cut-off for HWE significance\n",
    "    if len(df) > 0:\n",
    "        absolute_cutoff = 0.05\n",
    "        bonferroni_cutoff = absolute_cutoff / len(df)\n",
    "        \n",
    "        HWE_below_abs_cutoff = len(df[df['HWE'] < absolute_cutoff])\n",
    "        HWE_below_bonferroni_cutoff = len(df[df['HWE'] < bonferroni_cutoff])\n",
    "        # HWE_above_abs_cutoff = len(df[df['HWE'] >= absolute_cutoff])\n",
    "        # HWE_above_bonferroni_cutoff = len(df[df['HWE'] >= bonferroni_cutoff])\n",
    "        total_sites = len(df)\n",
    "\n",
    "        fig.add_annotation(\n",
    "            text=f\"HWE Significant Sites (Bonferroni):<br></br> {HWE_below_bonferroni_cutoff} ({round(HWE_below_bonferroni_cutoff/total_sites*100, 2)}%)\",\n",
    "            xref=\"paper\", yref=\"paper\",\n",
    "            x=0, y=.9,\n",
    "            showarrow=False\n",
    "        )\n",
    "        \n",
    "        fig.add_annotation(\n",
    "            text=f\"HWE Significant Sites (Absolute):<br></br> {HWE_below_abs_cutoff} ({round(HWE_below_abs_cutoff/total_sites*100, 2)}%)\",\n",
    "            xref=\"paper\", yref=\"paper\",\n",
    "            x=0, y=.8,\n",
    "            showarrow=False\n",
    "        )\n",
    "    else:\n",
    "        fig.add_annotation(\n",
    "            text=f\"No sites fit criteria selected\",\n",
    "            xref=\"paper\", yref=\"paper\",\n",
    "            x=0, y=.9,\n",
    "            showarrow=False\n",
    "        )\n",
    "    \n",
    "    return fig"
   ]
  },
  {
   "cell_type": "code",
   "execution_count": null,
   "id": "76c8711c-2067-4420-87d0-067fe2c4cd47",
   "metadata": {},
   "outputs": [],
   "source": [
    "if INCLUDE_QC:\n",
    "    hwe_base_plot = qbb.PlotPanel(\n",
    "        header='HWE Plot for Base Variants',\n",
    "        plotter=make_hwe_plot,\n",
    "        plot_inputs={},\n",
    "        data_source=qc_df[qc_df['Experiment_Suffix'] == 'Base'],\n",
    "        plugins=[]\n",
    "    )\n",
    "    \n",
    "    hwe_comp_plot = qbb.PlotPanel(\n",
    "        header='HWE Plot for Comp Variants',\n",
    "        plotter=make_hwe_plot,\n",
    "        plot_inputs={},\n",
    "        data_source=qc_df[qc_df['Experiment_Suffix'] == 'Comp'],\n",
    "        plugins=[]\n",
    "    )\n",
    "    \n",
    "    hwe_cg_list = [hwe_base_plot]\n",
    "    if not SKIP_COMP_HWE:\n",
    "        hwe_cg_list += [hwe_comp_plot]\n",
    "    \n",
    "    hwe_cg = qbb.ContentGrid(\n",
    "        header='HWE Plots',\n",
    "        content_list=hwe_cg_list\n",
    "    )\n",
    "    \n",
    "    hwe_tab = qbb.BaseTab(\n",
    "        tab_label='HWE Plots',\n",
    "        tab_header='Hardy-Weinberg Equilibrium Plots',\n",
    "        content_list=[\n",
    "            hwe_cg\n",
    "        ],\n",
    "        sidebar_plugins=make_interval_plugin_bundle(qc_df) + [\n",
    "            make_type_selector(qc_df),\n",
    "            make_length_selector(qc_df),\n",
    "            make_filter_selector(qc_df),\n",
    "        ]\n",
    "    )"
   ]
  },
  {
   "cell_type": "code",
   "execution_count": null,
   "id": "a9d2bf91-08a7-4f7e-8200-36706f5cd04b",
   "metadata": {},
   "outputs": [],
   "source": []
  },
  {
   "cell_type": "markdown",
   "id": "93bc58b3-3efc-4833-83ac-b9a82200d3df",
   "metadata": {
    "jp-MarkdownHeadingCollapsed": true
   },
   "source": [
    "### Wittyer Tabs"
   ]
  },
  {
   "cell_type": "markdown",
   "id": "80f271bb-93e2-4b6c-9c64-c021e1520fc3",
   "metadata": {
    "tags": []
   },
   "source": [
    "#### Basic Wittyer Tab"
   ]
  },
  {
   "cell_type": "code",
   "execution_count": null,
   "id": "c98086c0-78b1-4b3f-ad77-81798c1c73b7",
   "metadata": {},
   "outputs": [],
   "source": [
    "@axes_mode\n",
    "def make_basic_wittyer_plot(df, axes_mode, stat='Precision'):\n",
    "    if COVARIATE_X is not None:\n",
    "        x = COVARIATE_X\n",
    "        y = stat\n",
    "        title = f'{y} vs {x} Plot'\n",
    "    else:\n",
    "        x = 'Recall'\n",
    "        y = 'Precision'\n",
    "        title = 'Precision vs Recall Plot'\n",
    "    hover_data = ['TruthName', 'TruthTpCount', 'TruthFnCount', 'QueryTpCount', 'QueryFpCount']\n",
    "    category_orders = {'Experiment': EXPERIMENT_ORDER} if EXPERIMENT_ORDER is not None else None\n",
    "    return px.scatter(df, x=x, y=y, color='Experiment', title=title, hover_name='QueryName', hover_data=hover_data, \n",
    "                      marginal_x='box', marginal_y='box', category_orders=category_orders)"
   ]
  },
  {
   "cell_type": "code",
   "execution_count": null,
   "id": "c1a8a16c-e987-4058-b51a-3488a243d215",
   "metadata": {},
   "outputs": [],
   "source": [
    "plugins = [\n",
    "    plg.DataFilterRadioButtons(\n",
    "        header='Resolution of Stats',\n",
    "        data_col='StatsType',\n",
    "        data_values=['Event', 'Base']\n",
    "    )\n",
    "]\n",
    "if COVARIATE_X is not None:\n",
    "    plugins += [make_stat_selector(['Precision', 'Recall', 'Fscore'])]"
   ]
  },
  {
   "cell_type": "code",
   "execution_count": null,
   "id": "ce8dd3a0-c117-4d47-b0e7-bf0780ccfe5a",
   "metadata": {},
   "outputs": [],
   "source": [
    "if INCLUDE_WITTYER:\n",
    "    basic_wittyer_plot = qbb.PlotPanel(\n",
    "        header='Precision vs Recall Plots by Bin',\n",
    "        plotter=make_basic_wittyer_plot,\n",
    "        plot_inputs={},\n",
    "        data_source=wittyer_stats_df,\n",
    "        plugins=plugins\n",
    "    )\n",
    "    \n",
    "    sidebar_plugins = [\n",
    "        make_type_selector(wittyer_stats_df),\n",
    "        plg.DataFilterRadioButtons(\n",
    "            header='SV Size Bin',\n",
    "            data_col='Bin',\n",
    "            data_values=wittyer_bins\n",
    "        ),\n",
    "        make_axes_mode_selector()\n",
    "    ]\n",
    "    \n",
    "    basic_wittyer_tab = qbb.BaseTab(\n",
    "        tab_label='Basic Wittyer',\n",
    "        tab_header='Basic Wittyer Stats',\n",
    "        content_list=[\n",
    "            basic_wittyer_plot\n",
    "        ],\n",
    "        sidebar_plugins=sidebar_plugins\n",
    "    )"
   ]
  },
  {
   "cell_type": "code",
   "execution_count": null,
   "id": "82f9af40-a631-44da-aca6-426b7832fd84",
   "metadata": {},
   "outputs": [],
   "source": []
  },
  {
   "cell_type": "code",
   "execution_count": null,
   "id": "ca72dc01-195f-4058-910d-8a7cd9347f4b",
   "metadata": {},
   "outputs": [],
   "source": []
  },
  {
   "cell_type": "markdown",
   "id": "f57027a6-5b2f-44db-ac49-b542c694b6ff",
   "metadata": {
    "tags": []
   },
   "source": [
    "#### Adv Wittyer Tab"
   ]
  },
  {
   "cell_type": "code",
   "execution_count": null,
   "id": "cfc8d283-4c5c-4d33-a2e8-4a5a88900d37",
   "metadata": {},
   "outputs": [],
   "source": [
    "def add_recall(df):\n",
    "    if len(df[(df['VCF'] == 'truth') & (df['WIT'] == 'TP')]['count']) > 0:\n",
    "        tp = df[(df['VCF'] == 'truth') & (df['WIT'] == 'TP')]['count'].values[0]\n",
    "    else:\n",
    "        tp = 0\n",
    "    \n",
    "    if len(df[(df['WIT'] == 'FN')]['count']) > 0:\n",
    "        fn = df[(df['WIT'] == 'FN')]['count'].values[0]\n",
    "    else:\n",
    "        fn = 0\n",
    "    df['Recall'] = tp / (tp + fn) if tp + fn > 0 else np.nan\n",
    "    df['TP-Base'] = tp\n",
    "    df['FN'] = fn\n",
    "    return df\n",
    "\n",
    "def add_precision(df):\n",
    "    if len(df[(df['VCF'] == 'query') & (df['WIT'] == 'TP')]['count']) > 0:\n",
    "        tp = df[(df['VCF'] == 'query') & (df['WIT'] == 'TP')]['count'].values[0]\n",
    "    else:\n",
    "        tp = 0\n",
    "    \n",
    "    if len(df[(df['WIT'] == 'FP')]['count']) > 0:\n",
    "        fp = df[(df['WIT'] == 'FP')]['count'].values[0]\n",
    "    else:\n",
    "        fp = 0\n",
    "    df['Precision'] = tp / (tp + fp) if tp + fp > 0 else np.nan\n",
    "    df['TP-Comp'] = tp\n",
    "    df['FP'] = fp\n",
    "    return df\n",
    "\n",
    "def add_f1(df):\n",
    "    df['F1_Score'] = 2 * df['Recall'] * df['Precision'] / (df['Recall'] + df['Precision'])\n",
    "    return df"
   ]
  },
  {
   "cell_type": "code",
   "execution_count": null,
   "id": "453c06e2-c97f-46a4-9b0f-8bfd14d74c04",
   "metadata": {},
   "outputs": [],
   "source": [
    "@axes_mode\n",
    "@interval_filter\n",
    "@filter_or_all_factory('SVTYPE')\n",
    "@gt_match\n",
    "def make_adv_wittyer_plot(df, interval_name, breakpoint, pct_overlap, gt_match, SVTYPE, axes_mode, stat='Precision'):\n",
    "    title = 'Advanced Plot of Wittyer Stats'\n",
    "    title = title + f' over {interval_name} (w/ {int(pct_overlap[0])}-{int(pct_overlap[1])}% overlap)<br></br>'\n",
    "    y = stat\n",
    "    \n",
    "    grouping = ['TruthSample', 'QuerySample', 'Experiment']\n",
    "    if COVARIATE_X is not None:\n",
    "        if COVARIATE_X not in grouping:\n",
    "            grouping += [COVARIATE_X]\n",
    "        x = COVARIATE_X\n",
    "    else:\n",
    "        x = 'Recall'\n",
    "    counts_df = df.groupby(grouping + ['VCF'])['WIT'].value_counts().reset_index(name='count')\n",
    "    \n",
    "    # Add recall/precision stats\n",
    "    counts_df = counts_df.groupby(grouping).apply(add_recall).reset_index(drop=True)\n",
    "    counts_df = counts_df.groupby(grouping).apply(add_precision).reset_index(drop=True)\n",
    "    counts_df = counts_df.groupby(grouping).apply(add_f1).reset_index(drop=True)\n",
    "    \n",
    "    # Remove rows redundant for stats\n",
    "    counts_df = counts_df.groupby(grouping).apply(lambda df: df.iloc[0]).reset_index(drop=True)\n",
    "    if len(counts_df) == 0:\n",
    "        # counts_df.columns += ['Precision', 'Recall', 'F1_Score']    # Fix unhelpful error message when filters reduce to nothing\n",
    "        fig = go.Figure()\n",
    "        fig.update_layout(title='No variants found with given conditions')\n",
    "        return fig\n",
    "    \n",
    "    hover_data = ['TruthSample', 'TP-Base', 'FN', 'TP-Comp', 'FP']\n",
    "    category_orders = {'Experiment': EXPERIMENT_ORDER} if EXPERIMENT_ORDER is not None else None\n",
    "    fig = px.scatter(counts_df, x=x, y=y, title=title, color='Experiment', hover_name='QuerySample', hover_data=hover_data, \n",
    "                     marginal_x='box', marginal_y='box', category_orders=category_orders)\n",
    "    return fig"
   ]
  },
  {
   "cell_type": "code",
   "execution_count": null,
   "id": "5db14bc4-8070-4e31-8611-6339a8602999",
   "metadata": {},
   "outputs": [],
   "source": [
    "plugins = [\n",
    "    plg.PlotInputRadioButtons(\n",
    "    header='Force Match GT',\n",
    "    plot_input='gt_match',\n",
    "    data_values=['False', 'True']\n",
    ")]\n",
    "\n",
    "if COVARIATE_X is not None:\n",
    "    plugins += [make_stat_selector(['Precision', 'Recall', 'F1_Score'])]"
   ]
  },
  {
   "cell_type": "code",
   "execution_count": null,
   "id": "58c1b055-720a-4d52-bcab-5d28b17d9194",
   "metadata": {},
   "outputs": [],
   "source": [
    "if INCLUDE_WITTYER:\n",
    "    adv_wittyer_plot = qbb.PlotPanel(\n",
    "        header='Advanced Wittyer Plot',\n",
    "        plotter=make_adv_wittyer_plot,\n",
    "        plot_inputs={},\n",
    "        data_source=adv_wittyer_df,\n",
    "        plugins=plugins\n",
    "    )\n",
    "    \n",
    "    sidebar_plugins = make_interval_plugin_bundle(adv_wittyer_df) + [\n",
    "        plg.PlotInputRadioButtons(\n",
    "            header=\"Variant Type\",\n",
    "            plot_input='SVTYPE',\n",
    "            data_values=['ALL'] + list(adv_wittyer_df['SVTYPE'].unique())\n",
    "        ),\n",
    "        make_axes_mode_selector(),\n",
    "        make_filter_selector(adv_wittyer_df)\n",
    "    ]\n",
    "    \n",
    "    adv_wittyer_tab = qbb.BaseTab(\n",
    "        tab_label='Adv Wittyer',\n",
    "        tab_header='Adv Wittyer Plots',\n",
    "        content_list=[\n",
    "            adv_wittyer_plot\n",
    "        ],\n",
    "        sidebar_plugins=sidebar_plugins\n",
    "    )"
   ]
  },
  {
   "cell_type": "code",
   "execution_count": null,
   "id": "30a76e7e-e080-41c7-9408-1fe858875d6a",
   "metadata": {},
   "outputs": [],
   "source": []
  },
  {
   "cell_type": "code",
   "execution_count": null,
   "id": "d6d21607-cbd1-4520-addf-2309a28835ed",
   "metadata": {},
   "outputs": [],
   "source": []
  },
  {
   "cell_type": "markdown",
   "id": "b5b89a3d-4143-4ff9-89ad-be498d4eee28",
   "metadata": {},
   "source": [
    "### Truvari Tabs"
   ]
  },
  {
   "cell_type": "markdown",
   "id": "fbc315d7-878d-4818-b011-7768bd58c91d",
   "metadata": {
    "tags": []
   },
   "source": [
    "#### Truvari Bench Tab"
   ]
  },
  {
   "cell_type": "code",
   "execution_count": null,
   "id": "2c841ba2-c382-4962-b8dd-e25fed6e26e8",
   "metadata": {},
   "outputs": [],
   "source": [
    "@axes_mode\n",
    "def make_truvari_bench_plot(df, axes_mode, stat='precision'):\n",
    "    if COVARIATE_X is not None:\n",
    "        x = COVARIATE_X\n",
    "        y = stat\n",
    "        title = f'{y} vs {x} Plot'\n",
    "    else:\n",
    "        x = 'recall'\n",
    "        y = 'precision'\n",
    "        title = 'Precision vs Recall Plot'\n",
    "    \n",
    "    type_ = df['SVTYPE'].iloc[0] if len(df) > 0 else \"Empty df\"\n",
    "    title += f' for SVTYPE {type_}'\n",
    "    \n",
    "    interval = df['Interval'].iloc[0] if len(df) > 0 else \"Empty df\"\n",
    "    title += f' over {interval}'\n",
    "    \n",
    "    hover_data = ['Base_Name', 'TP-base', 'FN', 'TP-comp', 'FP']\n",
    "    category_orders = {'Experiment': EXPERIMENT_ORDER} if EXPERIMENT_ORDER is not None else None\n",
    "    return px.scatter(df, x=x, y=y, color='Experiment', title=title, hover_name='Comp_Name', hover_data=hover_data, \n",
    "                      marginal_x='box', marginal_y='box', category_orders=category_orders)\n",
    "    # return px.scatter(df, x='recall', y='precision', color='Comp_Name')"
   ]
  },
  {
   "cell_type": "code",
   "execution_count": null,
   "id": "51260feb-17cf-4721-9964-fd2e40b1e89e",
   "metadata": {},
   "outputs": [],
   "source": [
    "def make_gt_concordance_plot(df, axes_mode):\n",
    "    category_orders = {'Experiment': EXPERIMENT_ORDER} if EXPERIMENT_ORDER is not None else None\n",
    "    title = 'GT Concordance'\n",
    "    if len(df) > 0:\n",
    "        interval_name = df['Interval'].values[0]\n",
    "        title += f' over {interval_name}'\n",
    "    fig = px.box(df[df['TP-comp_TP-gt'] > 0], x='SVTYPE', y='gt_concordance', color='Experiment', \n",
    "                 title=title, category_orders=category_orders)\n",
    "    if axes_mode == 'Fixed':\n",
    "        fig.update_layout(yaxis_range=[0, 1])\n",
    "    return fig"
   ]
  },
  {
   "cell_type": "code",
   "execution_count": null,
   "id": "420770be-08c2-43e1-a3fc-44035f7e6923",
   "metadata": {},
   "outputs": [],
   "source": [
    "if INCLUDE_TRUVARI:\n",
    "    truvari_bench_plot = qbb.PlotPanel(\n",
    "        header='Truvari Benchmarks',\n",
    "        plotter=make_truvari_bench_plot,\n",
    "        plot_inputs={},\n",
    "        data_source=truvari_bench_df,\n",
    "        plugins=[make_type_selector(truvari_bench_df), make_stat_selector(['precision', 'recall', 'f1'])] if COVARIATE_X is not None \\\n",
    "            else [make_type_selector(truvari_bench_df)]\n",
    "    )\n",
    "    \n",
    "    truvari_gt_concordance_plot = qbb.PlotPanel(\n",
    "        header='GT Concordance',\n",
    "        plotter=make_gt_concordance_plot,\n",
    "        plot_inputs={},\n",
    "        data_source=truvari_bench_df,\n",
    "        plugins=[\n",
    "            \n",
    "        ]\n",
    "    )\n",
    "    \n",
    "    truvari_bench_tab = qbb.BaseTab(\n",
    "        tab_label='Truvari Bench',\n",
    "        tab_header='',\n",
    "        content_list=[\n",
    "            truvari_bench_plot,\n",
    "            truvari_gt_concordance_plot\n",
    "        ],\n",
    "        sidebar_plugins=[\n",
    "            make_interval_selector(truvari_bench_df),\n",
    "            make_axes_mode_selector()\n",
    "        ]\n",
    "    )"
   ]
  },
  {
   "cell_type": "code",
   "execution_count": null,
   "id": "27e25c45-70ed-4f55-8bd6-1ef8eda27280",
   "metadata": {},
   "outputs": [],
   "source": []
  },
  {
   "cell_type": "markdown",
   "id": "9065f318-a18b-4b36-9127-6a17cca89ee7",
   "metadata": {
    "tags": []
   },
   "source": [
    "#### Truvari Errors Tab"
   ]
  },
  {
   "cell_type": "code",
   "execution_count": null,
   "id": "5aced53e-f414-4722-936b-f5e3730e9251",
   "metadata": {},
   "outputs": [],
   "source": [
    "def make_closest_plot(df, sort_by, asc, mode, disq_values):\n",
    "    title = f'Counts of Disqualified ({disq_values}) Sites (N = {len(df)})'\n",
    "    asc = asc == 'Ascending'\n",
    "    disq_df = make_disqualified_df(df, dist_threshold=500, size_ratio_threshold=0.7, color='Experiment')\n",
    "    fig = create_upset(disq_df, title=title, sort_by=sort_by, asc=asc, mode=mode, color='Experiment', category_orders={'Experiment': EXPERIMENT_ORDER})\n",
    "    return fig\n",
    "\n",
    "def make_fp_closest_plot(df, sort_by, asc, mode):\n",
    "    return make_closest_plot(df, sort_by, asc, mode, disq_values='FP')\n",
    "\n",
    "def make_fn_closest_plot(df, sort_by, asc, mode):\n",
    "    return make_closest_plot(df, sort_by, asc, mode, disq_values='FN')"
   ]
  },
  {
   "cell_type": "code",
   "execution_count": null,
   "id": "9dfa9c7c-499c-4b0e-abbf-d860713c8c38",
   "metadata": {},
   "outputs": [],
   "source": [
    "if INCLUDE_TRUVARI:\n",
    "    fp_plot = qbb.PlotPanel(\n",
    "        header='FP Stats',\n",
    "        plotter=make_fp_closest_plot,\n",
    "        plot_inputs={\n",
    "            \n",
    "        },\n",
    "        data_source=truvari_fp_closest_df,\n",
    "        plugins=[\n",
    "            plg.PlotInputRadioButtons(\n",
    "                header='Sort By',\n",
    "                plot_input='sort_by',\n",
    "                data_values=['Counts', 'Intersections']\n",
    "            ),\n",
    "            plg.PlotInputRadioButtons(\n",
    "                header='Sort Order',\n",
    "                plot_input='asc',\n",
    "                data_values=['Descending', 'Ascending']\n",
    "            ),\n",
    "            plg.PlotInputRadioButtons(\n",
    "                header='Bar Mode',\n",
    "                plot_input='mode',\n",
    "                data_values=['Percent', 'Counts']\n",
    "            )\n",
    "        ],\n",
    "        plugin_wrap=3\n",
    "    )\n",
    "    \n",
    "    fn_plot = qbb.PlotPanel(\n",
    "        header='FN Stats',\n",
    "        plotter=make_fn_closest_plot,\n",
    "        plot_inputs={\n",
    "            \n",
    "        },\n",
    "        data_source=truvari_fn_closest_df,\n",
    "        plugins=[\n",
    "            plg.PlotInputRadioButtons(\n",
    "                header='Sort By',\n",
    "                plot_input='sort_by',\n",
    "                data_values=['Counts', 'Intersections']\n",
    "            ),\n",
    "            plg.PlotInputRadioButtons(\n",
    "                header='Sort Order',\n",
    "                plot_input='asc',\n",
    "                data_values=['Descending', 'Ascending']\n",
    "            ),\n",
    "            plg.PlotInputRadioButtons(\n",
    "                header='Bar Mode',\n",
    "                plot_input='mode',\n",
    "                data_values=['Percent', 'Counts']\n",
    "            )\n",
    "        ],\n",
    "        plugin_wrap=3\n",
    "    )\n",
    "    \n",
    "    truvari_errors_tab = qbb.BaseTab(\n",
    "        tab_label='Truvari Errors',\n",
    "        tab_header='Truvari Stats on Mismatched Variants',\n",
    "        content_list=[\n",
    "            fp_plot,\n",
    "            fn_plot\n",
    "        ],\n",
    "        sidebar_plugins=[\n",
    "            plg.DataFilterRadioButtons(\n",
    "                header='kth Closest',\n",
    "                data_col='kth_closest',\n",
    "                data_values=[1, 2, 3]\n",
    "            )\n",
    "        ]\n",
    "    )"
   ]
  },
  {
   "cell_type": "code",
   "execution_count": null,
   "id": "9e0e6eeb-7c09-443a-b5f3-ba678fca6b6f",
   "metadata": {},
   "outputs": [],
   "source": []
  },
  {
   "cell_type": "markdown",
   "id": "79cb52f3-a262-4029-b00e-ebe10aa7dab8",
   "metadata": {},
   "source": [
    "## Main Board"
   ]
  },
  {
   "cell_type": "code",
   "execution_count": null,
   "id": "812f58a2-6546-4828-9578-2dfc11d98bf4",
   "metadata": {},
   "outputs": [],
   "source": [
    "tab_list = []\n",
    "if INCLUDE_QC:\n",
    "    tab_list += [counts_tab, histogram_tab, hwe_tab]\n",
    "if INCLUDE_WITTYER:\n",
    "    tab_list += [basic_wittyer_tab, adv_wittyer_tab]\n",
    "if INCLUDE_TRUVARI:\n",
    "    tab_list += [truvari_bench_tab, truvari_errors_tab]\n",
    "\n",
    "board = qbb.Quickboard(\n",
    "    tab_list=tab_list\n",
    ")"
   ]
  },
  {
   "cell_type": "code",
   "execution_count": null,
   "id": "66f0c2de-9207-49e7-ae04-4d243ca42d44",
   "metadata": {},
   "outputs": [],
   "source": [
    "start_app(board, app_title='SVisualizer', mode='external', port=8050)"
   ]
  },
  {
   "cell_type": "code",
   "execution_count": null,
   "id": "fb2b5e51-4d7f-4c95-a9e2-0a919a3d01f9",
   "metadata": {},
   "outputs": [],
   "source": []
  },
  {
   "cell_type": "code",
   "execution_count": null,
   "id": "eca15f53-4add-4e8c-ac93-061a554fc673",
   "metadata": {},
   "outputs": [],
   "source": []
  },
  {
   "cell_type": "code",
   "execution_count": null,
   "id": "cde59fa0-05f9-4679-b573-f9e7e3055375",
   "metadata": {},
   "outputs": [],
   "source": []
  }
 ],
 "metadata": {
  "kernelspec": {
   "display_name": "quickboard_venv",
   "language": "python",
   "name": "quickboard_venv"
  },
  "language_info": {
   "codemirror_mode": {
    "name": "ipython",
    "version": 3
   },
   "file_extension": ".py",
   "mimetype": "text/x-python",
   "name": "python",
   "nbconvert_exporter": "python",
   "pygments_lexer": "ipython3",
   "version": "3.9.6"
  }
 },
 "nbformat": 4,
 "nbformat_minor": 5
}
