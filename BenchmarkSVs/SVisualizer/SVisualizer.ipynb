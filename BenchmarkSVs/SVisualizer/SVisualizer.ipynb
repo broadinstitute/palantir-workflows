{
 "cells": [
  {
   "cell_type": "code",
   "execution_count": null,
   "id": "58a7e4e8-717a-4b1a-86ad-410d220a305f",
   "metadata": {
    "tags": []
   },
   "outputs": [],
   "source": [
    "import quickboard.base as qbb\n",
    "from quickboard.app import start_app, deploy_app, app"
   ]
  },
  {
   "cell_type": "code",
   "execution_count": null,
   "id": "bc46d46c-5b7e-4371-8920-dac9834aa1ce",
   "metadata": {},
   "outputs": [],
   "source": []
  },
  {
   "cell_type": "markdown",
   "id": "fba1bbd0-ee7f-409e-9c7d-84d7d6fb4a62",
   "metadata": {},
   "source": [
    "# User Config\n",
    "\n",
    "Use this section to set variables that change the output and settings of the dashboard. Anything after this header's section should be untouched, and modifying the following code is advanced usage."
   ]
  },
  {
   "cell_type": "code",
   "execution_count": null,
   "id": "368bda13-76b9-4f69-9415-c7e50741c951",
   "metadata": {},
   "outputs": [],
   "source": [
    "# (Optional) Covariate column names for benchmarking plots\n",
    "# Should be numeric to plot along x-axis, e.g. average coverage\n",
    "COVARIATE_X = 'Experiment'\n",
    "\n",
    "# Option to skip second HWE plot for variant in Comp VCFs\n",
    "# Useful to skip for single sample vs panel (Base) comparisons\n",
    "SKIP_COMP_HWE = True\n",
    "\n",
    "# Coerice missing FILTER to PASS\n",
    "# Ensure '.' is interpreted as PASS FILTER in case base/comp have different conventions\n",
    "# (Though this should be done before running through Wittyer...)\n",
    "MAKE_MISSING_PASS_FILTER = True\n",
    "\n",
    "# Use to fix explicit order for experiment groups\n",
    "EXPERIMENT_ORDER = ['GATK-SV_HGSVC2'] + [f'Sniffles{i}x_vs_HGSVC2' for i in [2, 5, 8]]\n",
    "\n",
    "# Use if running Truvari w/ dup-to-ins on\n",
    "TRUVARI_DUP_TO_INS = True"
   ]
  },
  {
   "cell_type": "code",
   "execution_count": null,
   "id": "fa4518f1-bddc-4c1e-b5ab-077d547f354f",
   "metadata": {},
   "outputs": [],
   "source": [
    "# Toggle which categories of data to plot in Dashboard\n",
    "INCLUDE_QC = False\n",
    "INCLUDE_WITTYER = False    # Based on legacy code for generating Wittyer stats in WDL\n",
    "INCLUDE_TRUVARI = True"
   ]
  },
  {
   "cell_type": "code",
   "execution_count": null,
   "id": "ea8d49e6-bf10-4de5-8f98-4e2fa0dae667",
   "metadata": {},
   "outputs": [],
   "source": []
  },
  {
   "cell_type": "markdown",
   "id": "cd479b47-44a4-4611-98a4-3d9738c483ab",
   "metadata": {},
   "source": [
    "## Write New User Config\n",
    "\n",
    "DO NOT MODIFY CODE BELOW THIS SECTION\n",
    "\n",
    "Code here writes above user config settings to appropriate file for tab generation"
   ]
  },
  {
   "cell_type": "code",
   "execution_count": null,
   "id": "84b303ab-95ad-4d11-b7ef-fa20caf229ce",
   "metadata": {},
   "outputs": [],
   "source": [
    "with open('user_config.py', 'w') as config:\n",
    "    config.write(f'COVARIATE_X = \"{COVARIATE_X}\"\\n')\n",
    "    config.write(f'SKIP_COMP_HWE = {SKIP_COMP_HWE}\\n')\n",
    "    config.write(f'MAKE_MISSING_PASS_FILTER = {MAKE_MISSING_PASS_FILTER}\\n')\n",
    "    config.write(f'EXPERIMENT_ORDER = {EXPERIMENT_ORDER}\\n')\n",
    "    config.write(f'TRUVARI_DUP_TO_INS = {TRUVARI_DUP_TO_INS}\\n\\n')\n",
    "\n",
    "    config.write(f'INCLUDE_QC = {INCLUDE_QC}\\n')\n",
    "    config.write(f'INCLUDE_WITTYER = {INCLUDE_WITTYER}\\n')\n",
    "    config.write(f'INCLUDE_TRUVARI = {INCLUDE_TRUVARI}\\n')"
   ]
  },
  {
   "cell_type": "code",
   "execution_count": null,
   "id": "848d038b-5bce-4638-9f0f-35dbf67a9f6e",
   "metadata": {},
   "outputs": [],
   "source": []
  },
  {
   "cell_type": "code",
   "execution_count": null,
   "id": "7508398b-879d-4cc1-abf3-6d35ecb822ea",
   "metadata": {},
   "outputs": [],
   "source": []
  },
  {
   "cell_type": "markdown",
   "id": "ae852989-a15d-489f-9232-238a3ad876fb",
   "metadata": {
    "tags": []
   },
   "source": [
    "# Import Tabs"
   ]
  },
  {
   "cell_type": "code",
   "execution_count": null,
   "id": "0a5456ef-9331-4035-9c85-33962a8aea17",
   "metadata": {},
   "outputs": [],
   "source": [
    "if INCLUDE_QC:\n",
    "    from qc_tabs import counts_tab, histogram_tab, hwe_tab"
   ]
  },
  {
   "cell_type": "code",
   "execution_count": null,
   "id": "b0495e30-6452-4d03-9646-8f6a2be4d050",
   "metadata": {},
   "outputs": [],
   "source": [
    "if INCLUDE_WITTYER:\n",
    "    from wittyer_tabs import basic_wittyer_tab, adv_wittyer_tab"
   ]
  },
  {
   "cell_type": "code",
   "execution_count": null,
   "id": "30e3a90e-9a80-4594-a820-c9e936e7f625",
   "metadata": {},
   "outputs": [],
   "source": [
    "if INCLUDE_TRUVARI:\n",
    "    from truvari_tabs import truvari_bench_tab, truvari_errors_tab"
   ]
  },
  {
   "cell_type": "code",
   "execution_count": null,
   "id": "7b61cb32-27c2-4acf-ba1b-8ba1fb12805d",
   "metadata": {},
   "outputs": [],
   "source": []
  },
  {
   "cell_type": "markdown",
   "id": "79cb52f3-a262-4029-b00e-ebe10aa7dab8",
   "metadata": {},
   "source": [
    "# Main Board"
   ]
  },
  {
   "cell_type": "code",
   "execution_count": null,
   "id": "812f58a2-6546-4828-9578-2dfc11d98bf4",
   "metadata": {},
   "outputs": [],
   "source": [
    "tab_list = []\n",
    "if INCLUDE_QC:\n",
    "    tab_list += [counts_tab, histogram_tab, hwe_tab]\n",
    "if INCLUDE_WITTYER:\n",
    "    tab_list += [basic_wittyer_tab, adv_wittyer_tab]\n",
    "if INCLUDE_TRUVARI:\n",
    "    tab_list += [truvari_bench_tab, truvari_errors_tab]\n",
    "\n",
    "board = qbb.Quickboard(\n",
    "    tab_list=tab_list\n",
    ")"
   ]
  },
  {
   "cell_type": "code",
   "execution_count": null,
   "id": "66f0c2de-9207-49e7-ae04-4d243ca42d44",
   "metadata": {},
   "outputs": [],
   "source": [
    "start_app(board, app_title='SVisualizer', mode='external', port=8050)"
   ]
  },
  {
   "cell_type": "code",
   "execution_count": null,
   "id": "680d82c0-a66d-4c51-ae32-c452da55aebd",
   "metadata": {},
   "outputs": [],
   "source": []
  },
  {
   "cell_type": "code",
   "execution_count": null,
   "id": "1724c7bf-3e63-4a32-a296-7f4a2d2b609a",
   "metadata": {},
   "outputs": [],
   "source": []
  },
  {
   "cell_type": "code",
   "execution_count": null,
   "id": "a347fb51-fd08-4788-8e8c-f902be8d3757",
   "metadata": {},
   "outputs": [],
   "source": []
  },
  {
   "cell_type": "code",
   "execution_count": null,
   "id": "fb2b5e51-4d7f-4c95-a9e2-0a919a3d01f9",
   "metadata": {},
   "outputs": [],
   "source": []
  }
 ],
 "metadata": {
  "kernelspec": {
   "display_name": "quickboard_venv",
   "language": "python",
   "name": "quickboard_venv"
  },
  "language_info": {
   "codemirror_mode": {
    "name": "ipython",
    "version": 3
   },
   "file_extension": ".py",
   "mimetype": "text/x-python",
   "name": "python",
   "nbconvert_exporter": "python",
   "pygments_lexer": "ipython3",
   "version": "3.9.6"
  }
 },
 "nbformat": 4,
 "nbformat_minor": 5
}
