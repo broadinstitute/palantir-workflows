{
 "cells": [
  {
   "cell_type": "code",
   "execution_count": null,
   "id": "e94dadd5-aeb7-4be0-a1c7-15093f206c07",
   "metadata": {},
   "outputs": [],
   "source": [
    "import pandas as pd\n",
    "import numpy as np\n",
    "import plotly.express as px\n",
    "\n",
    "import quickboard.base as qbb\n",
    "import quickboard.plugins as plg\n",
    "from quickboard.app import start_app"
   ]
  },
  {
   "cell_type": "code",
   "execution_count": null,
   "id": "bb21bf04-431f-47c9-b81c-dd9c839318dc",
   "metadata": {},
   "outputs": [],
   "source": []
  },
  {
   "cell_type": "code",
   "execution_count": null,
   "id": "9ca0ff2b-ad4e-49df-8fed-cea58be90845",
   "metadata": {},
   "outputs": [],
   "source": []
  },
  {
   "cell_type": "markdown",
   "id": "da870f32-9825-4627-81d8-5186411f5a90",
   "metadata": {},
   "source": [
    "## User Inputs"
   ]
  },
  {
   "cell_type": "code",
   "execution_count": null,
   "id": "4988e683-1ff0-4e3d-b8bf-471f2d6b6389",
   "metadata": {},
   "outputs": [],
   "source": [
    "# Users must specify column names for quantities to use in making some plots below. See the docs for details.\n",
    "# Toggle optional values here to affect behavior of generated Dashboard.\n",
    "\n",
    "# Fill with column name (or list of column names) to plot x-axis vs benchmark stats, e.g. 'Mean_Coverage' \n",
    "# Users must edit data files to provide the data, or include in pipeline 'Experiment' or 'Extra_Column' values\n",
    "COVARIATE_X = None\n",
    "\n",
    "# Display only usual 6 variant types as options in variant type selection; Toggle to False to include other categories like MNP, MA, etc.\n",
    "SIMPLE_VARIANTS_ONLY = True\n",
    "\n",
    "# Manually set order for experiment groups to appear in plots\n",
    "EXPERIMENT_ORDER = None\n",
    "\n",
    "# Color map to use for manually coloring experiment categories\n",
    "EXPERIMENT_COLOR_MAP = None\n",
    "\n",
    "# Toggle whether to show error bars on multi-sample plots or not\n",
    "SHOW_ERROR_BARS = True"
   ]
  },
  {
   "cell_type": "code",
   "execution_count": null,
   "id": "9c2b28e4-732e-4d35-a45d-418310feb337",
   "metadata": {},
   "outputs": [],
   "source": []
  },
  {
   "cell_type": "code",
   "execution_count": null,
   "id": "6853f107-ae6d-44f5-b662-8a73f0b225db",
   "metadata": {},
   "outputs": [],
   "source": [
    "# DO NOT MODIFY ANY CODE BELOW HERE"
   ]
  },
  {
   "cell_type": "code",
   "execution_count": null,
   "id": "35f1c553-5324-4838-9f14-1da97e6616e8",
   "metadata": {},
   "outputs": [],
   "source": []
  },
  {
   "cell_type": "markdown",
   "id": "10006794-0851-4be3-931f-0d56b4dc7f26",
   "metadata": {},
   "source": [
    "## Load Data"
   ]
  },
  {
   "cell_type": "code",
   "execution_count": null,
   "id": "944ff6b4-e154-484c-9a0b-7487a43559ee",
   "metadata": {},
   "outputs": [],
   "source": [
    "# These file paths must point to the corresponding output files from the WDL, either saved locally or bucket links\n",
    "\n",
    "summary_df = pd.read_csv('SimpleSummary.tsv', sep='\\t')\n",
    "roc_df = pd.read_csv('ROCStats.tsv', sep='\\t')\n",
    "st_df = pd.read_csv('SNPSubstitutionStats.tsv', sep='\\t')\n",
    "idd_df = pd.read_csv('IndelDistributionStats.tsv', sep='\\t')"
   ]
  },
  {
   "cell_type": "code",
   "execution_count": null,
   "id": "ec5428d5-7e67-48ad-9a0b-aa339a59ae25",
   "metadata": {},
   "outputs": [],
   "source": []
  },
  {
   "cell_type": "markdown",
   "id": "5276c52c-c4dd-46ea-8c97-a1a94a0d8ed6",
   "metadata": {},
   "source": [
    "### Fill Null Interval Entries"
   ]
  },
  {
   "cell_type": "code",
   "execution_count": null,
   "id": "edfffd21-70aa-4edd-8e98-07f8dd998bdd",
   "metadata": {},
   "outputs": [],
   "source": [
    "for df in [idd_df, st_df, summary_df]:\n",
    "    strat_values = df['Interval'].unique()\n",
    "    if 'Whole Genome' not in strat_values:\n",
    "        df['Interval'] = df['Interval'].fillna('Whole Genome')\n",
    "    elif 'Whole Genome (default)' in strat_values:\n",
    "        raise ValueError(\"Error: Rename your Interval labels to not include either 'Whole Genome' or 'Whole Genome (default)'\")\n",
    "    else:\n",
    "        df['Interval'] = df['Interval'].fillna('Whole Genome (default)')"
   ]
  },
  {
   "cell_type": "code",
   "execution_count": null,
   "id": "1da12418-39a8-491b-bafc-4f5785a7f508",
   "metadata": {},
   "outputs": [],
   "source": []
  },
  {
   "cell_type": "markdown",
   "id": "16d6f224-3586-4701-989e-56542f618754",
   "metadata": {},
   "source": [
    "### Fill Experiment Column if not Provided"
   ]
  },
  {
   "cell_type": "code",
   "execution_count": null,
   "id": "ccaf72e9-10fe-473d-a5c8-76fa872e6126",
   "metadata": {},
   "outputs": [],
   "source": [
    "for df in [idd_df, roc_df, st_df, summary_df]:\n",
    "    if 'Experiment' not in df.columns:\n",
    "        df['Experiment'] = 'No_ExpGroups_Provided'"
   ]
  },
  {
   "cell_type": "code",
   "execution_count": null,
   "id": "26eb2901-9cfd-42e3-8ce4-7c58a66b1a66",
   "metadata": {},
   "outputs": [],
   "source": []
  },
  {
   "cell_type": "markdown",
   "id": "42f3edee-4ca7-4991-8fd8-bc26b14260ab",
   "metadata": {},
   "source": [
    "### Other Environment Variables"
   ]
  },
  {
   "cell_type": "code",
   "execution_count": null,
   "id": "54cab31b-79f8-46d7-a4ff-c53f4f943fd6",
   "metadata": {},
   "outputs": [],
   "source": [
    "# Check if only one distinguishable sample in summary_df\n",
    "# Affects behavior of some plots downstream\n",
    "SINGLE_SAMPLE_MODE = len(summary_df[['Experiment', 'Query_Name', 'Base_Name']].value_counts()) == 1"
   ]
  },
  {
   "cell_type": "code",
   "execution_count": null,
   "id": "a99b369c-e1a6-4ff4-9292-3113c3843003",
   "metadata": {},
   "outputs": [],
   "source": [
    "CATEGORY_ORDERS = {\n",
    "    'Experiment': EXPERIMENT_ORDER\n",
    "} if EXPERIMENT_ORDER is not None else None"
   ]
  },
  {
   "cell_type": "code",
   "execution_count": null,
   "id": "9c4d3157-51c3-460e-a9a9-795adcded627",
   "metadata": {},
   "outputs": [],
   "source": []
  },
  {
   "cell_type": "markdown",
   "id": "6d2c2fbd-8260-4709-ae7f-bd4addc6f071",
   "metadata": {},
   "source": [
    "## Plugin Utilities"
   ]
  },
  {
   "cell_type": "code",
   "execution_count": null,
   "id": "5740e865-227a-4fb0-b009-df2a630d94e8",
   "metadata": {},
   "outputs": [],
   "source": [
    "simple_variants = ['SNP', 'HetSNP', 'HomVarSNP', 'INDEL', 'HetINDEL', 'HomVarINDEL']\n",
    "\n",
    "def make_strat_selector(df):\n",
    "    return plg.DataFilterRadioButtons(\n",
    "        header=\"Interval List\",\n",
    "        data_col='Interval',\n",
    "        data_values=list(df['Interval'].unique())\n",
    "    )\n",
    "\n",
    "def make_type_selector(df):\n",
    "    if SIMPLE_VARIANTS_ONLY:\n",
    "        variant_values = [x for x in simple_variants if x in df['Type'].unique()]\n",
    "    else:\n",
    "        variant_values = list(df['Type'].unique())\n",
    "    return plg.DataFilterRadioButtons(\n",
    "        header=\"Variant Type\",\n",
    "        data_col='Type',\n",
    "        data_values=variant_values\n",
    "    )\n",
    "\n",
    "def make_sample_selector(df):\n",
    "    return plg.DataFilterChecklist(\n",
    "        header=\"Query Sample\",\n",
    "        data_col='Query_Name',\n",
    "        data_values=list(df['Query_Name'].unique())\n",
    "    )\n",
    "\n",
    "def make_experiment_selector(df):\n",
    "    return plg.DataFilterChecklist(\n",
    "        header=\"Experimental Groups\",\n",
    "        data_col='Experiment',\n",
    "        data_values=list(df['Experiment'].unique()),\n",
    "    )\n",
    "\n",
    "def make_axes_mode_selector():\n",
    "    return plg.PlotInputRadioButtons(\n",
    "        header='Axes Mode',\n",
    "        plot_input='axes_mode',\n",
    "        data_values=['Dynamic', 'Fixed']\n",
    "    )"
   ]
  },
  {
   "cell_type": "code",
   "execution_count": null,
   "id": "514be5f9-97b3-4f1d-a3c0-e5d02ab5216c",
   "metadata": {},
   "outputs": [],
   "source": []
  },
  {
   "cell_type": "markdown",
   "id": "464e8ff1-bd93-4502-bc15-3c25c4b23673",
   "metadata": {},
   "source": [
    "## Data Utilities"
   ]
  },
  {
   "cell_type": "code",
   "execution_count": null,
   "id": "1f69acb5-9368-4074-829f-3ccaa66cc247",
   "metadata": {},
   "outputs": [],
   "source": [
    "def make_exp_average(df, group):\n",
    "    cols = ['TP_Base', 'TP_Query', 'FP', 'FN', 'F1_Score', 'Precision', 'Recall']\n",
    "    \n",
    "    # Handle case where no IGN/OUT cols like ROC plots by adding back when present\n",
    "    if 'IGN' in df.columns:\n",
    "        cols += ['IGN']\n",
    "    if 'OUT' in df.columns:\n",
    "        cols += ['OUT']\n",
    "\n",
    "    df_means = df.groupby(['Experiment', group])[cols].mean().reset_index()\n",
    "    # Use naive noise model for error bars\n",
    "    df_conf = df.groupby(['Experiment', group])[cols].sem().apply(lambda x: 1.96*x).reset_index()\n",
    "    \n",
    "    df_means = df_means.round(4)\n",
    "    df_conf = df_conf.round(4)\n",
    "\n",
    "    plot_df = df_means.merge(df_conf, on=['Experiment', group], suffixes=('_mean', '_conf'))\n",
    "    return plot_df"
   ]
  },
  {
   "cell_type": "code",
   "execution_count": null,
   "id": "6d1433dd-c829-470a-82d5-1eb21cb8b568",
   "metadata": {},
   "outputs": [],
   "source": [
    "class SubsetConfig:\n",
    "    def __init__(self, df):\n",
    "        self.strat = df['Interval'].iloc[0] if len(df) > 0 and 'Interval' in df.columns else None\n",
    "        self.type_ = df['Type'].iloc[0] if len(df) > 0 else None\n",
    "        self.color = None if (len(df) > 0) and (df['Experiment'].iloc[0] == 'No_ExpGroups_Provided') else 'Experiment'\n",
    "\n",
    "    def make_title(self, prefix):\n",
    "        title = prefix\n",
    "        if self.strat is not None:\n",
    "            title += f' over {self.strat}'\n",
    "        if self.type_ is not None:\n",
    "            title += f' for {self.type_}'\n",
    "        return title"
   ]
  },
  {
   "cell_type": "code",
   "execution_count": null,
   "id": "30f97b66-88a2-4809-81e9-ec9ec39ea4cd",
   "metadata": {},
   "outputs": [],
   "source": []
  },
  {
   "cell_type": "markdown",
   "id": "426286da-b587-41c9-a003-d1e9e354c9cf",
   "metadata": {},
   "source": [
    "## Summary Tab"
   ]
  },
  {
   "cell_type": "code",
   "execution_count": null,
   "id": "a767c924-199c-44f4-b8b2-84ac10b7c4ef",
   "metadata": {},
   "outputs": [],
   "source": [
    "def make_prec_recall_plot(df, marginal, axes_mode):\n",
    "    cfg = SubsetConfig(df)\n",
    "    \n",
    "    if not SINGLE_SAMPLE_MODE:\n",
    "        marginal = marginal.lower() if marginal != 'None' else None\n",
    "        fig = px.scatter(df, x='Recall', y='Precision', color=cfg.color, marginal_x=marginal, marginal_y=marginal,\n",
    "                          hover_data=['Query_Name'], title=cfg.make_title(prefix=f'Precision vs Recall Plot'), \n",
    "                          category_orders=CATEGORY_ORDERS, color_discrete_map=EXPERIMENT_COLOR_MAP)\n",
    "        if axes_mode == 'Fixed':\n",
    "            fig.update_layout(xaxis_range=[0, 1.1], yaxis_range=[0, 1.1])\n",
    "    else:\n",
    "        melted_df = df.melt(id_vars=['Experiment', 'Query_Name', 'Base_Name', 'Interval', 'Type'], value_vars=['Precision', 'Recall', 'F1_Score'])\n",
    "        melted_df = melted_df.rename(columns={'variable': 'Stat', 'value': 'Value'})\n",
    "        fig = px.bar(melted_df, x='Stat', y='Value', title=cfg.make_title(prefix=f'Performance Stats'), \n",
    "                     category_orders=CATEGORY_ORDERS, color_discrete_map=EXPERIMENT_COLOR_MAP)\n",
    "        fig.update_layout(yaxis_range=[0, 1.1])\n",
    "    \n",
    "    return fig\n",
    "\n",
    "\n",
    "def make_stat_covariate_plot(df, covaraite, stat, axes_mode):\n",
    "    cfg = SubsetConfig(df)\n",
    "    \n",
    "    fig = px.scatter(df, x=stat_corr, y=stat, color=cfg.color, hover_data=['Query_Name', 'TP_Base', 'TP_Query', 'FP', 'FN'],\n",
    "                      title=cfg.make_title(prefix=f'Plot of {stat} by {covariate}'), \n",
    "                      category_orders=CATEGORY_ORDERS, color_discrete_map=EXPERIMENT_COLOR_MAP)\n",
    "    if axes_mode == 'Fixed':\n",
    "        fig.update_layout(yaxis_range=[0, 1.1])\n",
    "    return fig"
   ]
  },
  {
   "cell_type": "code",
   "execution_count": null,
   "id": "9519b819-bf4a-4e98-963f-18d09987cb5b",
   "metadata": {},
   "outputs": [],
   "source": [
    "summary_sidebar_plugins = [\n",
    "    make_strat_selector(summary_df),\n",
    "    make_type_selector(summary_df),\n",
    "    make_experiment_selector(summary_df),\n",
    "    make_axes_mode_selector()\n",
    "]\n",
    "\n",
    "# Prec vs Recall plot \n",
    "\n",
    "prec_recall_plot = qbb.PlotPanel(\n",
    "    header=\"Precision vs Recall Plot\",\n",
    "    plotter=make_prec_recall_plot,\n",
    "    plot_inputs={\n",
    "        'marginal': 'Box'\n",
    "    },\n",
    "    data_source=summary_df,\n",
    "    plugins=[\n",
    "        plg.PlotInputRadioButtons(\n",
    "            header='Marginal Plot Type',\n",
    "            plot_input='marginal',\n",
    "            data_values=['None', 'Box', 'Violin', 'Histogram', 'Rug']\n",
    "        ),\n",
    "    ] if not SINGLE_SAMPLE_MODE else []\n",
    ")\n",
    "\n",
    "\n",
    "# Stat correlator plot\n",
    "\n",
    "stat_covariate_plugins = [\n",
    "    plg.PlotInputRadioButtons(\n",
    "        header='Statistic to Plot',\n",
    "        plot_input='stat',\n",
    "        data_values=['F1_Score', 'Precision', 'Recall']\n",
    "    ),\n",
    "]\n",
    "\n",
    "if COVARIATE_X is not None:\n",
    "    if isinstance(COVARIATE_X, str):\n",
    "        correlators = [COVARIATE_X]\n",
    "    else:\n",
    "        try: \n",
    "            assert isinstance(COVARIATE_X, list)\n",
    "            correlators = COVARIATE_X\n",
    "            stat_corr_plugins += [\n",
    "                plg.PlotInputRadioButtons(\n",
    "                    header='x-axis Covariate to Plot',\n",
    "                    plot_input='covariate',\n",
    "                    data_values=correlators\n",
    "                )\n",
    "            ]\n",
    "        except AssertionError:\n",
    "            print('COVARIATE_X must be a string or list of strings!')\n",
    "\n",
    "    stat_covariate_plot = qbb.PlotPanel(\n",
    "        header=\"Stat Correlation Plot\",\n",
    "        plotter=make_stat_covariate_plot,\n",
    "        plot_inputs={\n",
    "            'stat_corr': correlators[0],\n",
    "            'stat': 'F1_Score'\n",
    "        },\n",
    "        data_source=summary_df,\n",
    "        plugins=stat_covariate_plugins\n",
    "    )\n",
    "\n",
    "bench_stat_cg = qbb.ContentGrid(\n",
    "    header='Benchmarking Stat Scatter Plots',\n",
    "    content_list=[prec_recall_plot] + ([stat_covariate_plot] if COVARIATE_X is not None else [])\n",
    ")\n",
    "\n",
    "\n",
    "summary_tab = qbb.BaseTab(\n",
    "    tab_label=\"Simple Summary\",\n",
    "    tab_header=\"Plot for Simple Summary Stats\",\n",
    "    content_list=[\n",
    "        bench_stat_cg\n",
    "    ],\n",
    "    sidebar_plugins=summary_sidebar_plugins\n",
    ")"
   ]
  },
  {
   "cell_type": "code",
   "execution_count": null,
   "id": "0997f69d-823f-473a-a7f5-8b770e8f6de4",
   "metadata": {},
   "outputs": [],
   "source": []
  },
  {
   "cell_type": "markdown",
   "id": "ebfd4f9e-2610-42d9-a2fa-e790d7d5e261",
   "metadata": {},
   "source": [
    "## ROC Tab"
   ]
  },
  {
   "cell_type": "code",
   "execution_count": null,
   "id": "9e4b3dc0-727a-403b-a3ab-68433503bf20",
   "metadata": {},
   "outputs": [],
   "source": [
    "def make_roc_plot(df, roc_mode, error_bars, axes_mode):\n",
    "    cfg = SubsetConfig(df)\n",
    "\n",
    "    if roc_mode in ['Precision', 'Recall']:\n",
    "        error_y = None\n",
    "        if not SINGLE_SAMPLE_MODE:\n",
    "            plot_df = make_exp_average(df, 'Score')\n",
    "            error_y = f'{roc_mode}_conf' if SHOW_ERROR_BARS & (error_bars == 'Show') else None\n",
    "        else:\n",
    "            plot_df = df\n",
    "    \n",
    "        fig = px.line(plot_df, x='Score', y=f'{roc_mode}_mean', error_y=error_y, \n",
    "                      hover_data=['Score', 'TP_Base_mean', 'TP_Query_mean', 'FP_mean', 'FN_mean'],\n",
    "                      title=cfg.make_title(f'{roc_mode} Plot') + ' stratified by Score', color=cfg.color,\n",
    "                      category_orders=CATEGORY_ORDERS, color_discrete_map=EXPERIMENT_COLOR_MAP)\n",
    "    else:\n",
    "        fig = px.line(df, x='Recall', y='Precision', color=cfg.color, line_group='Query_Name', hover_data=['Score'],\n",
    "                      title=cfg.make_title(f'ROC Plot') + ' stratified by Score')\n",
    "        fig.update_layout(xaxis_range=[0, 1.1])\n",
    "\n",
    "    if axes_mode == 'Fixed':\n",
    "        fig.update_layout(yaxis_range=[0, 1.1])\n",
    "    return fig"
   ]
  },
  {
   "cell_type": "code",
   "execution_count": null,
   "id": "846ea3cb-30ea-4d05-878e-e9d19b861120",
   "metadata": {},
   "outputs": [],
   "source": [
    "roc_sidebar_plugins = [\n",
    "    make_type_selector(roc_df),\n",
    "    make_experiment_selector(roc_df),\n",
    "    make_axes_mode_selector(),\n",
    "    make_sample_selector(roc_df),\n",
    "]\n",
    "\n",
    "roc_plot_plugins = [\n",
    "    plg.PlotInputRadioButtons(\n",
    "        header='ROC Mode',\n",
    "        plot_input='roc_mode',\n",
    "        data_values=['Traditional', 'Precision', 'Recall']\n",
    "    )\n",
    "]\n",
    "roc_plot_plugins += [\n",
    "    plg.PlotInputRadioButtons(\n",
    "        header='Toggle Error Bar Visibility',\n",
    "        plot_input='error_bars',\n",
    "        data_values=['Show', 'Hide']\n",
    "    )\n",
    "] if SHOW_ERROR_BARS else []\n",
    "\n",
    "roc_plot = qbb.PlotPanel(\n",
    "    header=\"ROC Plot (TP vs FP by Score Field)\",\n",
    "    plotter=make_roc_plot,\n",
    "    plot_inputs={},\n",
    "    data_source=roc_df,\n",
    "    plugins=roc_plot_plugins\n",
    ")"
   ]
  },
  {
   "cell_type": "code",
   "execution_count": null,
   "id": "8f16ff7e-f013-4db5-8f35-e8addd8c48eb",
   "metadata": {},
   "outputs": [],
   "source": [
    "roc_tab = qbb.BaseTab(\n",
    "    tab_label='ROC Plots',\n",
    "    tab_header='ROC Plots',\n",
    "    content_list=[\n",
    "        roc_plot\n",
    "    ],\n",
    "    sidebar_plugins=roc_sidebar_plugins\n",
    ")"
   ]
  },
  {
   "cell_type": "code",
   "execution_count": null,
   "id": "6a394956-ff05-46d5-b911-b45050571dbb",
   "metadata": {},
   "outputs": [],
   "source": []
  },
  {
   "cell_type": "markdown",
   "id": "8eba0625-3c2a-4a06-a387-350f3c5a47ab",
   "metadata": {},
   "source": [
    "## SNP Tab"
   ]
  },
  {
   "cell_type": "code",
   "execution_count": null,
   "id": "54ec0cf5-c2f1-480a-af50-d514bc5893a8",
   "metadata": {},
   "outputs": [],
   "source": [
    "st_df['Ref_Nucleotide'] = st_df['Substitution'].apply(lambda x: x.split('>')[0])\n",
    "st_df['Var_Nucleotide'] = st_df['Substitution'].apply(lambda x: x.split('>')[1])"
   ]
  },
  {
   "cell_type": "code",
   "execution_count": null,
   "id": "274b6218-1df8-46af-a9ea-6d63ddd0e47f",
   "metadata": {},
   "outputs": [],
   "source": [
    "def make_titv_plot(df, stat, axes_mode):\n",
    "    cfg = SubsetConfig(df)\n",
    "\n",
    "    error_y = None\n",
    "    if not SINGLE_SAMPLE_MODE:\n",
    "        plot_df = make_exp_average(df, 'Substitution_Type')\n",
    "        error_y = f'{stat}_conf' if SHOW_ERROR_BARS else None\n",
    "    else:\n",
    "        plot_df = df\n",
    "\n",
    "    plot_df = plot_df.replace('Ti', 'Transitions').replace('Tv', 'Transversions')\n",
    "\n",
    "    fig = px.bar(plot_df, x='Substitution_Type', y=f'{stat}_mean', error_y=error_y, \n",
    "                  title=cfg.make_title(f'Plot of {stat} mean by Substitution Type'), \n",
    "                  hover_data=['TP_Base_mean', 'TP_Query_mean', 'FP_mean', 'FN_mean', 'IGN_mean', 'OUT_mean'], color=cfg.color, barmode='group',\n",
    "                  category_orders=CATEGORY_ORDERS, color_discrete_map=EXPERIMENT_COLOR_MAP)\n",
    "    if axes_mode == 'Fixed' and stat in ['Precision', 'Recall', 'F1_Score']:\n",
    "        fig.update_layout(yaxis_range=[0, 1.1])\n",
    "    return fig\n",
    "\n",
    "def make_snp_substitution_plot(df, stat, axes_mode):\n",
    "    cfg = SubsetConfig(df)\n",
    "\n",
    "    df_means = df.groupby(['Experiment', 'Type', 'Substitution_Type', \n",
    "                           'Ref_Nucleotide', 'Var_Nucleotide'])[['TP_Base', 'TP_Query', \n",
    "                                                                 'FP', 'FN', 'F1_Score', 'Precision', 'Recall', 'IGN', 'OUT']].mean().reset_index()\n",
    "    df_conf = df.groupby(['Experiment', 'Type', 'Substitution_Type', 'Ref_Nucleotide', 'Var_Nucleotide'])[[\n",
    "        'TP_Base', 'TP_Query', 'FP', 'FN', 'F1_Score', 'Precision', 'Recall', 'IGN', 'OUT']].sem().apply(lambda x: 1.96*x).reset_index()\n",
    "    \n",
    "    plot_df = df_means.merge(df_conf, on=['Experiment', 'Ref_Nucleotide', 'Var_Nucleotide'], suffixes=('_mean', '_conf'))\n",
    "    counts = ['TP_Base_mean', 'TP_Query_mean', 'FP_mean', 'FN_mean']\n",
    "    plot_df[counts] = plot_df[counts].round(2)\n",
    "    \n",
    "    category_orders = {\n",
    "        'Ref_Nucleotide': ['A', 'G', 'C', 'T'],\n",
    "        'Var_Nucleotide': ['A', 'G', 'C', 'T']\n",
    "    }\n",
    "    if EXPERIMENT_ORDER is not None:\n",
    "        category_orders = {**category_orders, **{'Experiment': EXPERIMENT_ORDER}}\n",
    "\n",
    "    fig = px.scatter_3d(plot_df, x='Ref_Nucleotide', y='Var_Nucleotide', z=f'{stat}_mean', error_z=f'{stat}_conf', color=cfg.color, \n",
    "                        hover_data=['TP_Base_mean', 'TP_Query_mean', 'FP_mean', 'FN_mean', 'IGN_mean', 'OUT_mean'],\n",
    "                        title=cfg.make_title(f'Plot of {stat} per Substitution Type'), \n",
    "                        category_orders=category_orders, symbol='Substitution_Type_mean', color_discrete_map=EXPERIMENT_COLOR_MAP,\n",
    "                        height=700, width=1000,\n",
    "                       )\n",
    "    fig.update_layout(scene_camera=dict(eye=dict(x=1.5, y=1.5, z=0.4)))\n",
    "    return fig"
   ]
  },
  {
   "cell_type": "code",
   "execution_count": null,
   "id": "bd675ea8-4299-40a7-8506-d92b6e2b2383",
   "metadata": {},
   "outputs": [],
   "source": [
    "snp_sidebar_plugins = [\n",
    "    make_strat_selector(st_df),\n",
    "    make_type_selector(st_df),\n",
    "    make_experiment_selector(st_df),\n",
    "    make_axes_mode_selector()\n",
    "]\n",
    "\n",
    "snp_titv_plot = qbb.PlotPanel(\n",
    "    header='Distribution of Stats for Ti or Tv',\n",
    "    plotter=make_titv_plot,\n",
    "    plot_inputs={\n",
    "        'stat': 'F1_Score',\n",
    "    },\n",
    "    data_source=st_df,\n",
    "    plugins=[\n",
    "        plg.PlotInputRadioButtons(\n",
    "            header='Stat to Plot',\n",
    "            plot_input='stat',\n",
    "            data_values=['F1_Score', 'Precision', 'Recall', 'TP_Base', 'TP_Query', 'FP', 'FN', 'IGN', 'OUT']\n",
    "        ),\n",
    "    ]\n",
    ")\n",
    "\n",
    "snp_substitution_plot = qbb.PlotPanel(\n",
    "    header='SNP Substitution Plot',\n",
    "    plotter=make_snp_substitution_plot,\n",
    "    plot_inputs={\n",
    "        'stat': 'F1_Score',\n",
    "    },\n",
    "    data_source=st_df,\n",
    "    plugins=[\n",
    "        plg.PlotInputRadioButtons(\n",
    "            header='Stat to Plot',\n",
    "            plot_input='stat',\n",
    "            data_values=['F1_Score', 'Precision', 'Recall', 'TP_Base', 'TP_Query', 'FP', 'FN', 'IGN', 'OUT']\n",
    "        )\n",
    "    ]\n",
    ")\n",
    "\n",
    "snp_cg = qbb.ContentGrid(\n",
    "    content_list=[\n",
    "        snp_titv_plot,\n",
    "        snp_substitution_plot\n",
    "    ],\n",
    "    col_wrap=1\n",
    ")\n",
    "\n",
    "snp_tab = qbb.BaseTab(\n",
    "    tab_label='SNP Plots',\n",
    "    tab_header='SNP Plots',\n",
    "    content_list=[\n",
    "        snp_cg\n",
    "    ],\n",
    "    sidebar_plugins=snp_sidebar_plugins\n",
    ")"
   ]
  },
  {
   "cell_type": "code",
   "execution_count": null,
   "id": "f85dbd9b-fde3-49ba-8825-e4fb3af010f8",
   "metadata": {},
   "outputs": [],
   "source": []
  },
  {
   "cell_type": "markdown",
   "id": "fd1675cf-f6aa-444b-bc5c-e678824700af",
   "metadata": {},
   "source": [
    "## INDEL Tab"
   ]
  },
  {
   "cell_type": "code",
   "execution_count": null,
   "id": "470ac4a6-1685-4dfe-a7b5-dd19184b345b",
   "metadata": {},
   "outputs": [],
   "source": [
    "def make_idd_plot(df, stat, axes_mode):\n",
    "    cfg = SubsetConfig(df)\n",
    "\n",
    "    error_y = None\n",
    "    if not SINGLE_SAMPLE_MODE:\n",
    "        plot_df = make_exp_average(df, 'INDEL_Length')\n",
    "        error_y = f'{stat}_conf' if SHOW_ERROR_BARS else None\n",
    "    else:\n",
    "        plot_df = df\n",
    "    \n",
    "    fig = px.line(plot_df, x='INDEL_Length', y=f'{stat}_mean', error_y=error_y, title=cfg.make_title(f'Plot of {stat} mean by INDEL Length'), \n",
    "                  hover_data=['TP_Base_mean', 'TP_Query_mean', 'FP_mean', 'FN_mean', 'IGN_mean', 'OUT_mean'], color=cfg.color, line_group=cfg.color, \n",
    "                  category_orders=CATEGORY_ORDERS, color_discrete_map=EXPERIMENT_COLOR_MAP)\n",
    "    if axes_mode == 'Fixed' and stat in ['Precision', 'Recall', 'F1_Score']:\n",
    "        fig.update_layout(yaxis_range=[0, 1.1])\n",
    "    return fig"
   ]
  },
  {
   "cell_type": "code",
   "execution_count": null,
   "id": "ac00bd23-09eb-42b7-b978-b0a152bc0a2a",
   "metadata": {},
   "outputs": [],
   "source": [
    "indel_sidebar_plugins = [\n",
    "    make_strat_selector(idd_df),\n",
    "    make_type_selector(idd_df),\n",
    "    make_experiment_selector(idd_df),\n",
    "    make_axes_mode_selector()\n",
    "]\n",
    "\n",
    "min_indel_len = min(idd_df['INDEL_Length'])\n",
    "max_indel_len = max(idd_df['INDEL_Length'])\n",
    "indel_len_slider_marks = {\n",
    "    i: str(i) for i in range(min_indel_len, max_indel_len+1, 5)\n",
    "}\n",
    "\n",
    "idd_plot = qbb.PlotPanel(\n",
    "    header='INDEL Distribution Plot',\n",
    "    plotter=make_idd_plot,\n",
    "    plot_inputs={\n",
    "        'stat': 'F1_Score'\n",
    "    },\n",
    "    data_source=idd_df,\n",
    "    plugins=[\n",
    "        plg.PlotInputRadioButtons(\n",
    "            header='Stat to Plot',\n",
    "            plot_input='stat',\n",
    "            data_values=['F1_Score', 'Precision', 'Recall', 'IGN', 'OUT']\n",
    "        ),\n",
    "        plg.DataFilterRangeSlider(\n",
    "            header='Range for INDEL Length',\n",
    "            data_col='INDEL_Length',\n",
    "            slider_min=min_indel_len,\n",
    "            slider_max=max_indel_len,\n",
    "            slider_default_values=[max(-15, min_indel_len), min(15, max_indel_len)],\n",
    "            slider_step=1,\n",
    "            slider_marks=indel_len_slider_marks\n",
    "        )\n",
    "    ]\n",
    ")\n",
    "\n",
    "indel_tab = qbb.BaseTab(\n",
    "    tab_label='INDEL Plots',\n",
    "    tab_header='INDEL Plots',\n",
    "    content_list=[\n",
    "        idd_plot\n",
    "    ],\n",
    "    sidebar_plugins=indel_sidebar_plugins\n",
    ")"
   ]
  },
  {
   "cell_type": "code",
   "execution_count": null,
   "id": "51cd0acf-d4a3-48dc-9bdf-eb5551e9c5e1",
   "metadata": {},
   "outputs": [],
   "source": []
  },
  {
   "cell_type": "markdown",
   "id": "13b1edb8-2f2e-4ff6-84b2-1627be88f126",
   "metadata": {},
   "source": [
    "## Main Board"
   ]
  },
  {
   "cell_type": "code",
   "execution_count": null,
   "id": "b786295d-9d47-43c2-bf93-58f67eeecc71",
   "metadata": {},
   "outputs": [],
   "source": [
    "board = qbb.Quickboard(\n",
    "    tab_list=[\n",
    "        summary_tab,\n",
    "        roc_tab,\n",
    "        snp_tab,\n",
    "        indel_tab\n",
    "    ]\n",
    ")"
   ]
  },
  {
   "cell_type": "code",
   "execution_count": null,
   "id": "4d27934b-dd22-4dfa-989b-81ea76c8b443",
   "metadata": {},
   "outputs": [],
   "source": [
    "start_app(board, app_title='BenchmarkBoard', jupyter_mode='external', port=8050)"
   ]
  },
  {
   "cell_type": "code",
   "execution_count": null,
   "id": "6266d46a-7d0a-4ad6-8883-9129167b0f2c",
   "metadata": {},
   "outputs": [],
   "source": []
  },
  {
   "cell_type": "code",
   "execution_count": null,
   "id": "cfe15759-a6aa-4e15-8e5d-746aa2afb2f5",
   "metadata": {},
   "outputs": [],
   "source": []
  }
 ],
 "metadata": {
  "kernelspec": {
   "display_name": "Python 3 (ipykernel)",
   "language": "python",
   "name": "python3"
  },
  "language_info": {
   "codemirror_mode": {
    "name": "ipython",
    "version": 3
   },
   "file_extension": ".py",
   "mimetype": "text/x-python",
   "name": "python",
   "nbconvert_exporter": "python",
   "pygments_lexer": "ipython3",
   "version": "3.10.9"
  }
 },
 "nbformat": 4,
 "nbformat_minor": 5
}
