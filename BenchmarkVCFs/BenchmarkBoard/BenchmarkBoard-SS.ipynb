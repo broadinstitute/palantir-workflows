{
 "cells": [
  {
   "cell_type": "code",
   "execution_count": null,
   "id": "026481f0-9180-467b-893d-3c3426c8748f",
   "metadata": {},
   "outputs": [],
   "source": [
    "import pandas as pd\n",
    "import numpy as np\n",
    "import plotly.express as px\n",
    "\n",
    "import quickboard.base as qbb\n",
    "import quickboard.plugins as plg\n",
    "from quickboard.app import start_app"
   ]
  },
  {
   "cell_type": "code",
   "execution_count": null,
   "id": "909ade3d-62d7-41e2-9f4b-05ec9779938e",
   "metadata": {},
   "outputs": [],
   "source": []
  },
  {
   "cell_type": "code",
   "execution_count": null,
   "id": "738269b8-45c4-4dd7-9d70-49084e161dad",
   "metadata": {},
   "outputs": [],
   "source": []
  },
  {
   "cell_type": "markdown",
   "id": "77f7977f-cde4-4f37-a766-c33a6ac8f808",
   "metadata": {},
   "source": [
    "## Load Data"
   ]
  },
  {
   "cell_type": "code",
   "execution_count": null,
   "id": "d0af1be0-129b-4b2e-8aca-5a921cb70e7b",
   "metadata": {},
   "outputs": [],
   "source": [
    "# These file paths must point to the corresponding output files from the WDL, either saved locally or bucket links\n",
    "\n",
    "idd_df = pd.read_csv('Full_IDD.tsv', sep='\\t')\n",
    "roc_df = pd.read_csv('Full_ROC.tsv', sep='\\t')\n",
    "st_df = pd.read_csv('Full_ST.tsv', sep='\\t')\n",
    "summary_df = pd.read_csv('SimpleSummary.tsv', sep='\\t')"
   ]
  },
  {
   "cell_type": "code",
   "execution_count": null,
   "id": "62cb344e-74b8-44aa-8819-0cabec98c1b5",
   "metadata": {},
   "outputs": [],
   "source": []
  },
  {
   "cell_type": "markdown",
   "id": "3b9cd773-b359-48a0-892c-7c3853dd4fa1",
   "metadata": {},
   "source": [
    "### Fill Null Stratifier Entries"
   ]
  },
  {
   "cell_type": "code",
   "execution_count": null,
   "id": "61925f2d-a842-4f62-8770-5f0083f4ce8e",
   "metadata": {},
   "outputs": [],
   "source": [
    "for df in [idd_df, roc_df, st_df, summary_df]:\n",
    "    strat_values = df['Stratifier'].unique()\n",
    "    if 'Whole Genome' not in strat_values:\n",
    "        df['Stratifier'] = df['Stratifier'].fillna('Whole Genome')\n",
    "    elif 'Whole Genome (default)' in strat_values:\n",
    "        raise ValueError(\"Error: Rename your stratifier labels to not include either 'Whole Genome' or 'Whole Genome (default)'\")\n",
    "    else:\n",
    "        df['Stratifier'] = df['Stratifier'].fillana('Whole Genome (default)')"
   ]
  },
  {
   "cell_type": "code",
   "execution_count": null,
   "id": "207a06d1-4865-4691-8065-3bf1cc31fd5e",
   "metadata": {},
   "outputs": [],
   "source": []
  },
  {
   "cell_type": "markdown",
   "id": "cca24a77-88ee-47d4-bfe9-eaedd6ad1ba8",
   "metadata": {},
   "source": [
    "## Plugin Utilities"
   ]
  },
  {
   "cell_type": "code",
   "execution_count": null,
   "id": "8a37b394-cae0-4abb-8d98-ee3bf5795175",
   "metadata": {},
   "outputs": [],
   "source": [
    "def make_strat_selector(df):\n",
    "    return plg.DataFilterRadioButtons(\n",
    "        header=\"Interval List\",\n",
    "        data_col='Stratifier',\n",
    "        data_values=list(df['Stratifier'].unique())\n",
    "    )\n",
    "\n",
    "def make_type_selector(df):\n",
    "    return plg.DataFilterRadioButtons(\n",
    "        header=\"Variant Type\",\n",
    "        data_col='Type',\n",
    "        data_values=list(df['Type'].unique())\n",
    "    )\n",
    "\n",
    "def make_sample_selector(df):\n",
    "    return plg.DataFilterRadioButtons(\n",
    "        header=\"Callset Sample\",\n",
    "        data_col='Call_Name',\n",
    "        data_values=list(df['Call_Name'].unique())\n",
    "    )"
   ]
  },
  {
   "cell_type": "code",
   "execution_count": null,
   "id": "d8ec870c-c0bd-4c20-9beb-77bef21bc438",
   "metadata": {},
   "outputs": [],
   "source": []
  },
  {
   "cell_type": "markdown",
   "id": "f5246edc-cccb-496f-90a2-ecbd8b75072d",
   "metadata": {},
   "source": [
    "## Summary Tab"
   ]
  },
  {
   "cell_type": "code",
   "execution_count": null,
   "id": "7cc87066-d952-4a7c-9ec6-cbac0b55cf44",
   "metadata": {},
   "outputs": [],
   "source": [
    "summary_sidebar_plugins = [\n",
    "    plg.DataFilterChecklist(\n",
    "        header=\"Interval List\",\n",
    "        data_col='Stratifier',\n",
    "        data_values=list(df['Stratifier'].unique())\n",
    "    ),\n",
    "    plg.DataFilterChecklist(\n",
    "        header=\"Variant Type\",\n",
    "        data_col='Type',\n",
    "        data_values=list(df['Type'].unique())\n",
    "    )\n",
    "]\n",
    "\n",
    "summary_body_text = f\"\"\"This table contains counts of benchmarking statistics (FP, Precision, etc.) for each \n",
    "sample across various interval stratifiers and variant subtypes. \n",
    "\n",
    "You can filter the table below by typing into the fields above each column. \n",
    "\n",
    "E.g. type 'SNP' in the Type column to see stats on variant types containing the string 'SNP' only, or '=SNP' for just those with value exactly 'SNP'.\n",
    "\n",
    "You can also sort values in a column alphabetically/ascending using the arrows on the left of the column title. Use syntax like '>0.75' to set \n",
    "thresholds to filter by.\n",
    "\"\"\"\n",
    "\n",
    "# Round entries to shorten table column width\n",
    "summary_df = summary_df.round(4)\n",
    "\n",
    "summary_table = qbb.DataPanel(\n",
    "    header='Summary Table',\n",
    "    body=summary_body_text,\n",
    "    data_source=summary_df,\n",
    ")\n",
    "\n",
    "summary_tab = qbb.BaseTab(\n",
    "    tab_label='Summary Stats',\n",
    "    tab_header='Summary Statistics',\n",
    "    content_list=[\n",
    "        summary_table\n",
    "    ],\n",
    "    sidebar_plugins=summary_sidebar_plugins\n",
    ")"
   ]
  },
  {
   "cell_type": "code",
   "execution_count": null,
   "id": "7e5fc43c-9a14-43f4-97c3-0ec4358eb70a",
   "metadata": {},
   "outputs": [],
   "source": []
  },
  {
   "cell_type": "markdown",
   "id": "01e3675d-ae75-4ea8-a3af-81d053e11838",
   "metadata": {},
   "source": [
    "## ROC Tab"
   ]
  },
  {
   "cell_type": "code",
   "execution_count": null,
   "id": "b408f9a9-0209-47ed-a368-810535787b7d",
   "metadata": {},
   "outputs": [],
   "source": [
    "def make_roc_plot(df, score_field, tp):\n",
    "    tp_value = f'TP_{tp}'\n",
    "    color = f'{tp}_Name'\n",
    "    strat = df['Stratifier'].iloc[0]\n",
    "    type_ = df['Type'].iloc[0]\n",
    "    fig = px.line(df, x='Score', y='Precision', hover_data=['Score', 'Score_Field', 'TP_Base', 'TP_Call', 'FP', 'FN'], \n",
    "                  title=f'ROC Plot on {strat} for {type_} by {score_field}', color=color)\n",
    "    return fig"
   ]
  },
  {
   "cell_type": "code",
   "execution_count": null,
   "id": "1b2da5b2-8074-4aac-959f-c4243400b4f9",
   "metadata": {},
   "outputs": [],
   "source": [
    "roc_sidebar_plugins = [\n",
    "    make_strat_selector(roc_df),\n",
    "    make_type_selector(roc_df),\n",
    "    plg.DataFilterRadioButtons(\n",
    "        header=\"Score Field\",\n",
    "        data_col='Score_Field',\n",
    "        data_values=list(roc_df['Score_Field'].unique())\n",
    "    ),\n",
    "    make_sample_selector(roc_df)\n",
    "]\n",
    "\n",
    "roc_plot = qbb.PlotPanel(\n",
    "    header=\"ROC Plot (TP vs FP by Score Field)\",\n",
    "    plotter=make_roc_plot,\n",
    "    plot_inputs={\n",
    "        'score_field': roc_df['Score_Field'].iloc[0],\n",
    "        'tp': 'Call'\n",
    "    },\n",
    "    data_source=roc_df,\n",
    "    plugins=[]\n",
    ")"
   ]
  },
  {
   "cell_type": "code",
   "execution_count": null,
   "id": "c45804e9-10c8-4266-b242-127eadf41a62",
   "metadata": {},
   "outputs": [],
   "source": [
    "roc_tab = qbb.BaseTab(\n",
    "    tab_label='ROC Plots',\n",
    "    tab_header='ROC Plots',\n",
    "    content_list=[\n",
    "        roc_plot\n",
    "    ],\n",
    "    sidebar_plugins=roc_sidebar_plugins\n",
    ")"
   ]
  },
  {
   "cell_type": "code",
   "execution_count": null,
   "id": "015af893-4e51-4ebe-999c-93b2293e4b84",
   "metadata": {},
   "outputs": [],
   "source": []
  },
  {
   "cell_type": "markdown",
   "id": "586457c0-f2b7-4cab-a387-284008eb51a2",
   "metadata": {},
   "source": [
    "## SNP Tab"
   ]
  },
  {
   "cell_type": "code",
   "execution_count": null,
   "id": "24f6cda8-bb2f-4448-ac1d-d19dc9ff6b06",
   "metadata": {},
   "outputs": [],
   "source": [
    "st_df['Ref_Nucleotide'] = st_df['Substitution'].apply(lambda x: x.split('>')[0])\n",
    "st_df['Var_Nucleotide'] = st_df['Substitution'].apply(lambda x: x.split('>')[1])"
   ]
  },
  {
   "cell_type": "code",
   "execution_count": null,
   "id": "47e2bb8b-3eef-425a-8e7a-643e2f069d70",
   "metadata": {},
   "outputs": [],
   "source": [
    "def make_snp_plot(df, stat):\n",
    "    strat = df['Stratifier'].iloc[0]\n",
    "    type_ = df['Type'].iloc[0]\n",
    "    category_orders = {\n",
    "        'Ref_Nucleotide': ['A', 'G', 'C', 'T'],\n",
    "        'Var_Nucleotide': ['A', 'G', 'C', 'T']\n",
    "    }\n",
    "    fig = px.scatter_3d(df, x='Ref_Nucleotide', y='Var_Nucleotide', z=stat, color='Substitution_Type', \n",
    "                        hover_data=['TP_Base', 'TP_Call', 'FP', 'FN'],\n",
    "                        title=f'Plot of {stat} per Substitution Type on {strat} for {type_}', \n",
    "                        category_orders=category_orders,\n",
    "                        height=700, width=1000,\n",
    "                       )\n",
    "    fig.update_layout(scene_camera=dict(eye=dict(x=1.5, y=1.5, z=0.4)))\n",
    "    return fig"
   ]
  },
  {
   "cell_type": "code",
   "execution_count": null,
   "id": "b1b29a42-45ef-4a01-a69f-ec1771cb44a1",
   "metadata": {},
   "outputs": [],
   "source": [
    "snp_sidebar_plugins = [\n",
    "    make_strat_selector(st_df),\n",
    "    make_type_selector(st_df),\n",
    "    make_sample_selector(st_df)\n",
    "]\n",
    "\n",
    "snp_plot = qbb.PlotPanel(\n",
    "    header='SNP Substitution Plot',\n",
    "    plotter=make_snp_plot,\n",
    "    plot_inputs={\n",
    "        'stat': 'F1_Score',\n",
    "    },\n",
    "    data_source=st_df,\n",
    "    plugins=[\n",
    "        plg.PlotInputRadioButtons(\n",
    "            header='Stat to Plot',\n",
    "            plot_input='stat',\n",
    "            data_values=['F1_Score', 'Precision', 'Recall', 'TP_Base', 'TP_Call', 'FP', 'FN']\n",
    "        )\n",
    "    ]\n",
    ")\n",
    "\n",
    "snp_tab = qbb.BaseTab(\n",
    "    tab_label='SNP Plots',\n",
    "    tab_header='SNP Plots',\n",
    "    content_list=[\n",
    "        snp_plot\n",
    "    ],\n",
    "    sidebar_plugins=snp_sidebar_plugins\n",
    ")"
   ]
  },
  {
   "cell_type": "code",
   "execution_count": null,
   "id": "e69935d1-f16d-4549-a859-4ad1da737f29",
   "metadata": {},
   "outputs": [],
   "source": []
  },
  {
   "cell_type": "markdown",
   "id": "e30aad9d-ba55-4a17-aa5d-e30ed6c927c5",
   "metadata": {},
   "source": [
    "## INDEL Tab"
   ]
  },
  {
   "cell_type": "code",
   "execution_count": null,
   "id": "79f679ee-7214-4118-b566-855262e4a607",
   "metadata": {},
   "outputs": [],
   "source": [
    "def make_idd_plot(df, stat):\n",
    "    strat = df['Stratifier'].iloc[0]\n",
    "    type_ = df['Type'].iloc[0]\n",
    "    fig = px.bar(df, x='INDEL_Length', y=stat, title=f'Plot of {stat} by INDEL Length on {strat} for {type_}',\n",
    "                hover_data=['TP_Base', 'TP_Call', 'FP', 'FN'])\n",
    "    return fig"
   ]
  },
  {
   "cell_type": "code",
   "execution_count": null,
   "id": "bd63152c-7453-422b-9e7e-d9f7b51d7577",
   "metadata": {},
   "outputs": [],
   "source": [
    "indel_sidebar_plugins = [\n",
    "    make_strat_selector(idd_df),\n",
    "    make_type_selector(idd_df),\n",
    "    make_sample_selector(idd_df)\n",
    "]\n",
    "\n",
    "min_indel_len = min(idd_df['INDEL_Length'])\n",
    "max_indel_len = max(idd_df['INDEL_Length'])\n",
    "indel_len_slider_marks = {\n",
    "    i: str(i) for i in range(min_indel_len, max_indel_len+1, 5)\n",
    "}\n",
    "\n",
    "idd_plot = qbb.PlotPanel(\n",
    "    header='InDel Distribution Plot',\n",
    "    plotter=make_idd_plot,\n",
    "    plot_inputs={\n",
    "        'stat': 'F1_Score'\n",
    "    },\n",
    "    data_source=idd_df,\n",
    "    plugins=[\n",
    "        plg.PlotInputRadioButtons(\n",
    "            header='Stat to Plot',\n",
    "            plot_input='stat',\n",
    "            data_values=['F1_Score', 'Precision', 'Recall']\n",
    "        ),\n",
    "        plg.DataFilterRangeSlider(\n",
    "            header='Range for INDEL Length',\n",
    "            data_col='INDEL_Length',\n",
    "            slider_min=min_indel_len,\n",
    "            slider_max=max_indel_len,\n",
    "            slider_default_values=[max(-20, min_indel_len), min(20, max_indel_len)],\n",
    "            slider_step=1,\n",
    "            slider_marks=indel_len_slider_marks\n",
    "        )\n",
    "    ]\n",
    ")\n",
    "\n",
    "indel_tab = qbb.BaseTab(\n",
    "    tab_label='INDEL Plots',\n",
    "    tab_header='INDEL Plots',\n",
    "    content_list=[\n",
    "        idd_plot\n",
    "    ],\n",
    "    sidebar_plugins=indel_sidebar_plugins\n",
    ")"
   ]
  },
  {
   "cell_type": "code",
   "execution_count": null,
   "id": "69107eb6-baed-479c-b317-396d002a35cf",
   "metadata": {},
   "outputs": [],
   "source": []
  },
  {
   "cell_type": "markdown",
   "id": "b4b4929e-9ad7-4a8c-9d6b-99daeaa95201",
   "metadata": {},
   "source": [
    "## Main Board"
   ]
  },
  {
   "cell_type": "code",
   "execution_count": null,
   "id": "ca10f963-7e79-4810-aa62-77ac56cc47af",
   "metadata": {},
   "outputs": [],
   "source": []
  },
  {
   "cell_type": "code",
   "execution_count": null,
   "id": "5859cb45-4247-4f8b-9401-9a20aa204896",
   "metadata": {},
   "outputs": [],
   "source": [
    "board = qbb.Quickboard(\n",
    "    tab_list=[\n",
    "        summary_tab,\n",
    "        roc_tab,\n",
    "        snp_tab,\n",
    "        indel_tab\n",
    "    ]\n",
    ")"
   ]
  },
  {
   "cell_type": "code",
   "execution_count": null,
   "id": "e1682fca-d923-48bd-bf52-fa253ca47f61",
   "metadata": {},
   "outputs": [],
   "source": [
    "start_app(board, app_title='BenchmarkBoard', mode='external', port=8050)"
   ]
  },
  {
   "cell_type": "code",
   "execution_count": null,
   "id": "500228b8-95f1-494e-bd8b-eb14df6e4221",
   "metadata": {},
   "outputs": [],
   "source": []
  },
  {
   "cell_type": "code",
   "execution_count": null,
   "id": "99b21ecb-ac53-4d82-b2b4-644f0146db9f",
   "metadata": {},
   "outputs": [],
   "source": []
  },
  {
   "cell_type": "code",
   "execution_count": null,
   "id": "792d96f2-215e-4de4-b98f-fd7cb92af9cb",
   "metadata": {},
   "outputs": [],
   "source": []
  },
  {
   "cell_type": "code",
   "execution_count": null,
   "id": "15ef26c4-7579-44cf-9a8d-968994cce193",
   "metadata": {},
   "outputs": [],
   "source": []
  }
 ],
 "metadata": {
  "kernelspec": {
   "display_name": "quickboard_venv",
   "language": "python",
   "name": "quickboard_venv"
  },
  "language_info": {
   "codemirror_mode": {
    "name": "ipython",
    "version": 3
   },
   "file_extension": ".py",
   "mimetype": "text/x-python",
   "name": "python",
   "nbconvert_exporter": "python",
   "pygments_lexer": "ipython3",
   "version": "3.9.6"
  }
 },
 "nbformat": 4,
 "nbformat_minor": 5
}
