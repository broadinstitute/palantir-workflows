{
 "cells": [
  {
   "cell_type": "code",
   "execution_count": 1,
   "id": "58a7e4e8-717a-4b1a-86ad-410d220a305f",
   "metadata": {
    "tags": []
   },
   "outputs": [],
   "source": [
    "import pandas as pd\n",
    "import numpy as np\n",
    "import plotly.express as px\n",
    "import plotly.figure_factory as ff\n",
    "import plotly.graph_objects as go\n",
    "\n",
    "import quickboard.base as qbb\n",
    "import quickboard.plugins as plg\n",
    "from quickboard.app import start_app, deploy_app, app\n",
    "\n",
    "from upset_plot_utils import create_upset, make_disqualified_df"
   ]
  },
  {
   "cell_type": "code",
   "execution_count": null,
   "id": "bc46d46c-5b7e-4371-8920-dac9834aa1ce",
   "metadata": {},
   "outputs": [],
   "source": []
  },
  {
   "cell_type": "markdown",
   "id": "fba1bbd0-ee7f-409e-9c7d-84d7d6fb4a62",
   "metadata": {},
   "source": [
    "# User Config\n",
    "\n",
    "Use this section to set variables that change the output and settings of the dashboard. Anything after this header's section should be untouched, and modifying the following code is advanced usage."
   ]
  },
  {
   "cell_type": "code",
   "execution_count": 2,
   "id": "368bda13-76b9-4f69-9415-c7e50741c951",
   "metadata": {},
   "outputs": [],
   "source": [
    "# (Optional) Covariate column names for benchmarking plots\n",
    "# Must be numeric to plot along x-axis, e.g. average coverage\n",
    "COVARIATE_X = None"
   ]
  },
  {
   "cell_type": "code",
   "execution_count": null,
   "id": "2a22880a-0d64-4cd5-9561-89d6a682ce16",
   "metadata": {},
   "outputs": [],
   "source": []
  },
  {
   "cell_type": "code",
   "execution_count": null,
   "id": "7508398b-879d-4cc1-abf3-6d35ecb822ea",
   "metadata": {},
   "outputs": [],
   "source": []
  },
  {
   "cell_type": "markdown",
   "id": "f56c6cc5-7d22-49e0-a801-a83aaaec5196",
   "metadata": {
    "tags": []
   },
   "source": [
    "# Import Data"
   ]
  },
  {
   "cell_type": "markdown",
   "id": "ae852989-a15d-489f-9232-238a3ad876fb",
   "metadata": {
    "tags": []
   },
   "source": [
    "## File Paths"
   ]
  },
  {
   "cell_type": "code",
   "execution_count": 3,
   "id": "94477bed-c002-4ef9-8506-70efd5aa0f22",
   "metadata": {},
   "outputs": [],
   "source": [
    "QC_DATA_PATH = 'wdl_outputs/combined_qc_stats.tsv'\n",
    "\n",
    "TRUVARI_BENCH_PATH = 'wdl_outputs/truvari_bench_summary.tsv'\n",
    "TRUVARI_FN_CLOSEST_PATH = 'wdl_outputs/truvari_fn_closest.tsv'\n",
    "TRUVARI_FP_CLOSEST_PATH = 'wdl_outputs/truvari_fp_closest.tsv'\n",
    "TRUVARI_FN_INTERVALS_PATH = 'wdl_outputs/truvari_fn_intervals.tsv'\n",
    "TRUVARI_FP_INTERVALS_PATH = 'wdl_outputs/truvari_fp_intervals.tsv'\n",
    "TRUVARI_TP_BASE_INTERVALS_PATH = 'wdl_outputs/truvari_tp-base_intervals.tsv'\n",
    "TRUVARI_TP_COMP_INTERVALS_PATH = 'wdl_outputs/truvari_tp-comp_intervals.tsv'\n",
    "\n",
    "WITTYER_STATS_PATH = 'wdl_outputs/wittyer_stats-cleaned.tsv'\n",
    "WITTYER_TRUTH_PATH = 'wdl_outputs/wittyer_truth_intervals.tsv'\n",
    "WITTYER_QUERY_PATH = 'wdl_outputs/wittyer_query_intervals.tsv'\n",
    "WITTYER_NOGT_PATH = 'wdl_outputs/wittyer_nogt_intervals.tsv'"
   ]
  },
  {
   "cell_type": "code",
   "execution_count": null,
   "id": "fe973af7-6496-46a6-850b-bb4154119250",
   "metadata": {},
   "outputs": [],
   "source": []
  },
  {
   "cell_type": "markdown",
   "id": "f9b4a875-e80b-4909-a44f-c8ae7b68fb4c",
   "metadata": {
    "tags": []
   },
   "source": [
    "## QC Data"
   ]
  },
  {
   "cell_type": "code",
   "execution_count": 4,
   "id": "a647572d-faa0-42a6-afe3-d64951b27bca",
   "metadata": {},
   "outputs": [],
   "source": [
    "qc_df = pd.read_csv(QC_DATA_PATH, sep='\\t')"
   ]
  },
  {
   "cell_type": "code",
   "execution_count": 5,
   "id": "732adb2e-6a23-4ea6-b0de-14597c6c81f9",
   "metadata": {},
   "outputs": [],
   "source": [
    "# Add AC_Ref counts\n",
    "qc_df['AC_Ref'] = qc_df['NS'] - qc_df['AC_Het'] - qc_df['AC_Hom'] / 2"
   ]
  },
  {
   "cell_type": "code",
   "execution_count": 6,
   "id": "a7473c36-769c-4fb5-aa57-7d58b482fabb",
   "metadata": {},
   "outputs": [],
   "source": [
    "# Bin lengths\n",
    "qc_length_bins = [\n",
    "    '<100bp',\n",
    "    '100 - 500bp',\n",
    "    '500bp - 2.5kb',\n",
    "    '2.5 - 10kb',\n",
    "    '10 - 50kb',\n",
    "    '> 50kb'\n",
    "]\n",
    "\n",
    "def bin_length(length):\n",
    "    if length < 100:\n",
    "        return '<100bp'\n",
    "    elif length <= 500:\n",
    "        return '100 - 500bp'\n",
    "    elif length < 2500:\n",
    "        return '500bp - 2.5kb'\n",
    "    elif length < 10_000:\n",
    "        return '2.5 - 10kb'\n",
    "    elif length < 50_000:\n",
    "        return '10 - 50kb'\n",
    "    else:\n",
    "        return '> 50kb'\n",
    "\n",
    "qc_df['SVLEN'] = qc_df['SVLEN'].replace('.', 0).astype(int)\n",
    "qc_df['SVLEN_Bin'] = qc_df['SVLEN'].apply(bin_length)"
   ]
  },
  {
   "cell_type": "code",
   "execution_count": 7,
   "id": "be40ff93-8ba8-40b4-982f-11afc7a61748",
   "metadata": {
    "tags": []
   },
   "outputs": [],
   "source": [
    "# Bin AFs\n",
    "qc_df['AF'] = qc_df['AF'].replace('.', 0).astype(float)\n",
    "qc_df['AF_Bin'] = qc_df['AF'].replace('.', 0).astype(float)\n",
    "\n",
    "qc_af_bins = [\n",
    "    'AC=1',\n",
    "    '< 1%',\n",
    "    '1-10%',\n",
    "    '10-50%',\n",
    "    '> 50%'\n",
    "]\n",
    "\n",
    "# Idea: First write AF_Bin column using AF, then overwrite using AC column if AC == 1\n",
    "def bin_af(af):\n",
    "    if af == 0:\n",
    "        return '0%'\n",
    "    elif af < .01:\n",
    "        return '< 1%'\n",
    "    elif af < .1:\n",
    "        return '1-10%'\n",
    "    elif af < .5:\n",
    "        return '10-50%'\n",
    "    else:\n",
    "        return '> 50%'\n",
    "\n",
    "# qc_df = qc_df.apply(bin_af, axis=1)\n",
    "qc_df['AF_Bin'] = qc_df['AF'].apply(bin_af)\n",
    "qc_df['AF_Bin'] = qc_df.apply(lambda x: 'AC=1' if x['AC'] == 1 else x['AF_Bin'], axis=1)"
   ]
  },
  {
   "cell_type": "code",
   "execution_count": 8,
   "id": "8fd07d3e-6639-4c0f-af7a-6c874c618956",
   "metadata": {},
   "outputs": [],
   "source": [
    "qc_df['SVLEN_Bin'] = pd.Categorical(qc_df['SVLEN_Bin'], ordered=True, categories=qc_length_bins)\n",
    "qc_df['AF_Bin'] = pd.Categorical(qc_df['AF_Bin'], ordered=True, categories=qc_af_bins)"
   ]
  },
  {
   "cell_type": "code",
   "execution_count": null,
   "id": "52a62173-5942-4442-9d4a-24acbe7caea4",
   "metadata": {},
   "outputs": [],
   "source": []
  },
  {
   "cell_type": "code",
   "execution_count": null,
   "id": "7b61cb32-27c2-4acf-ba1b-8ba1fb12805d",
   "metadata": {},
   "outputs": [],
   "source": []
  },
  {
   "cell_type": "markdown",
   "id": "187f0fb5-ea2b-4f76-b520-10f475dcf171",
   "metadata": {
    "tags": []
   },
   "source": [
    "## Truvari Data"
   ]
  },
  {
   "cell_type": "markdown",
   "id": "619a579d-855f-4219-95dc-e9b6f6e00462",
   "metadata": {
    "tags": []
   },
   "source": [
    "### Bench Data"
   ]
  },
  {
   "cell_type": "code",
   "execution_count": 10,
   "id": "f9414bed-6b84-4f0b-ab38-a1943c9ab8cc",
   "metadata": {},
   "outputs": [],
   "source": [
    "truvari_bench_df = pd.read_csv(TRUVARI_BENCH_PATH, sep='\\t')\n",
    "\n",
    "truvari_bench_df = truvari_bench_df.rename(columns={'SV_Type': 'SVTYPE'})"
   ]
  },
  {
   "cell_type": "code",
   "execution_count": null,
   "id": "99359b63-0926-4e47-9127-33274cca98b7",
   "metadata": {},
   "outputs": [],
   "source": []
  },
  {
   "cell_type": "markdown",
   "id": "42cbe718-9036-4c0d-a114-b4075a2d96d5",
   "metadata": {
    "jp-MarkdownHeadingCollapsed": true,
    "tags": []
   },
   "source": [
    "### Closest Data"
   ]
  },
  {
   "cell_type": "code",
   "execution_count": 11,
   "id": "35623e55-17d0-454c-9877-44af32f09dca",
   "metadata": {},
   "outputs": [],
   "source": [
    "truvari_fn_closest_df = pd.read_csv(TRUVARI_FN_CLOSEST_PATH, sep='\\t')\n",
    "truvari_fp_closest_df = pd.read_csv(TRUVARI_FP_CLOSEST_PATH, sep='\\t')\n",
    "\n",
    "truvari_fn_closest_df['LLEN'] = truvari_fn_closest_df['LLEN'].replace('.', 0).astype(int)\n",
    "truvari_fn_closest_df['RLEN'] = truvari_fn_closest_df['RLEN'].replace('.', 0).astype(int)\n",
    "truvari_fp_closest_df['LLEN'] = truvari_fp_closest_df['LLEN'].replace('.', 0).astype(int)\n",
    "truvari_fp_closest_df['RLEN'] = truvari_fp_closest_df['RLEN'].replace('.', 0).astype(int)"
   ]
  },
  {
   "cell_type": "code",
   "execution_count": 12,
   "id": "dd76bdc5-dcea-4d32-b817-e0765246ef19",
   "metadata": {
    "tags": []
   },
   "outputs": [],
   "source": [
    "# Add SIZE_RATIO fields\n",
    "truvari_fp_closest_df['SIZE_RATIO'] = truvari_fp_closest_df[['LLEN', 'RLEN']].min(axis=1) / truvari_fp_closest_df[['LLEN', 'RLEN']].max(axis=1)\n",
    "truvari_fn_closest_df['SIZE_RATIO'] = truvari_fn_closest_df[['LLEN', 'RLEN']].min(axis=1) / truvari_fn_closest_df[['LLEN', 'RLEN']].max(axis=1)"
   ]
  },
  {
   "cell_type": "code",
   "execution_count": 13,
   "id": "f1cfffbc-c81f-4625-914b-fb1aa8bf4b56",
   "metadata": {},
   "outputs": [],
   "source": [
    "# Add kth closest labels\n",
    "# TODO: Infer from output dataframe, or include from WDL outputs...\n",
    "k = 3\n",
    "truvari_fp_closest_df['kth_closest'] = truvari_fp_closest_df.index % k + 1\n",
    "truvari_fn_closest_df['kth_closest'] = truvari_fn_closest_df.index % k + 1"
   ]
  },
  {
   "cell_type": "code",
   "execution_count": null,
   "id": "8a88bd6a-fde0-4c43-8846-d91e87e15f4a",
   "metadata": {},
   "outputs": [],
   "source": []
  },
  {
   "cell_type": "markdown",
   "id": "93af730a-e248-416d-a989-dc9736b829e2",
   "metadata": {
    "jp-MarkdownHeadingCollapsed": true,
    "tags": []
   },
   "source": [
    "### Intervals Data"
   ]
  },
  {
   "cell_type": "code",
   "execution_count": 14,
   "id": "f34ecb84-aa7f-45b8-a045-13dcae629a8c",
   "metadata": {},
   "outputs": [],
   "source": [
    "truvari_fn_intervals_df = pd.read_csv(TRUVARI_FN_INTERVALS_PATH, sep='\\t')\n",
    "truvari_fp_intervals_df = pd.read_csv(TRUVARI_FP_INTERVALS_PATH, sep='\\t')\n",
    "truvari_tpbase_intervals_df = pd.read_csv(TRUVARI_TP_BASE_INTERVALS_PATH, sep='\\t')\n",
    "truvari_tpcomp_intervals_df = pd.read_csv(TRUVARI_TP_COMP_INTERVALS_PATH, sep='\\t')"
   ]
  },
  {
   "cell_type": "code",
   "execution_count": null,
   "id": "ce1b0f73-119a-4099-bb7f-201db2f01d1c",
   "metadata": {},
   "outputs": [],
   "source": []
  },
  {
   "cell_type": "markdown",
   "id": "a0d73cf0-3979-409c-b345-ec145739d230",
   "metadata": {
    "tags": []
   },
   "source": [
    "## Wittyer Data"
   ]
  },
  {
   "cell_type": "code",
   "execution_count": 15,
   "id": "61297f8b-e9a0-4825-8254-00272bb8e5b1",
   "metadata": {
    "tags": []
   },
   "outputs": [],
   "source": [
    "wittyer_stats_df = pd.read_csv(WITTYER_STATS_PATH, sep='\\t')\n",
    "wittyer_truth_df = pd.read_csv(WITTYER_TRUTH_PATH, sep='\\t')\n",
    "wittyer_query_df = pd.read_csv(WITTYER_QUERY_PATH, sep='\\t')\n",
    "wittyer_nogt_df = pd.read_csv(WITTYER_NOGT_PATH, sep='\\t')"
   ]
  },
  {
   "cell_type": "code",
   "execution_count": 16,
   "id": "4aa1463d-5574-4822-a32c-77c955b14a68",
   "metadata": {},
   "outputs": [],
   "source": [
    "wittyer_query_df['VCF'] = 'query'\n",
    "wittyer_truth_df['VCF'] = 'truth'\n",
    "\n",
    "adv_wittyer_df = pd.concat([wittyer_query_df, wittyer_truth_df])"
   ]
  },
  {
   "cell_type": "code",
   "execution_count": null,
   "id": "1fe1e33e-1e74-496a-bd84-2b927a855079",
   "metadata": {},
   "outputs": [],
   "source": []
  },
  {
   "cell_type": "markdown",
   "id": "27fceb26-7977-49e5-9c93-41ab08dd34e0",
   "metadata": {},
   "source": [
    "## Add BBEND Info"
   ]
  },
  {
   "cell_type": "code",
   "execution_count": 17,
   "id": "7f2933aa-f4cd-4f9a-a0c8-be5867543ef0",
   "metadata": {},
   "outputs": [],
   "source": [
    "# Add BBEND stats\n",
    "def add_bbend_stats(df):\n",
    "    interval_names = sorted(list(set([c.split('-')[0] for c in df.columns if '-count' in c])))\n",
    "    for i in interval_names:\n",
    "        df[f'{i}-BBEND-overlap'] = (df[f'{i}-LBEND-overlap'] + df[f'{i}-RBEND-overlap'])/2\n",
    "        df[f'{i}-BBEND-count'] = df[f'{i}-LBEND-count'] + df[f'{i}-RBEND-count']\n",
    "        \n",
    "add_bbend_stats(qc_df)\n",
    "add_bbend_stats(adv_wittyer_df)"
   ]
  },
  {
   "cell_type": "code",
   "execution_count": null,
   "id": "c454c69f-d639-4752-91dd-a63c6bdc6fd9",
   "metadata": {},
   "outputs": [],
   "source": []
  },
  {
   "cell_type": "markdown",
   "id": "d4948a92-770a-42ad-96b7-bc4c143fe895",
   "metadata": {},
   "source": [
    "# Quickboard"
   ]
  },
  {
   "cell_type": "markdown",
   "id": "25a92618-eda8-4a74-b47b-7b2b1a927c15",
   "metadata": {
    "tags": []
   },
   "source": [
    "## Plugin Methods"
   ]
  },
  {
   "cell_type": "code",
   "execution_count": 18,
   "id": "ade0e0d0-9889-4448-ae4b-81777f0c9c02",
   "metadata": {
    "tags": []
   },
   "outputs": [],
   "source": [
    "# Interval Plugins\n",
    "def make_interval_selector(df):\n",
    "    return plg.DataFilterRadioButtons(\n",
    "        header=\"Interval List\",\n",
    "        data_col='Interval',\n",
    "        data_values=list(df['Interval'].unique())\n",
    "    )\n",
    "\n",
    "def make_interval_name_selector(df):\n",
    "    names = sorted(list(set([c.split('-')[0] for c in df.columns if '-count' in c])))\n",
    "    return plg.PlotInputRadioButtons(\n",
    "        header=\"Interval List\",\n",
    "        plot_input='interval_name',\n",
    "        data_values=names\n",
    "    )\n",
    "\n",
    "def make_breakpoint_selector():\n",
    "    return plg.PlotInputRadioButtons(\n",
    "        header=\"Breakpoint Restriction\",\n",
    "        plot_input='breakpoint',\n",
    "        data_values=['Full', 'Left', 'Right', 'Both']\n",
    "    )\n",
    "\n",
    "def make_pct_overlap_slider():\n",
    "    return plg.PlotInputRangeSlider(\n",
    "        header='Pct Overlap w/ Chosen Region',\n",
    "        plot_input='pct_overlap',\n",
    "        slider_min=0,\n",
    "        slider_max=100,\n",
    "        slider_default_values=[0, 100],\n",
    "        slider_step=10,\n",
    "        slider_marks={\n",
    "            str(i): {'label': str(i), 'style': {\"transform\": \"rotate(-45deg)\"}} for i in range(0, 101, 10)\n",
    "        },\n",
    "        updatemode='mouseup'\n",
    "    )\n",
    "\n",
    "def make_interval_plugin_bundle(df):\n",
    "    return [\n",
    "        make_interval_name_selector(df),\n",
    "        make_breakpoint_selector(),\n",
    "        make_pct_overlap_slider()\n",
    "    ]\n",
    "\n",
    "# SV Plugins\n",
    "def make_type_selector(df):\n",
    "    return plg.DataFilterRadioButtons(\n",
    "        header=\"Variant Type\",\n",
    "        data_col='SVTYPE',\n",
    "        data_values=list(df['SVTYPE'].unique())\n",
    "    )\n",
    "\n",
    "def make_length_selector(df):\n",
    "    return plg.DataFilterChecklist(\n",
    "        header=\"SV Lengths\",\n",
    "        data_col='SVLEN_Bin',\n",
    "        data_values=qc_length_bins\n",
    "    )\n",
    "\n",
    "# Filter Plugins\n",
    "def make_filter_selector(df):\n",
    "    filters = df['FILTER'].unique()\n",
    "    data_values = []\n",
    "    if 'PASS' in filters:\n",
    "        data_values += ['PASS']\n",
    "    if '.' in filters:\n",
    "        data_values += ['.']\n",
    "    data_values += sorted([f for f in filters if (f != 'PASS') and (f != '.')])\n",
    "    \n",
    "    return plg.DataFilterRadioButtons(\n",
    "        header='Value for FILTER',\n",
    "        data_col='FILTER',\n",
    "        data_values=data_values\n",
    "    )\n",
    "\n",
    "# Experiment Plugins\n",
    "def make_experiment_selector(df):\n",
    "    return plg.DataFilterChecklist(\n",
    "        header=\"Experimental Groups\",\n",
    "        data_col='Experiment',\n",
    "        data_values=list(df['Experiment'].unique()),\n",
    "    )\n",
    "\n",
    "# Plot Format Plugins\n",
    "def make_axes_mode_selector():\n",
    "    return plg.PlotInputRadioButtons(\n",
    "        header=\"Axis Scaling\",\n",
    "        plot_input='axes_mode',\n",
    "        data_values=['Fixed', 'Dynamic']\n",
    "    )\n",
    "\n",
    "def make_stat_selector(data_values):\n",
    "    return plg.PlotInputRadioButtons(\n",
    "        header='Stat to Plot',\n",
    "        plot_input='stat',\n",
    "        data_values=data_values\n",
    "    )"
   ]
  },
  {
   "cell_type": "code",
   "execution_count": null,
   "id": "87a48be6-f0e7-447b-88b8-57008cbddc30",
   "metadata": {},
   "outputs": [],
   "source": []
  },
  {
   "cell_type": "markdown",
   "id": "aaf0f380-a34b-44f2-bdf0-bf3568e9c292",
   "metadata": {
    "tags": []
   },
   "source": [
    "## Decorators"
   ]
  },
  {
   "cell_type": "code",
   "execution_count": 19,
   "id": "5bc57024-7889-431a-a92d-8776d4ae16e4",
   "metadata": {},
   "outputs": [],
   "source": [
    "def interval_filter(plotter):\n",
    "    # Decorator to wrap plotter function to filter df based on interval plugin inputs\n",
    "    def interval_plotter(df, *args, **kwargs):\n",
    "        interval_name = kwargs['interval_name'] if 'interval_name' in kwargs else None\n",
    "        breakpoint = kwargs['breakpoint'] if 'breakpoint' in kwargs else None\n",
    "        pct_overlap = kwargs['pct_overlap'] if 'pct_overlap' in kwargs else None\n",
    "        \n",
    "        # Resolve logic on breakpoint stats\n",
    "        breakpoint_label = ''\n",
    "        if breakpoint == 'Left':\n",
    "            breakpoint_label = '-LBEND'\n",
    "        elif breakpoint == 'Right':\n",
    "            breakpoint_label == '-RBEND'\n",
    "        elif breakpoint == 'Both':\n",
    "            breakpoint_label = '-BBEND'\n",
    "        \n",
    "        # Perform filtering on df using interval name and breakpoint preference\n",
    "        overlap_label = f'{interval_name}{breakpoint_label}-overlap'\n",
    "        query = (df[overlap_label] >= pct_overlap[0]/100) & (df[overlap_label] <= pct_overlap[1]/100)\n",
    "        sub_df = df[query]\n",
    "        return plotter(sub_df, *args, **kwargs)\n",
    "    return interval_plotter"
   ]
  },
  {
   "cell_type": "code",
   "execution_count": 20,
   "id": "3574dbf4-5685-4449-88d3-2a4b4eb51f66",
   "metadata": {
    "tags": []
   },
   "outputs": [],
   "source": [
    "def axes_mode(plotter):\n",
    "    # Decorator to wrap plotter to use fixed or dynamic axes\n",
    "    def axes_plotter(*args, **kwargs):\n",
    "        fig = plotter(*args, **kwargs)\n",
    "        axes_mode = kwargs['axes_mode'] if 'axes_mode' in kwargs else None\n",
    "        if axes_mode == 'Fixed':\n",
    "            fig.update_layout(yaxis_range=[0, 1])\n",
    "            if COVARIATE_X is None:\n",
    "                fig.update_layout(xaxis_range=[0, 1])\n",
    "        return fig\n",
    "    return axes_plotter"
   ]
  },
  {
   "cell_type": "code",
   "execution_count": 21,
   "id": "25eed877-782f-4c15-8bfc-6fa60ed7981a",
   "metadata": {
    "tags": []
   },
   "outputs": [],
   "source": [
    "def filter_or_all_factory(col_name):\n",
    "    # A decorator factory (i.e. decorator w/ args) for filtering by col_name\n",
    "    def filter_or_all(plotter):\n",
    "        # A decorator that filters by col_name unless value is 'ALL'\n",
    "        def filter_or_all_plotter(df, *args, **kwargs):\n",
    "            if kwargs[col_name] != 'ALL':\n",
    "                sub_df = df[df[col_name] == kwargs[col_name]]\n",
    "            else:\n",
    "                sub_df = df\n",
    "            return plotter(sub_df, *args, **kwargs)\n",
    "        return filter_or_all_plotter\n",
    "    return filter_or_all"
   ]
  },
  {
   "cell_type": "code",
   "execution_count": 22,
   "id": "889e4750-0c9a-4558-9f96-4ce40bab3112",
   "metadata": {},
   "outputs": [],
   "source": [
    "def gt_match(plotter):\n",
    "    # A decorator to wrap plotter to force gt_match or not\n",
    "    # Note: assumes that plotter will only see DataFrames from Wittyer w/ WHY column\n",
    "    def gt_match_plotter(df, *args, **kwargs):\n",
    "        if kwargs['gt_match'] == 'True':\n",
    "            sub_df = df[df['WHY'] != 'GtMismatch']\n",
    "        else:\n",
    "            sub_df = df\n",
    "        return plotter(sub_df, *args, **kwargs)\n",
    "    return gt_match_plotter"
   ]
  },
  {
   "cell_type": "code",
   "execution_count": null,
   "id": "e960c120-7474-4517-8b24-f8f8fd21cb7b",
   "metadata": {},
   "outputs": [],
   "source": []
  },
  {
   "cell_type": "code",
   "execution_count": null,
   "id": "9d854774-f8c0-467b-a0fe-0b3f408e0f47",
   "metadata": {},
   "outputs": [],
   "source": []
  },
  {
   "cell_type": "markdown",
   "id": "ab25fe50-1352-4a29-9a58-b01e010f44ab",
   "metadata": {
    "tags": []
   },
   "source": [
    "## Tabs"
   ]
  },
  {
   "cell_type": "markdown",
   "id": "7afeab0d-4e8e-4dde-929e-f27a593f4238",
   "metadata": {
    "jp-MarkdownHeadingCollapsed": true,
    "tags": []
   },
   "source": [
    "### Counts Tab"
   ]
  },
  {
   "cell_type": "code",
   "execution_count": 23,
   "id": "6951a4f0-f3bc-41e1-85e9-b71dcefea322",
   "metadata": {},
   "outputs": [],
   "source": [
    "# TODO: Make sure x-axis is sorted appropriately for various categories, e.g. AF\n",
    "@interval_filter\n",
    "def make_bar_counts(df, x, interval_name, breakpoint, pct_overlap):\n",
    "    counts_df = df.groupby('Experiment')[[x, 'Experiment']].value_counts().reset_index(name='count').rename(columns={'index': x}).sort_values(by=x)\n",
    "    fig = px.bar(counts_df, x=x, y='count', barmode='group', color='Experiment', title=f'Count of {x}') # text_auto='.2s'\n",
    "    fig.update_traces(textfont_size=12, textangle=0, textposition=\"outside\", cliponaxis=False)\n",
    "    return fig"
   ]
  },
  {
   "cell_type": "code",
   "execution_count": 24,
   "id": "6ebbe8ea-2580-4b30-8e2d-2e7d66d2f03b",
   "metadata": {},
   "outputs": [],
   "source": [
    "count_plot = qbb.PlotPanel(\n",
    "    header='Counts Bar Chart',\n",
    "    plotter=make_bar_counts,\n",
    "    plot_inputs={\n",
    "        'x': 'SVTYPE'\n",
    "    },\n",
    "    data_source=qc_df,\n",
    "    plugins=[\n",
    "        plg.PlotInputRadioButtons(\n",
    "            header='Value for x',\n",
    "            plot_input='x',\n",
    "            data_values=['SVTYPE', 'SVLEN_Bin', 'AF_Bin']\n",
    "        ),\n",
    "    ]\n",
    ")"
   ]
  },
  {
   "cell_type": "code",
   "execution_count": 25,
   "id": "c515acab-9f43-4ebe-bfa8-827051230441",
   "metadata": {},
   "outputs": [],
   "source": [
    "counts_tab = qbb.BaseTab(\n",
    "    tab_label='SV Counts',\n",
    "    tab_header='Count Plots',\n",
    "    content_list=[\n",
    "        count_plot\n",
    "    ],\n",
    "    sidebar_plugins=make_interval_plugin_bundle(qc_df) + [\n",
    "        # make_interval_selector(qc_df),\n",
    "        make_length_selector(qc_df),\n",
    "        make_filter_selector(qc_df)\n",
    "        # make_experiment_selector(qc_df)\n",
    "    ]\n",
    ")"
   ]
  },
  {
   "cell_type": "code",
   "execution_count": null,
   "id": "af98a270-c8ee-4835-9c47-20c4ac125e96",
   "metadata": {},
   "outputs": [],
   "source": []
  },
  {
   "cell_type": "code",
   "execution_count": null,
   "id": "25e5e720-b396-48e7-a941-2de9c2987fe5",
   "metadata": {},
   "outputs": [],
   "source": []
  },
  {
   "cell_type": "markdown",
   "id": "8a11a506-fc55-4133-bb7e-5185e31e4142",
   "metadata": {
    "jp-MarkdownHeadingCollapsed": true,
    "tags": []
   },
   "source": [
    "### HWE Tab"
   ]
  },
  {
   "cell_type": "code",
   "execution_count": 26,
   "id": "634d4ad8-f086-4d18-a5f9-e8b29ea4a653",
   "metadata": {},
   "outputs": [],
   "source": [
    "@interval_filter\n",
    "def make_hwe_plot(df, interval_name, breakpoint, pct_overlap):\n",
    "    # Get type info\n",
    "    type_ = df['SVTYPE'].iloc[0] if len(df['SVTYPE']) > 0 else \"Empty df\"\n",
    "    title = f'HWE Plot for SVs of type {type_}'\n",
    "    \n",
    "    # Get interval info\n",
    "    title = title + f' over {interval_name} (w/ {pct_overlap[0]}-{pct_overlap[1]}% overlap)<br></br>'\n",
    "    \n",
    "    # Apply filters\n",
    "    filter_value = df['FILTER'].iloc[0] if len(df['FILTER']) > 0 else \"Empty df\"\n",
    "    title = title + f' (FILTER is {filter_value} only)'\n",
    "    \n",
    "    # Create plot\n",
    "    fig = px.scatter_ternary(df, \n",
    "                   a='AC_Het', b='AC_Ref', c='AC_Hom', color='HWE', color_continuous_scale=\"haline\",\n",
    "                   width=800, height=800, title=title)\n",
    "\n",
    "    fig.update_layout(coloraxis_colorbar_x=1.15)\n",
    "    \n",
    "    # Choose cut-off for HWE significance\n",
    "    if len(df) > 0:\n",
    "        absolute_cutoff = 0.05\n",
    "        bonferroni_cutoff = absolute_cutoff / len(df)\n",
    "        \n",
    "        HWE_below_abs_cutoff = len(df[df['HWE'] < absolute_cutoff])\n",
    "        HWE_below_bonferroni_cutoff = len(df[df['HWE'] < bonferroni_cutoff])\n",
    "        # HWE_above_abs_cutoff = len(df[df['HWE'] >= absolute_cutoff])\n",
    "        # HWE_above_bonferroni_cutoff = len(df[df['HWE'] >= bonferroni_cutoff])\n",
    "        total_sites = len(df)\n",
    "\n",
    "        fig.add_annotation(\n",
    "            text=f\"HWE Significant Sites (Bonferroni):<br></br> {HWE_below_bonferroni_cutoff} ({round(HWE_below_bonferroni_cutoff/total_sites*100, 2)}%)\",\n",
    "            xref=\"paper\", yref=\"paper\",\n",
    "            x=0, y=.9,\n",
    "            showarrow=False\n",
    "        )\n",
    "        \n",
    "        fig.add_annotation(\n",
    "            text=f\"HWE Significant Sites (Absolute):<br></br> {HWE_below_abs_cutoff} ({round(HWE_below_abs_cutoff/total_sites*100, 2)}%)\",\n",
    "            xref=\"paper\", yref=\"paper\",\n",
    "            x=0, y=.8,\n",
    "            showarrow=False\n",
    "        )\n",
    "    else:\n",
    "        fig.add_annotation(\n",
    "            text=f\"No sites fit criteria selected\",\n",
    "            xref=\"paper\", yref=\"paper\",\n",
    "            x=0, y=.9,\n",
    "            showarrow=False\n",
    "        )\n",
    "    \n",
    "    return fig"
   ]
  },
  {
   "cell_type": "code",
   "execution_count": 27,
   "id": "ed602f1c-f840-4afe-98eb-302549960e36",
   "metadata": {},
   "outputs": [],
   "source": [
    "hwe_plot = qbb.PlotPanel(\n",
    "    header='HWE Plot',\n",
    "    plotter=make_hwe_plot,\n",
    "    plot_inputs={},\n",
    "    data_source=qc_df,\n",
    "    plugins=[]\n",
    ")"
   ]
  },
  {
   "cell_type": "code",
   "execution_count": 28,
   "id": "5b545958-aaea-4761-825b-4aed84976d99",
   "metadata": {},
   "outputs": [],
   "source": [
    "hwe_tab = qbb.BaseTab(\n",
    "    tab_label='HWE Plots',\n",
    "    tab_header='Hardy-Weinberg Equilibrium Plots',\n",
    "    content_list=[\n",
    "        hwe_plot\n",
    "    ],\n",
    "    sidebar_plugins=make_interval_plugin_bundle(qc_df) + [\n",
    "        make_type_selector(qc_df),\n",
    "        make_length_selector(qc_df),\n",
    "        make_filter_selector(qc_df),\n",
    "    ]\n",
    ")"
   ]
  },
  {
   "cell_type": "code",
   "execution_count": null,
   "id": "a9d2bf91-08a7-4f7e-8200-36706f5cd04b",
   "metadata": {},
   "outputs": [],
   "source": []
  },
  {
   "cell_type": "markdown",
   "id": "80f271bb-93e2-4b6c-9c64-c021e1520fc3",
   "metadata": {
    "jp-MarkdownHeadingCollapsed": true,
    "tags": []
   },
   "source": [
    "### Basic Wittyer Tab"
   ]
  },
  {
   "cell_type": "code",
   "execution_count": 29,
   "id": "d77c2f83-4a1b-4d17-acb5-15c2f8e68dbc",
   "metadata": {
    "tags": []
   },
   "outputs": [],
   "source": [
    "wittyer_bins = ['All'] + sorted([str(x) for x in wittyer_stats_df['Bin'].unique() if (x != 'All') & (str(x) != 'nan')]) + ['nan']"
   ]
  },
  {
   "cell_type": "code",
   "execution_count": 30,
   "id": "c98086c0-78b1-4b3f-ad77-81798c1c73b7",
   "metadata": {},
   "outputs": [],
   "source": [
    "@axes_mode\n",
    "def make_basic_wittyer_plot(df, axes_mode, stat='Precision'):\n",
    "    if COVARIATE_X is not None:\n",
    "        x = COVARIATE_X\n",
    "        y = stat\n",
    "        title = f'{y} vs {x} Plot'\n",
    "    else:\n",
    "        x = 'Recall'\n",
    "        y = 'Precision'\n",
    "        title = 'Precision vs Recall Plot'\n",
    "    hover_data = ['QueryName', 'TruthName', 'TruthTpCount', 'TruthFnCount', 'QueryTpCount', 'QueryFpCount']\n",
    "    return px.scatter(df, x=x, y=y, color='Experiment', title=title, hover_data=hover_data, marginal_x='box', marginal_y='box')"
   ]
  },
  {
   "cell_type": "code",
   "execution_count": 31,
   "id": "c1a8a16c-e987-4058-b51a-3488a243d215",
   "metadata": {},
   "outputs": [],
   "source": [
    "plugins = [\n",
    "    plg.DataFilterRadioButtons(\n",
    "        header='Resolution of Stats',\n",
    "        data_col='StatsType',\n",
    "        data_values=['Event', 'Base']\n",
    "    )\n",
    "]\n",
    "if COVARIATE_X is not None:\n",
    "    plugins += [make_stat_selector(['Precision', 'Recall', 'Fscore'])]\n",
    "\n",
    "basic_wittyer_plot = qbb.PlotPanel(\n",
    "    header='Precision vs Recall Plots by Bin',\n",
    "    plotter=make_basic_wittyer_plot,\n",
    "    plot_inputs={},\n",
    "    data_source=wittyer_stats_df,\n",
    "    plugins=plugins\n",
    ")"
   ]
  },
  {
   "cell_type": "code",
   "execution_count": 32,
   "id": "b3785e58-fe2b-48d8-9eaa-97b28dd54f5b",
   "metadata": {},
   "outputs": [],
   "source": [
    "sidebar_plugins = [\n",
    "    make_type_selector(wittyer_stats_df),\n",
    "    plg.DataFilterRadioButtons(\n",
    "        header='SV Size Bin',\n",
    "        data_col='Bin',\n",
    "        data_values=wittyer_bins\n",
    "    ),\n",
    "    make_axes_mode_selector()\n",
    "]\n",
    "\n",
    "basic_wittyer_tab = qbb.BaseTab(\n",
    "    tab_label='Basic Wittyer',\n",
    "    tab_header='Basic Wittyer Stats',\n",
    "    content_list=[\n",
    "        basic_wittyer_plot\n",
    "    ],\n",
    "    sidebar_plugins=sidebar_plugins\n",
    ")"
   ]
  },
  {
   "cell_type": "code",
   "execution_count": null,
   "id": "82f9af40-a631-44da-aca6-426b7832fd84",
   "metadata": {},
   "outputs": [],
   "source": []
  },
  {
   "cell_type": "code",
   "execution_count": null,
   "id": "ca72dc01-195f-4058-910d-8a7cd9347f4b",
   "metadata": {},
   "outputs": [],
   "source": []
  },
  {
   "cell_type": "markdown",
   "id": "f57027a6-5b2f-44db-ac49-b542c694b6ff",
   "metadata": {
    "tags": []
   },
   "source": [
    "### Adv Wittyer Tab"
   ]
  },
  {
   "cell_type": "code",
   "execution_count": 33,
   "id": "cfc8d283-4c5c-4d33-a2e8-4a5a88900d37",
   "metadata": {},
   "outputs": [],
   "source": [
    "def add_recall(df):\n",
    "    if len(df[(df['VCF'] == 'truth') & (df['WIT'] == 'TP')]['count']) > 0:\n",
    "        tp = df[(df['VCF'] == 'truth') & (df['WIT'] == 'TP')]['count'].values[0]\n",
    "    else:\n",
    "        tp = 0\n",
    "    \n",
    "    if len(df[(df['WIT'] == 'FN')]['count']) > 0:\n",
    "        fn = df[(df['WIT'] == 'FN')]['count'].values[0]\n",
    "    else:\n",
    "        fn = 0\n",
    "    df['Recall'] = tp / (tp + fn) if tp + fn > 0 else np.nan\n",
    "    df['TP-Base'] = tp\n",
    "    df['FN'] = fn\n",
    "    return df\n",
    "\n",
    "def add_precision(df):\n",
    "    if len(df[(df['VCF'] == 'query') & (df['WIT'] == 'TP')]['count']) > 0:\n",
    "        tp = df[(df['VCF'] == 'query') & (df['WIT'] == 'TP')]['count'].values[0]\n",
    "    else:\n",
    "        tp = 0\n",
    "    \n",
    "    if len(df[(df['WIT'] == 'FP')]['count']) > 0:\n",
    "        fp = df[(df['WIT'] == 'FP')]['count'].values[0]\n",
    "    else:\n",
    "        fp = 0\n",
    "    df['Precision'] = tp / (tp + fp) if tp + fp > 0 else np.nan\n",
    "    df['TP-Comp'] = tp\n",
    "    df['FP'] = fp\n",
    "    return df\n",
    "\n",
    "def add_f1(df):\n",
    "    df['F1_Score'] = 2 * df['Recall'] * df['Precision'] / (df['Recall'] + df['Precision'])\n",
    "    return df"
   ]
  },
  {
   "cell_type": "code",
   "execution_count": 34,
   "id": "453c06e2-c97f-46a4-9b0f-8bfd14d74c04",
   "metadata": {},
   "outputs": [],
   "source": [
    "@axes_mode\n",
    "@interval_filter\n",
    "@filter_or_all_factory('SVTYPE')\n",
    "@gt_match\n",
    "def make_adv_wittyer_plot(df, interval_name, breakpoint, pct_overlap, gt_match, SVTYPE, axes_mode, stat='Precision'):\n",
    "    title = 'Advanced Plot of Wittyer Stats'\n",
    "    title = title + f' over {interval_name} (w/ {int(pct_overlap[0])}-{int(pct_overlap[1])}% overlap)<br></br>'\n",
    "    y = stat\n",
    "    \n",
    "    grouping = ['TruthSample', 'QuerySample', 'Experiment']\n",
    "    if COVARIATE_X is not None:\n",
    "        grouping += [COVARIATE_X]\n",
    "        x = COVARIATE_X\n",
    "    else:\n",
    "        x = 'Recall'\n",
    "    counts_df = df.groupby(grouping + ['VCF'])['WIT'].value_counts().reset_index(name='count')\n",
    "    \n",
    "    # Add recall/precision stats\n",
    "    counts_df = counts_df.groupby(grouping).apply(add_recall).reset_index(drop=True)\n",
    "    counts_df = counts_df.groupby(grouping).apply(add_precision).reset_index(drop=True)\n",
    "    counts_df = counts_df.groupby(grouping).apply(add_f1).reset_index(drop=True)\n",
    "    \n",
    "    # Remove rows redundant for stats\n",
    "    counts_df = counts_df.groupby(grouping).apply(lambda df: df.iloc[0]).reset_index(drop=True)\n",
    "    if len(counts_df) == 0:\n",
    "        # counts_df.columns += ['Precision', 'Recall', 'F1_Score']    # Fix unhelpful error message when filters reduce to nothing\n",
    "        fig = go.Figure()\n",
    "        fig.update_layout(title='No variants found with given conditions')\n",
    "        return fig\n",
    "    \n",
    "    hover_data = ['QuerySample', 'TruthSample', 'TP-Base', 'FN', 'TP-Comp', 'FP']\n",
    "    fig = px.scatter(counts_df, x=x, y=y, title=title, color='Experiment', hover_data=hover_data, marginal_x='box', marginal_y='box')\n",
    "    return fig"
   ]
  },
  {
   "cell_type": "code",
   "execution_count": 35,
   "id": "5db14bc4-8070-4e31-8611-6339a8602999",
   "metadata": {},
   "outputs": [],
   "source": [
    "plugins = [\n",
    "    plg.PlotInputRadioButtons(\n",
    "    header='Force Match GT',\n",
    "    plot_input='gt_match',\n",
    "    data_values=['False', 'True']\n",
    ")]\n",
    "\n",
    "if COVARIATE_X is not None:\n",
    "    plugins += [make_stat_selector(['Precision', 'Recall', 'F1_Score'])]\n",
    "\n",
    "adv_wittyer_plot = qbb.PlotPanel(\n",
    "    header='Advanced Wittyer Plot',\n",
    "    plotter=make_adv_wittyer_plot,\n",
    "    plot_inputs={},\n",
    "    data_source=adv_wittyer_df,\n",
    "    plugins=plugins\n",
    ")"
   ]
  },
  {
   "cell_type": "code",
   "execution_count": 36,
   "id": "58c1b055-720a-4d52-bcab-5d28b17d9194",
   "metadata": {},
   "outputs": [],
   "source": [
    "sidebar_plugins = make_interval_plugin_bundle(adv_wittyer_df) + [\n",
    "    plg.PlotInputRadioButtons(\n",
    "        header=\"Variant Type\",\n",
    "        plot_input='SVTYPE',\n",
    "        data_values=['ALL'] + list(adv_wittyer_df['SVTYPE'].unique())\n",
    "    ),\n",
    "    make_axes_mode_selector(),\n",
    "    make_filter_selector(adv_wittyer_df)\n",
    "]\n",
    "\n",
    "adv_wittyer_tab = qbb.BaseTab(\n",
    "    tab_label='Adv Wittyer',\n",
    "    tab_header='Adv Wittyer Plots',\n",
    "    content_list=[\n",
    "        adv_wittyer_plot\n",
    "    ],\n",
    "    sidebar_plugins=sidebar_plugins\n",
    ")"
   ]
  },
  {
   "cell_type": "code",
   "execution_count": null,
   "id": "30a76e7e-e080-41c7-9408-1fe858875d6a",
   "metadata": {},
   "outputs": [],
   "source": []
  },
  {
   "cell_type": "code",
   "execution_count": null,
   "id": "d6d21607-cbd1-4520-addf-2309a28835ed",
   "metadata": {},
   "outputs": [],
   "source": []
  },
  {
   "cell_type": "markdown",
   "id": "fbc315d7-878d-4818-b011-7768bd58c91d",
   "metadata": {
    "tags": []
   },
   "source": [
    "### Truvari Bench Tab"
   ]
  },
  {
   "cell_type": "code",
   "execution_count": 37,
   "id": "2c841ba2-c382-4962-b8dd-e25fed6e26e8",
   "metadata": {},
   "outputs": [],
   "source": [
    "@axes_mode\n",
    "def make_truvari_bench_plot(df, axes_mode, stat='precision'):\n",
    "    if COVARIATE_X is not None:\n",
    "        x = COVARIATE_X\n",
    "        y = stat\n",
    "        title = f'{y} vs {x} Plot'\n",
    "    else:\n",
    "        x = 'recall'\n",
    "        y = 'precision'\n",
    "        title = 'Precision vs Recall Plot'\n",
    "    \n",
    "    type_ = df['SVTYPE'].iloc[0] if len(df) > 0 else \"Empty df\"\n",
    "    title += f' for SVTYPE {type_}'\n",
    "    \n",
    "    interval = df['Interval'].iloc[0] if len(df) > 0 else \"Empty df\"\n",
    "    title += f' over {interval}'\n",
    "    \n",
    "    hover_data = ['Comp_Name', 'Base_Name', 'TP-base', 'FN', 'TP-comp', 'FP']\n",
    "    return px.scatter(df, x=x, y=y, color='Experiment', title=title, hover_data=hover_data, marginal_x='box', marginal_y='box')\n",
    "    # return px.scatter(df, x='recall', y='precision', color='Comp_Name')"
   ]
  },
  {
   "cell_type": "code",
   "execution_count": 38,
   "id": "b2a50317-c6c1-4642-a1f3-a808fb165b61",
   "metadata": {},
   "outputs": [],
   "source": [
    "truvari_bench_plot = qbb.PlotPanel(\n",
    "    header='Truvari Benchmarks',\n",
    "    plotter=make_truvari_bench_plot,\n",
    "    plot_inputs={},\n",
    "    data_source=truvari_bench_df,\n",
    "    plugins=[make_stat_selector(['precision', 'recall', 'f1'])] if COVARIATE_X is not None else []\n",
    ")"
   ]
  },
  {
   "cell_type": "code",
   "execution_count": 39,
   "id": "b1effa40-c019-49f2-bf87-fce8990bd0a5",
   "metadata": {},
   "outputs": [],
   "source": [
    "truvari_bench_tab = qbb.BaseTab(\n",
    "    tab_label='Truvari Bench',\n",
    "    tab_header='',\n",
    "    content_list=[\n",
    "        truvari_bench_plot\n",
    "    ],\n",
    "    sidebar_plugins=[\n",
    "        make_interval_selector(truvari_bench_df),\n",
    "        make_type_selector(truvari_bench_df),\n",
    "        make_axes_mode_selector()\n",
    "    ]\n",
    ")"
   ]
  },
  {
   "cell_type": "code",
   "execution_count": null,
   "id": "27e25c45-70ed-4f55-8bd6-1ef8eda27280",
   "metadata": {},
   "outputs": [],
   "source": []
  },
  {
   "cell_type": "markdown",
   "id": "9065f318-a18b-4b36-9127-6a17cca89ee7",
   "metadata": {
    "tags": []
   },
   "source": [
    "### Truvari Errors Tab"
   ]
  },
  {
   "cell_type": "code",
   "execution_count": 40,
   "id": "5aced53e-f414-4722-936b-f5e3730e9251",
   "metadata": {},
   "outputs": [],
   "source": [
    "def make_closest_plot(df, sort_by, asc, mode):\n",
    "    title = f'Counts of Disqualified (FP) Sites (N = {len(df)})'\n",
    "    asc = asc == 'Ascending'\n",
    "    disq_df = make_disqualified_df(df, dist_threshold=500, size_ratio_threshold=0.7, color='kth_closest')\n",
    "    fig = create_upset(disq_df, title=title, sort_by=sort_by, asc=asc, mode=mode, color='kth_closest')\n",
    "    return fig"
   ]
  },
  {
   "cell_type": "code",
   "execution_count": 41,
   "id": "6d8b5610-9576-4bab-a61e-6343ea8e1e36",
   "metadata": {},
   "outputs": [],
   "source": [
    "fp_plot = qbb.PlotPanel(\n",
    "    header='FP Stats',\n",
    "    plotter=make_closest_plot,\n",
    "    plot_inputs={\n",
    "        \n",
    "    },\n",
    "    data_source=truvari_fp_closest_df,\n",
    "    plugins=[\n",
    "        plg.PlotInputRadioButtons(\n",
    "            header='Sort By',\n",
    "            plot_input='sort_by',\n",
    "            data_values=['Counts', 'Intersections']\n",
    "        ),\n",
    "        plg.PlotInputRadioButtons(\n",
    "            header='Sort Order',\n",
    "            plot_input='asc',\n",
    "            data_values=['Descending', 'Ascending']\n",
    "        ),\n",
    "        plg.PlotInputRadioButtons(\n",
    "            header='Bar Mode',\n",
    "            plot_input='mode',\n",
    "            data_values=['Counts', 'Percent']\n",
    "        )\n",
    "    ],\n",
    "    plugin_wrap=3\n",
    ")\n",
    "\n",
    "fn_plot = qbb.PlotPanel(\n",
    "    header='FN Stats',\n",
    "    plotter=make_closest_plot,\n",
    "    plot_inputs={\n",
    "        \n",
    "    },\n",
    "    data_source=truvari_fn_closest_df,\n",
    "    plugins=[\n",
    "        plg.PlotInputRadioButtons(\n",
    "            header='Sort By',\n",
    "            plot_input='sort_by',\n",
    "            data_values=['Counts', 'Intersections']\n",
    "        ),\n",
    "        plg.PlotInputRadioButtons(\n",
    "            header='Sort Order',\n",
    "            plot_input='asc',\n",
    "            data_values=['Descending', 'Ascending']\n",
    "        ),\n",
    "        plg.PlotInputRadioButtons(\n",
    "            header='Bar Mode',\n",
    "            plot_input='mode',\n",
    "            data_values=['Counts', 'Percent']\n",
    "        )\n",
    "    ],\n",
    "    plugin_wrap=3\n",
    ")"
   ]
  },
  {
   "cell_type": "code",
   "execution_count": 42,
   "id": "a224a42b-7a04-44f8-af39-2b2496338d0e",
   "metadata": {},
   "outputs": [],
   "source": [
    "truvari_errors_tab = qbb.BaseTab(\n",
    "    tab_label='Truvari Errors',\n",
    "    tab_header='Truvari Stats on Mismatched Variants',\n",
    "    content_list=[\n",
    "        fp_plot,\n",
    "        fn_plot\n",
    "    ],\n",
    "    sidebar_plugins=[\n",
    "        \n",
    "    ]\n",
    ")"
   ]
  },
  {
   "cell_type": "code",
   "execution_count": null,
   "id": "9e0e6eeb-7c09-443a-b5f3-ba678fca6b6f",
   "metadata": {},
   "outputs": [],
   "source": []
  },
  {
   "cell_type": "markdown",
   "id": "79cb52f3-a262-4029-b00e-ebe10aa7dab8",
   "metadata": {},
   "source": [
    "## Main Board"
   ]
  },
  {
   "cell_type": "code",
   "execution_count": 43,
   "id": "812f58a2-6546-4828-9578-2dfc11d98bf4",
   "metadata": {},
   "outputs": [],
   "source": [
    "board = qbb.Quickboard(\n",
    "    tab_list=[\n",
    "        counts_tab,\n",
    "        hwe_tab,\n",
    "        basic_wittyer_tab,\n",
    "        adv_wittyer_tab,\n",
    "        truvari_bench_tab,\n",
    "        truvari_errors_tab,\n",
    "    ]\n",
    ")"
   ]
  },
  {
   "cell_type": "code",
   "execution_count": 44,
   "id": "66f0c2de-9207-49e7-ae04-4d243ca42d44",
   "metadata": {},
   "outputs": [
    {
     "name": "stdout",
     "output_type": "stream",
     "text": [
      "Dash is running on http://127.0.0.1:8050/\n",
      "\n",
      "Dash app running on http://127.0.0.1:8050/\n"
     ]
    }
   ],
   "source": [
    "start_app(board, app_title='SVisualizer', mode='external', port=8050)"
   ]
  },
  {
   "cell_type": "code",
   "execution_count": null,
   "id": "fb2b5e51-4d7f-4c95-a9e2-0a919a3d01f9",
   "metadata": {},
   "outputs": [],
   "source": []
  },
  {
   "cell_type": "code",
   "execution_count": null,
   "id": "a42fc9c9-56de-4b5c-9ade-cd9ca9aa5028",
   "metadata": {
    "tags": []
   },
   "outputs": [],
   "source": []
  },
  {
   "cell_type": "code",
   "execution_count": 45,
   "id": "567a9b79-fe66-473f-969c-bb37109f7947",
   "metadata": {
    "tags": []
   },
   "outputs": [],
   "source": [
    "# adv_wittyer_df"
   ]
  },
  {
   "cell_type": "code",
   "execution_count": null,
   "id": "505223ad-c100-434e-9066-3af72662a4ef",
   "metadata": {},
   "outputs": [],
   "source": []
  },
  {
   "cell_type": "code",
   "execution_count": null,
   "id": "0f5ec300-007b-4ee1-967e-253795af9a7c",
   "metadata": {},
   "outputs": [],
   "source": []
  }
 ],
 "metadata": {
  "kernelspec": {
   "display_name": "quickboard_venv",
   "language": "python",
   "name": "quickboard_venv"
  },
  "language_info": {
   "codemirror_mode": {
    "name": "ipython",
    "version": 3
   },
   "file_extension": ".py",
   "mimetype": "text/x-python",
   "name": "python",
   "nbconvert_exporter": "python",
   "pygments_lexer": "ipython3",
   "version": "3.9.6"
  }
 },
 "nbformat": 4,
 "nbformat_minor": 5
}
